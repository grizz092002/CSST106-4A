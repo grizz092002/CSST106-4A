{
  "nbformat": 4,
  "nbformat_minor": 0,
  "metadata": {
    "colab": {
      "provenance": [],
      "gpuType": "T4",
      "collapsed_sections": [
        "lqdIsfhrHpHH",
        "YlVunw5qL-vE",
        "E5OIjhrqMPek"
      ]
    },
    "kernelspec": {
      "name": "python3",
      "display_name": "Python 3"
    },
    "language_info": {
      "name": "python"
    },
    "accelerator": "GPU"
  },
  "cells": [
    {
      "cell_type": "markdown",
      "source": [
        "# DOWNLOAD DATASET"
      ],
      "metadata": {
        "id": "lqdIsfhrHpHH"
      }
    },
    {
      "cell_type": "code",
      "source": [
        "! curl -L \"https://universe.roboflow.com/ds/s9dtaKbZcY?key=9EZdcq30dg\" > roboflow.zip; unzip roboflow.zip; rm roboflow.zip"
      ],
      "metadata": {
        "colab": {
          "base_uri": "https://localhost:8080/"
        },
        "id": "BFgWsoXNu9Nu",
        "outputId": "1208162b-2694-454b-d0ec-d964dcb3ef5b"
      },
      "execution_count": null,
      "outputs": [
        {
          "output_type": "stream",
          "name": "stdout",
          "text": [
            "  % Total    % Received % Xferd  Average Speed   Time    Time     Time  Current\n",
            "                                 Dload  Upload   Total   Spent    Left  Speed\n",
            "100   904  100   904    0     0   3150      0 --:--:-- --:--:-- --:--:--  3160\n",
            "100 29.3M  100 29.3M    0     0  23.5M      0  0:00:01  0:00:01 --:--:-- 39.2M\n",
            "Archive:  roboflow.zip\n",
            "  inflating: README.dataset.txt      \n",
            "  inflating: README.roboflow.txt     \n",
            "  inflating: data.yaml               \n",
            "   creating: test/\n",
            "   creating: test/images/\n",
            " extracting: test/images/20241012-224209_png.rf.45c515e451e28d2efc6312b93f715aec.jpg  \n",
            " extracting: test/images/20241013-121203_png.rf.ebcc20ab64a6cd427b664a2f2ff7874b.jpg  \n",
            " extracting: test/images/20241013-121423_png.rf.1486a449ed6d86ac59a4aab97a648ec8.jpg  \n",
            " extracting: test/images/20241013-121514_png.rf.a5d3919fd6c127a3a95e1becf3bfaebd.jpg  \n",
            " extracting: test/images/20241016-170537_png.rf.d05f94705da738848e41c31268d1f79b.jpg  \n",
            " extracting: test/images/20241016-170538_png.rf.48296749673c3968d029d567d6e08b9d.jpg  \n",
            " extracting: test/images/20241016-170613-2_png.rf.b39fc6e5b74c22e38ccacde6f7f124ee.jpg  \n",
            " extracting: test/images/20241016-170821_png.rf.aa22341ce7237075a6c133719e1fd357.jpg  \n",
            " extracting: test/images/20241016-170827_png.rf.9eec9e17a8ac57ffd28bb1461a3361a7.jpg  \n",
            " extracting: test/images/20241016-170844_png.rf.7a7901fc0cf637e9748f757cfa19549c.jpg  \n",
            " extracting: test/images/20241016-171028-2_png.rf.44fd10ec02ba8300a73ec185ad0f87b3.jpg  \n",
            " extracting: test/images/20241016-171045_png.rf.701033794634976eb10e14c0595eeff6.jpg  \n",
            " extracting: test/images/20241016-171106_png.rf.d87e874566e183ceed711f04077f07b4.jpg  \n",
            " extracting: test/images/20241016-171111_png.rf.93f19fdbdf06331ce056edd5e657fa97.jpg  \n",
            " extracting: test/images/20241016-171131_png.rf.346b8941af92021e62d081d2df94e536.jpg  \n",
            " extracting: test/images/20241016-171204_png.rf.20a47cbb6de8123ce16c5e79309c7bed.jpg  \n",
            " extracting: test/images/20241016-171253_png.rf.eb6abbc745329700ba3e28878016fbdd.jpg  \n",
            " extracting: test/images/20241017-210711_png.rf.6a95405b862e1d33270b421b1e8fca8c.jpg  \n",
            " extracting: test/images/20241017-210735_png.rf.d2ef9b9c7e57365a202706f8938b97c1.jpg  \n",
            " extracting: test/images/20241017-210922_png.rf.47e354e23950edced29f54edb150c2af.jpg  \n",
            " extracting: test/images/20241017-211118_png.rf.7c412d572610d5ef33f908bb356aef3d.jpg  \n",
            " extracting: test/images/20241017-211219_png.rf.60d7db2e133c2acda15b85d80888af90.jpg  \n",
            " extracting: test/images/20241017-211234_png.rf.0aa91407a87344099226871fe724abee.jpg  \n",
            " extracting: test/images/20241017-211414_png.rf.cac273c1a616ee00815d3067deb46041.jpg  \n",
            " extracting: test/images/20241017-211807_png.rf.54a6d178c49fadb7af75cf87d521b03c.jpg  \n",
            " extracting: test/images/20241020-161440_png.rf.78c251c0d114a8fea878d77811350617.jpg  \n",
            " extracting: test/images/20241020-161509_png.rf.def7d80845623d0c0d4f7257e1c26d0e.jpg  \n",
            " extracting: test/images/20241020-161530_png.rf.f0db4bbba604aa22fc9509e93837dae4.jpg  \n",
            " extracting: test/images/20241020-161725_png.rf.bc5d5405b1b3f7c0d5fcd75d266dfb19.jpg  \n",
            " extracting: test/images/20241020-161928_png.rf.c43baf9e7ee357fd723154dad2a8f502.jpg  \n",
            " extracting: test/images/20241020-162035_png.rf.75c172f1c9a1a9b952782677f396c1a4.jpg  \n",
            " extracting: test/images/20241020-162041_png.rf.016ff25578926291ae31202bb928d535.jpg  \n",
            " extracting: test/images/20241020-162337_png.rf.0850537c289e3aaf3f1925eeded804e9.jpg  \n",
            " extracting: test/images/20241020-162513_png.rf.42a8d3c5acc1d2087881d65658ccc751.jpg  \n",
            " extracting: test/images/20241020-162543_png.rf.beedcc8b910b5e0b7d1d37ecb813a9d4.jpg  \n",
            " extracting: test/images/20241020-162652-2_png.rf.bcd358db6398a3ae9abbc1dce4f36c79.jpg  \n",
            " extracting: test/images/20241020-180940_png.rf.4b7193a8e0bc24b233bc620e254ef5b4.jpg  \n",
            " extracting: test/images/20241020-181032_png.rf.674f9d87e74f761a0457b342ced58a4c.jpg  \n",
            " extracting: test/images/20241020-181048_png.rf.714ac8c6e28e91f3fa90a279bd301107.jpg  \n",
            " extracting: test/images/20241020-181126_png.rf.133fb33e60f0f7dfa20ddd49e42933d5.jpg  \n",
            " extracting: test/images/20241020-181137_png.rf.5ddccc90ddec189166be28084b0cfa69.jpg  \n",
            " extracting: test/images/20241020-181300_png.rf.8cd0787645f72512ad2fceeec72d1f40.jpg  \n",
            " extracting: test/images/20241020-181529_png.rf.ddf37c02d2f529c7397eb414e5d397a8.jpg  \n",
            " extracting: test/images/20241020-181941_png.rf.cf3236a6a46d8efd947fe06d408c12c2.jpg  \n",
            " extracting: test/images/20241020-182322_png.rf.33bc7bd481156abc7e9c679d6f7871e7.jpg  \n",
            " extracting: test/images/20241020-182620_png.rf.8e6e0051f02cb18920f45f40a50a6a8f.jpg  \n",
            " extracting: test/images/20241020-183222_png.rf.a13e7a6fc5516843e72023779d5b1b62.jpg  \n",
            " extracting: test/images/20241020-183225_png.rf.8cc033321509216764614c24724ddb15.jpg  \n",
            " extracting: test/images/20241020-183232_png.rf.b485d7290a32bd211ad3820dbf8abe85.jpg  \n",
            " extracting: test/images/20241020-183240_png.rf.774fcfe2e1dd9fab1ef8924149385f29.jpg  \n",
            " extracting: test/images/20241020-183529_png.rf.e9cc13614907588bf2adeed16a9bb7fa.jpg  \n",
            " extracting: test/images/20241020-221355_png.rf.8d828884ff8e5a2ff3d8d5768db84d4c.jpg  \n",
            " extracting: test/images/20241020-221630_png.rf.a386d911117580e8df81ae72a67bb0fc.jpg  \n",
            " extracting: test/images/20241020-222023_png.rf.d764689e743d07884293a8109ee27c47.jpg  \n",
            " extracting: test/images/20241020-222034_png.rf.cee4b977048873ab5236bdbcadad45e3.jpg  \n",
            " extracting: test/images/20241020-222129_png.rf.9e180cc8350d7f8fc235eb4484989615.jpg  \n",
            " extracting: test/images/20241020-222241_png.rf.ccd5a7890615380a3164d13adcc6dc1b.jpg  \n",
            " extracting: test/images/20241020-222248_png.rf.46965179a2fc09838bdc94b8d2984b06.jpg  \n",
            " extracting: test/images/20241020-222603_png.rf.4ead1cd76816fa100f1f4ac9b5784113.jpg  \n",
            " extracting: test/images/20241020-222632_png.rf.1c60d81398dee150ba318a2b744066f7.jpg  \n",
            " extracting: test/images/20241020-222704_png.rf.c47299c2e3bf22447c0b4502d8320c46.jpg  \n",
            " extracting: test/images/20241020-223143_png.rf.a4664b638d124bc75aea5d361840e71e.jpg  \n",
            " extracting: test/images/20241020-223235-copie_png.rf.36d3c1d84ef074f825ab903813726d48.jpg  \n",
            " extracting: test/images/20241020-223335_png.rf.6a35d3e91ea9fc0227f7c47f9e3ebcae.jpg  \n",
            " extracting: test/images/20241020-223344_png.rf.1460451bc4a438c141071f586ec1a2d7.jpg  \n",
            " extracting: test/images/20241020-223422_png.rf.7d5e1f2f043424921a4efbbb926d1f8c.jpg  \n",
            " extracting: test/images/20241020-223514_png.rf.c9b69ebe5a5b937dad26fb42dd8aa82a.jpg  \n",
            " extracting: test/images/20241020-223556_png.rf.9df821a6709a7fed43d63aa9fd7234f5.jpg  \n",
            " extracting: test/images/20241020-223621_png.rf.8a2c059fccc54af2a08e0f491f99f172.jpg  \n",
            " extracting: test/images/20241020-223926-copie_png.rf.17b6ce122255b3f05c8484784233c7ec.jpg  \n",
            " extracting: test/images/20241020-224334_png.rf.f984e9ac114af6f2ad31524bc17c25f9.jpg  \n",
            "   creating: test/labels/\n",
            "  inflating: test/labels/20241012-224209_png.rf.45c515e451e28d2efc6312b93f715aec.txt  \n",
            "  inflating: test/labels/20241013-121203_png.rf.ebcc20ab64a6cd427b664a2f2ff7874b.txt  \n",
            "  inflating: test/labels/20241013-121423_png.rf.1486a449ed6d86ac59a4aab97a648ec8.txt  \n",
            "  inflating: test/labels/20241013-121514_png.rf.a5d3919fd6c127a3a95e1becf3bfaebd.txt  \n",
            "  inflating: test/labels/20241016-170537_png.rf.d05f94705da738848e41c31268d1f79b.txt  \n",
            "  inflating: test/labels/20241016-170538_png.rf.48296749673c3968d029d567d6e08b9d.txt  \n",
            "  inflating: test/labels/20241016-170613-2_png.rf.b39fc6e5b74c22e38ccacde6f7f124ee.txt  \n",
            "  inflating: test/labels/20241016-170821_png.rf.aa22341ce7237075a6c133719e1fd357.txt  \n",
            "  inflating: test/labels/20241016-170827_png.rf.9eec9e17a8ac57ffd28bb1461a3361a7.txt  \n",
            "  inflating: test/labels/20241016-170844_png.rf.7a7901fc0cf637e9748f757cfa19549c.txt  \n",
            "  inflating: test/labels/20241016-171028-2_png.rf.44fd10ec02ba8300a73ec185ad0f87b3.txt  \n",
            "  inflating: test/labels/20241016-171045_png.rf.701033794634976eb10e14c0595eeff6.txt  \n",
            "  inflating: test/labels/20241016-171106_png.rf.d87e874566e183ceed711f04077f07b4.txt  \n",
            "  inflating: test/labels/20241016-171111_png.rf.93f19fdbdf06331ce056edd5e657fa97.txt  \n",
            "  inflating: test/labels/20241016-171131_png.rf.346b8941af92021e62d081d2df94e536.txt  \n",
            "  inflating: test/labels/20241016-171204_png.rf.20a47cbb6de8123ce16c5e79309c7bed.txt  \n",
            "  inflating: test/labels/20241016-171253_png.rf.eb6abbc745329700ba3e28878016fbdd.txt  \n",
            "  inflating: test/labels/20241017-210711_png.rf.6a95405b862e1d33270b421b1e8fca8c.txt  \n",
            "  inflating: test/labels/20241017-210735_png.rf.d2ef9b9c7e57365a202706f8938b97c1.txt  \n",
            "  inflating: test/labels/20241017-210922_png.rf.47e354e23950edced29f54edb150c2af.txt  \n",
            "  inflating: test/labels/20241017-211118_png.rf.7c412d572610d5ef33f908bb356aef3d.txt  \n",
            "  inflating: test/labels/20241017-211219_png.rf.60d7db2e133c2acda15b85d80888af90.txt  \n",
            "  inflating: test/labels/20241017-211234_png.rf.0aa91407a87344099226871fe724abee.txt  \n",
            "  inflating: test/labels/20241017-211414_png.rf.cac273c1a616ee00815d3067deb46041.txt  \n",
            "  inflating: test/labels/20241017-211807_png.rf.54a6d178c49fadb7af75cf87d521b03c.txt  \n",
            "  inflating: test/labels/20241020-161440_png.rf.78c251c0d114a8fea878d77811350617.txt  \n",
            "  inflating: test/labels/20241020-161509_png.rf.def7d80845623d0c0d4f7257e1c26d0e.txt  \n",
            "  inflating: test/labels/20241020-161530_png.rf.f0db4bbba604aa22fc9509e93837dae4.txt  \n",
            "  inflating: test/labels/20241020-161725_png.rf.bc5d5405b1b3f7c0d5fcd75d266dfb19.txt  \n",
            "  inflating: test/labels/20241020-161928_png.rf.c43baf9e7ee357fd723154dad2a8f502.txt  \n",
            "  inflating: test/labels/20241020-162035_png.rf.75c172f1c9a1a9b952782677f396c1a4.txt  \n",
            "  inflating: test/labels/20241020-162041_png.rf.016ff25578926291ae31202bb928d535.txt  \n",
            "  inflating: test/labels/20241020-162337_png.rf.0850537c289e3aaf3f1925eeded804e9.txt  \n",
            "  inflating: test/labels/20241020-162513_png.rf.42a8d3c5acc1d2087881d65658ccc751.txt  \n",
            "  inflating: test/labels/20241020-162543_png.rf.beedcc8b910b5e0b7d1d37ecb813a9d4.txt  \n",
            "  inflating: test/labels/20241020-162652-2_png.rf.bcd358db6398a3ae9abbc1dce4f36c79.txt  \n",
            "  inflating: test/labels/20241020-180940_png.rf.4b7193a8e0bc24b233bc620e254ef5b4.txt  \n",
            "  inflating: test/labels/20241020-181032_png.rf.674f9d87e74f761a0457b342ced58a4c.txt  \n",
            "  inflating: test/labels/20241020-181048_png.rf.714ac8c6e28e91f3fa90a279bd301107.txt  \n",
            "  inflating: test/labels/20241020-181126_png.rf.133fb33e60f0f7dfa20ddd49e42933d5.txt  \n",
            "  inflating: test/labels/20241020-181137_png.rf.5ddccc90ddec189166be28084b0cfa69.txt  \n",
            "  inflating: test/labels/20241020-181300_png.rf.8cd0787645f72512ad2fceeec72d1f40.txt  \n",
            "  inflating: test/labels/20241020-181529_png.rf.ddf37c02d2f529c7397eb414e5d397a8.txt  \n",
            "  inflating: test/labels/20241020-181941_png.rf.cf3236a6a46d8efd947fe06d408c12c2.txt  \n",
            "  inflating: test/labels/20241020-182322_png.rf.33bc7bd481156abc7e9c679d6f7871e7.txt  \n",
            "  inflating: test/labels/20241020-182620_png.rf.8e6e0051f02cb18920f45f40a50a6a8f.txt  \n",
            "  inflating: test/labels/20241020-183222_png.rf.a13e7a6fc5516843e72023779d5b1b62.txt  \n",
            "  inflating: test/labels/20241020-183225_png.rf.8cc033321509216764614c24724ddb15.txt  \n",
            "  inflating: test/labels/20241020-183232_png.rf.b485d7290a32bd211ad3820dbf8abe85.txt  \n",
            "  inflating: test/labels/20241020-183240_png.rf.774fcfe2e1dd9fab1ef8924149385f29.txt  \n",
            "  inflating: test/labels/20241020-183529_png.rf.e9cc13614907588bf2adeed16a9bb7fa.txt  \n",
            "  inflating: test/labels/20241020-221355_png.rf.8d828884ff8e5a2ff3d8d5768db84d4c.txt  \n",
            "  inflating: test/labels/20241020-221630_png.rf.a386d911117580e8df81ae72a67bb0fc.txt  \n",
            "  inflating: test/labels/20241020-222023_png.rf.d764689e743d07884293a8109ee27c47.txt  \n",
            "  inflating: test/labels/20241020-222034_png.rf.cee4b977048873ab5236bdbcadad45e3.txt  \n",
            "  inflating: test/labels/20241020-222129_png.rf.9e180cc8350d7f8fc235eb4484989615.txt  \n",
            "  inflating: test/labels/20241020-222241_png.rf.ccd5a7890615380a3164d13adcc6dc1b.txt  \n",
            "  inflating: test/labels/20241020-222248_png.rf.46965179a2fc09838bdc94b8d2984b06.txt  \n",
            "  inflating: test/labels/20241020-222603_png.rf.4ead1cd76816fa100f1f4ac9b5784113.txt  \n",
            "  inflating: test/labels/20241020-222632_png.rf.1c60d81398dee150ba318a2b744066f7.txt  \n",
            "  inflating: test/labels/20241020-222704_png.rf.c47299c2e3bf22447c0b4502d8320c46.txt  \n",
            "  inflating: test/labels/20241020-223143_png.rf.a4664b638d124bc75aea5d361840e71e.txt  \n",
            "  inflating: test/labels/20241020-223235-copie_png.rf.36d3c1d84ef074f825ab903813726d48.txt  \n",
            "  inflating: test/labels/20241020-223335_png.rf.6a35d3e91ea9fc0227f7c47f9e3ebcae.txt  \n",
            "  inflating: test/labels/20241020-223344_png.rf.1460451bc4a438c141071f586ec1a2d7.txt  \n",
            "  inflating: test/labels/20241020-223422_png.rf.7d5e1f2f043424921a4efbbb926d1f8c.txt  \n",
            "  inflating: test/labels/20241020-223514_png.rf.c9b69ebe5a5b937dad26fb42dd8aa82a.txt  \n",
            "  inflating: test/labels/20241020-223556_png.rf.9df821a6709a7fed43d63aa9fd7234f5.txt  \n",
            "  inflating: test/labels/20241020-223621_png.rf.8a2c059fccc54af2a08e0f491f99f172.txt  \n",
            "  inflating: test/labels/20241020-223926-copie_png.rf.17b6ce122255b3f05c8484784233c7ec.txt  \n",
            "  inflating: test/labels/20241020-224334_png.rf.f984e9ac114af6f2ad31524bc17c25f9.txt  \n",
            "   creating: train/\n",
            "   creating: train/images/\n",
            " extracting: train/images/20241012-224046_png.rf.0bd7cad93bc54c302202d43df99a2c35.jpg  \n",
            " extracting: train/images/20241012-224113_png.rf.3a29e8606718f541c3c0f196fd5011ef.jpg  \n",
            " extracting: train/images/20241012-224132_png.rf.3f168f02c4ee2173a635845a684b027b.jpg  \n",
            " extracting: train/images/20241013-121029_png.rf.e2278e65b2fe17bef4f4bc2ee3ad7c1f.jpg  \n",
            " extracting: train/images/20241013-121036_png.rf.f99638a09021cf4c31f19eb978ef14a7.jpg  \n",
            " extracting: train/images/20241013-121136_png.rf.f4870709bafd3763382f6aa2504b41f4.jpg  \n",
            " extracting: train/images/20241013-121212_png.rf.ddce711e3df394eb5a0a120147f0b292.jpg  \n",
            " extracting: train/images/20241013-121223_png.rf.51065497f3d8f662b2f40186f9ec5600.jpg  \n",
            " extracting: train/images/20241013-121234_png.rf.0097920324c2618647d669ae0ad63739.jpg  \n",
            " extracting: train/images/20241013-121251_png.rf.4e5d19fd90aa770ea2a1bc94282b8249.jpg  \n",
            " extracting: train/images/20241013-121309_png.rf.88e07a6ead6e5ed272e5517e3f6591d5.jpg  \n",
            " extracting: train/images/20241013-121322_png.rf.ada675f1e693ed79549b79b4a5f2967f.jpg  \n",
            " extracting: train/images/20241013-121341_png.rf.09008e8523deb4ac2dc9fd63c084eee6.jpg  \n",
            " extracting: train/images/20241013-121440_png.rf.39090147b1505f03b51dad21e528d737.jpg  \n",
            " extracting: train/images/20241013-121451_png.rf.179a6a4111a839fb40447a358048dbc9.jpg  \n",
            " extracting: train/images/20241013-121458_png.rf.568e4d8c4d8b8923956a7a26dae49d5d.jpg  \n",
            " extracting: train/images/20241013-121525_png.rf.4ca2fd92130661d60347ce57e697d856.jpg  \n",
            " extracting: train/images/20241013-121531_png.rf.123a2be0f1ab47943a82fb3b7384ff1a.jpg  \n",
            " extracting: train/images/20241013-121539_png.rf.93a1d271fac74b6166ea4deddb1aa742.jpg  \n",
            " extracting: train/images/20241013-121549_png.rf.0284817798ba0493d8cdaeff17133d2b.jpg  \n",
            " extracting: train/images/20241013-121604_png.rf.269e7bdfe337ff3dc8d5dda3c49ef8a4.jpg  \n",
            " extracting: train/images/20241013-121618_png.rf.dd5ab83811d0843f6378da20684ecbd1.jpg  \n",
            " extracting: train/images/20241013-121624_png.rf.c2fc8e83fb34c50562b197dd3348b719.jpg  \n",
            " extracting: train/images/20241013-121631_png.rf.9ace9dec23f42f33fe25d3ac3580872d.jpg  \n",
            " extracting: train/images/20241013-121637_png.rf.54bb7caf7d4f1490b376a8dc2611e2d9.jpg  \n",
            " extracting: train/images/20241013-121704_png.rf.9d281dc98786273e3732a2cd691854bd.jpg  \n",
            " extracting: train/images/20241016-170319_png.rf.43b84ba3d4361d4eb242c88b4df1037e.jpg  \n",
            " extracting: train/images/20241016-170332_png.rf.4831365a6355b5df54c3a1447135037c.jpg  \n",
            " extracting: train/images/20241016-170424_png.rf.9e31872545d33116825fd4e940c4681f.jpg  \n",
            " extracting: train/images/20241016-170507_png.rf.9215e60a8ac410fd3bc2a841acbabf51.jpg  \n",
            " extracting: train/images/20241016-170529_png.rf.77462c7655411186d19e88f0f5d1d69a.jpg  \n",
            " extracting: train/images/20241016-170551_png.rf.e9344088322532bef19324ce519c13fb.jpg  \n",
            " extracting: train/images/20241016-170555_png.rf.cbc9020b07d42f1c9a2a4bebfbc07ddb.jpg  \n",
            " extracting: train/images/20241016-170557_png.rf.3c0cb8da9497b5c8c821cee18ba25ff3.jpg  \n",
            " extracting: train/images/20241016-170613_png.rf.89c9e8d6aa342e2677dd185768f11b9f.jpg  \n",
            " extracting: train/images/20241016-170621_png.rf.144850ce1282dc3943e0fdabac90ecf3.jpg  \n",
            " extracting: train/images/20241016-170635_png.rf.a5cb251b4c1fa49daba8d715e2eabba3.jpg  \n",
            " extracting: train/images/20241016-170639_png.rf.6255d45d8645f78af865a7f8b9e964c5.jpg  \n",
            " extracting: train/images/20241016-170641_png.rf.03ace80b75e9043d1572cdf8c2ea9802.jpg  \n",
            " extracting: train/images/20241016-170646_png.rf.4fb858e548866b6ac08323be41fe227b.jpg  \n",
            " extracting: train/images/20241016-170700_png.rf.0208f26d4a8e127ebba7814a40a000bb.jpg  \n",
            " extracting: train/images/20241016-170714_png.rf.d70aa94f3eec1c2f4d5909695104f71c.jpg  \n",
            " extracting: train/images/20241016-170716_png.rf.88b1b4a7b3898b2a7230543fcecf8142.jpg  \n",
            " extracting: train/images/20241016-170718_png.rf.cca17e8cde0ed715ef5e87d411bb527a.jpg  \n",
            " extracting: train/images/20241016-170722_png.rf.e100ecb0916095e9b1dea68d672e2843.jpg  \n",
            " extracting: train/images/20241016-170724_png.rf.2fdbc5304b104bb37f7b1bd6e4a340d4.jpg  \n",
            " extracting: train/images/20241016-170740_png.rf.1a10d09accfbf5a3491fc14638eef6ce.jpg  \n",
            " extracting: train/images/20241016-170743_png.rf.9f199f46a914deeed5dc2247bb694016.jpg  \n",
            " extracting: train/images/20241016-170756-2_png.rf.f8ee0c543bd0dc6a40b85bb02b8b84c5.jpg  \n",
            " extracting: train/images/20241016-170756_png.rf.3f88e93c41776022f256daefe1e3f819.jpg  \n",
            " extracting: train/images/20241016-170805_png.rf.b9980c38641c9a7d42bc31cb189c199b.jpg  \n",
            " extracting: train/images/20241016-170810_png.rf.0e99516820e554c29c98aa95f985b61c.jpg  \n",
            " extracting: train/images/20241016-170828_png.rf.a4b5fb140f3fb5094b66a80b147463a7.jpg  \n",
            " extracting: train/images/20241016-170835_png.rf.57f0f81d4143f28740ceffb380f74eef.jpg  \n",
            " extracting: train/images/20241016-170836_png.rf.572718e0fd51fbf683279148f69cc214.jpg  \n",
            " extracting: train/images/20241016-170841_png.rf.3c3a726212c4d796f30bb0948dc0ea8d.jpg  \n",
            " extracting: train/images/20241016-170849_png.rf.742217d3af977af2d39c68baee1f5e1c.jpg  \n",
            " extracting: train/images/20241016-170900_png.rf.da76e03e864c441ac7c4742044250b4e.jpg  \n",
            " extracting: train/images/20241016-170902_png.rf.a880b21aabf9ac2ce566a3e789fd8a11.jpg  \n",
            " extracting: train/images/20241016-170918_png.rf.13afd48be4252c3392addf0d1737d8b0.jpg  \n",
            " extracting: train/images/20241016-170919_png.rf.2b08c75c09bdcf0c1b930c12ee1a3b8d.jpg  \n",
            " extracting: train/images/20241016-170926_png.rf.73439ed872152ec655c3ebac1d572c5e.jpg  \n",
            " extracting: train/images/20241016-170933_png.rf.af62eeed260ead8b637dea23603aed11.jpg  \n",
            " extracting: train/images/20241016-170951_png.rf.663cd9a160be2c56bbf63c05212621f4.jpg  \n",
            " extracting: train/images/20241016-171002-2_png.rf.39e9bddc57b958cfd467bb16ff2ce461.jpg  \n",
            " extracting: train/images/20241016-171026_png.rf.4f439781e0c90609701612e5ef40e8a6.jpg  \n",
            " extracting: train/images/20241016-171028_png.rf.95128b6ab4e4378d346cc886a25e2dfe.jpg  \n",
            " extracting: train/images/20241016-171036_png.rf.edd40f30fa876ac25661d7e2cdff72dd.jpg  \n",
            " extracting: train/images/20241016-171044_png.rf.e53f58162923200c89f22e3c0fae4bea.jpg  \n",
            " extracting: train/images/20241016-171047_png.rf.f2dab1c066ad1ebb083f05cdbcba5597.jpg  \n",
            " extracting: train/images/20241016-171119_png.rf.f8934fde066ae8edee215451600d6c1c.jpg  \n",
            " extracting: train/images/20241016-171148_png.rf.9a1df42b9db5b7b525c602a1635d5427.jpg  \n",
            " extracting: train/images/20241016-171153_png.rf.378f2d0d8776e922489212662e494c27.jpg  \n",
            " extracting: train/images/20241016-171220_png.rf.e6e2960a98a1a947894bc6b7bb21b1a1.jpg  \n",
            " extracting: train/images/20241016-171225_png.rf.1115eba23a513c602660fd5fa4c3152a.jpg  \n",
            " extracting: train/images/20241016-171244_png.rf.f650aa50082e1e7d171d1d6b23f38738.jpg  \n",
            " extracting: train/images/20241016-171245_png.rf.927b3d7472bb1be52f4f692d797a415a.jpg  \n",
            " extracting: train/images/20241016-171336_png.rf.a036a1e0b6bf35e63977f9883bee93f9.jpg  \n",
            " extracting: train/images/20241016-171400_png.rf.0d14c526324d4cd8b522bc1a1588c475.jpg  \n",
            " extracting: train/images/20241016-171424_png.rf.d272f396503430ed679e8b23a94cd0bd.jpg  \n",
            " extracting: train/images/20241016-171454_png.rf.1aefcab0213b6dfd6e553bf945b52cb3.jpg  \n",
            " extracting: train/images/20241016-171505_png.rf.6045cb54713de71f05d0905143e2aeb6.jpg  \n",
            " extracting: train/images/20241016-171521_png.rf.13d168dfe0b29b3ce2cc054247311174.jpg  \n",
            " extracting: train/images/20241016-171550_png.rf.d6a27f48895cb31e7dac4194b40f7916.jpg  \n",
            " extracting: train/images/20241016-171814_png.rf.43e9b5f86444255c51be42c3f25bbda0.jpg  \n",
            " extracting: train/images/20241016-171835_png.rf.f36662a7497c6cf1b148b4c4cf59b3bc.jpg  \n",
            " extracting: train/images/20241016-173810_png.rf.e03f5af6d185797cd99eb17ace492cd4.jpg  \n",
            " extracting: train/images/20241016-173817_png.rf.65ab9058bd5c68729c8930737107e12e.jpg  \n",
            " extracting: train/images/20241016-173830_png.rf.c7591410b7734faf8664e292a051a283.jpg  \n",
            " extracting: train/images/20241016-173836_png.rf.0426924dedf6dd0c3a082892ca2682c2.jpg  \n",
            " extracting: train/images/20241016-173837_png.rf.dd3cf282ebcc675dee96fe8305a5a63b.jpg  \n",
            " extracting: train/images/20241016-173933_png.rf.d2f9c4d960f09fac8b96a21d4ae20dbe.jpg  \n",
            " extracting: train/images/20241016-173937_png.rf.6909f741cd42bbc7b9663f67bab55580.jpg  \n",
            " extracting: train/images/20241016-173942_png.rf.8a3f006080fc5a31e1d16b68e95ea41a.jpg  \n",
            " extracting: train/images/20241016-173944_png.rf.d5169de3be3563a55c17583c2ee609ba.jpg  \n",
            " extracting: train/images/20241016-173950_png.rf.b8d7c7a3653593d4c66419c6d7963b99.jpg  \n",
            " extracting: train/images/20241016-173957_png.rf.22dc2511831b9e7bfe69abf96187752d.jpg  \n",
            " extracting: train/images/20241016-174001_png.rf.5778fde1b442a260da9f43885498a8b9.jpg  \n",
            " extracting: train/images/20241016-174021_png.rf.c2da4bc4566a67270178b785fb5e7500.jpg  \n",
            " extracting: train/images/20241016-174036_png.rf.e30c78a655d258bd7d522df57a729a21.jpg  \n",
            " extracting: train/images/20241016-174053_png.rf.9d57208e86a89c7e1c836612060fb70f.jpg  \n",
            " extracting: train/images/20241016-174058_png.rf.7bfa904be0390b0e93f7bfa766c8471c.jpg  \n",
            " extracting: train/images/20241016-174116_png.rf.30cb8f814b5a51252cf0f85b1151bbd2.jpg  \n",
            " extracting: train/images/20241016-174121_png.rf.8589d93e6d39fcf0fcb880082567d5fa.jpg  \n",
            " extracting: train/images/20241016-174146_png.rf.b6a4ae288840fe8c3b1afb93c30796d1.jpg  \n",
            " extracting: train/images/20241016-174207_png.rf.c8e7a74c0f8dfc903574b6e2985318c0.jpg  \n",
            " extracting: train/images/20241016-174317_png.rf.4f0a3ecd88bfa472b23d73c93e006284.jpg  \n",
            " extracting: train/images/20241016-174508_png.rf.db9c6f48b72dfb1df231fef9733218c6.jpg  \n",
            " extracting: train/images/20241016-174538_png.rf.d0a24eb98abf8e8fc0b1fa894bb265dd.jpg  \n",
            " extracting: train/images/20241016-174559_png.rf.a597628ab02ddb393dd98af344950d44.jpg  \n",
            " extracting: train/images/20241016-174716_png.rf.4afff4cfacf22e591bf068ec82b7b2e4.jpg  \n",
            " extracting: train/images/20241017-210336_png.rf.2f98a45a41516b8d7a62139380dd5771.jpg  \n",
            " extracting: train/images/20241017-210352_png.rf.3aec8da217e56065e48d8b3e23faee72.jpg  \n",
            " extracting: train/images/20241017-210408_png.rf.4e1e90055e164be72e3b14731114b242.jpg  \n",
            " extracting: train/images/20241017-210447_png.rf.227b80c01c04bc088836b560dce4d594.jpg  \n",
            " extracting: train/images/20241017-210451_png.rf.d808f83f80ae44fb245702bee78c69a2.jpg  \n",
            " extracting: train/images/20241017-210500_png.rf.d88fb04e7dff5e4e76ddf24d140244e2.jpg  \n",
            " extracting: train/images/20241017-210542_png.rf.ea4554cfb3769dcec130c48784bcc41f.jpg  \n",
            " extracting: train/images/20241017-210614-2_png.rf.d1ceef56383fb3c13e0bb1be89aebb0f.jpg  \n",
            " extracting: train/images/20241017-210622_png.rf.299a21e183943aa3417877ae5791e1f1.jpg  \n",
            " extracting: train/images/20241017-210624_png.rf.29750903cb7f8f17efa30e550a0707d5.jpg  \n",
            " extracting: train/images/20241017-210634_png.rf.e5a509002496259aa40f9676f267bef7.jpg  \n",
            " extracting: train/images/20241017-210648_png.rf.bf5b5ffbbe3180f78a7d1d281d37ced8.jpg  \n",
            " extracting: train/images/20241017-210701_png.rf.7880955a3c97bccb1823e170b31e6872.jpg  \n",
            " extracting: train/images/20241017-210710_png.rf.8858e589815e49124208f25de96dc38c.jpg  \n",
            " extracting: train/images/20241017-210717_png.rf.268ff8d718525983828a96d7f3d02a69.jpg  \n",
            " extracting: train/images/20241017-210738_png.rf.890b743b11c4cf28ce6a9e0677197fab.jpg  \n",
            " extracting: train/images/20241017-210740_png.rf.2bd7e5093361ae17f8befc844881b575.jpg  \n",
            " extracting: train/images/20241017-210816_png.rf.b210f3ed58f45421e1f351cd14d72f09.jpg  \n",
            " extracting: train/images/20241017-210825_png.rf.07b38bf8ee67c3493bd68583c2b3dfac.jpg  \n",
            " extracting: train/images/20241017-210838_png.rf.186ca853da42053a6b8024c4dde745a0.jpg  \n",
            " extracting: train/images/20241017-210851_png.rf.7eb098d800d086cdb2c025a6135fb4ac.jpg  \n",
            " extracting: train/images/20241017-210902_png.rf.90ce6e1a70b6d600c5ef586983d1d444.jpg  \n",
            " extracting: train/images/20241017-210905_png.rf.a1977e03e9cc74dc109a9cf73403319e.jpg  \n",
            " extracting: train/images/20241017-210906_png.rf.cdb3b351937f40d081b2714c55b5b770.jpg  \n",
            " extracting: train/images/20241017-210931-2_png.rf.0beaf7d00ddbba84bf9b12df819e3831.jpg  \n",
            " extracting: train/images/20241017-210935_png.rf.efdbbbed8c6e92ff0d11344e74304dc2.jpg  \n",
            " extracting: train/images/20241017-210949-2_png.rf.80a6bf2918e28f814905f5d143913d97.jpg  \n",
            " extracting: train/images/20241017-210950-2_png.rf.a755f4a1772d76c002caa73b9549fbf9.jpg  \n",
            " extracting: train/images/20241017-210955-2_png.rf.8a8b68465c6a61c774d3dc3ad87a9c1d.jpg  \n",
            " extracting: train/images/20241017-210955_png.rf.49bfd6529bf6ab341079d04cb1614e1c.jpg  \n",
            " extracting: train/images/20241017-211012_png.rf.9b03e5d64bc6ba428391bf0655e9e323.jpg  \n",
            " extracting: train/images/20241017-211022_png.rf.de4ceb553b1b83949ffe44c767287404.jpg  \n",
            " extracting: train/images/20241017-211023_png.rf.402c824d1844f869840be647f4dfb127.jpg  \n",
            " extracting: train/images/20241017-211038_png.rf.1c734a15ba1daa91c7cc9b1a80875fa8.jpg  \n",
            " extracting: train/images/20241017-211048-2_png.rf.56da6f8a36dbff74c5fa2dfe93053fcc.jpg  \n",
            " extracting: train/images/20241017-211048_png.rf.3311b2e6e89967806c3d7081e67da2e9.jpg  \n",
            " extracting: train/images/20241017-211049_png.rf.35847d37b9c9d0be0218be2723418a8d.jpg  \n",
            " extracting: train/images/20241017-211055_png.rf.a70e6655e02e7e37cee3d0c42f605c69.jpg  \n",
            " extracting: train/images/20241017-211111_png.rf.022fe83a98e5e7617cf3b0e36b32f3d1.jpg  \n",
            " extracting: train/images/20241017-211120-2_png.rf.9b9b6f92ed9b8cc311f52f1492f8eace.jpg  \n",
            " extracting: train/images/20241017-211120_png.rf.54007b34fc725680f01c1f95079bafe2.jpg  \n",
            " extracting: train/images/20241017-211124_png.rf.33f335f175f38b4416bd55f42e5313d5.jpg  \n",
            " extracting: train/images/20241017-211133_png.rf.975838c6963d58b1cabbe0d46c426ffa.jpg  \n",
            " extracting: train/images/20241017-211200_png.rf.67b982228bb02257f15e02eae74a47f4.jpg  \n",
            " extracting: train/images/20241017-211236_png.rf.052c179af74198717b5de4ddc04f0653.jpg  \n",
            " extracting: train/images/20241017-211239_png.rf.572601108deb778777e1f272f0dbdbbc.jpg  \n",
            " extracting: train/images/20241017-211245_png.rf.cc4dd3834e60e5b4e1866b53d3b8a4f2.jpg  \n",
            " extracting: train/images/20241017-211256_png.rf.ad8b9c704067c93c1d2939fb8716c07c.jpg  \n",
            " extracting: train/images/20241017-211300_png.rf.173bec7a21d8ddd2ffa5236bca8aa026.jpg  \n",
            " extracting: train/images/20241017-211315_png.rf.ea5c76b96c8d45f723bda11a3eee1764.jpg  \n",
            " extracting: train/images/20241017-211320_png.rf.e44a018c08316b279e7faeee972d9943.jpg  \n",
            " extracting: train/images/20241017-211325_png.rf.0c5e1f262dcf3ab208f6d9e900aa06f6.jpg  \n",
            " extracting: train/images/20241017-211344_png.rf.1a3b977c6ddf5a2a882471d4d7ff5777.jpg  \n",
            " extracting: train/images/20241017-211346_png.rf.935ba65fdd16962918bc33c2ee43189e.jpg  \n",
            " extracting: train/images/20241017-211355_png.rf.9359271b66aafc9a83055d5c8ccfc248.jpg  \n",
            " extracting: train/images/20241017-211400_png.rf.cbf74e161c9af1913abd169b42d90ff1.jpg  \n",
            " extracting: train/images/20241017-211403_png.rf.5cae1bf89740fd1bd0c442f8dfcbb3aa.jpg  \n",
            " extracting: train/images/20241017-211412_png.rf.5e0016a52954be4d6ccc61d3d2ed0056.jpg  \n",
            " extracting: train/images/20241017-211418_png.rf.23686e079284382365c535c598d79001.jpg  \n",
            " extracting: train/images/20241017-211421_png.rf.6f4e4748febea21f3f3553264ff7176e.jpg  \n",
            " extracting: train/images/20241017-211437_png.rf.d5f0b0a4bf15a009909d38ae6bed01a2.jpg  \n",
            " extracting: train/images/20241017-211442_png.rf.1923c30effe4d3387160e0193a5309a0.jpg  \n",
            " extracting: train/images/20241017-211456_png.rf.2484d5511a7e1bc2935efd30d0f8bb47.jpg  \n",
            " extracting: train/images/20241017-211506_png.rf.311eae5a4bc13deb272fe321bd9356ed.jpg  \n",
            " extracting: train/images/20241017-211519_png.rf.00998ce4a38af2b5732de8e70cc17ae0.jpg  \n",
            " extracting: train/images/20241017-211521_png.rf.ffab57ed78eaf6d3a86e21c8e70527ab.jpg  \n",
            " extracting: train/images/20241017-211526_png.rf.4dabfa6f3b654f3d013009f282ceeee0.jpg  \n",
            " extracting: train/images/20241017-211538_png.rf.19d003ef275541c821f1d70a3dca619b.jpg  \n",
            " extracting: train/images/20241017-211600_png.rf.2964ce4d5b0582ac1703db703ea4334c.jpg  \n",
            " extracting: train/images/20241017-211611_png.rf.67dcb7b1515ebb3d0b8fe5c8de0ecb90.jpg  \n",
            " extracting: train/images/20241017-211724-2_png.rf.aadbece52c513cdafba361478ec355f2.jpg  \n",
            " extracting: train/images/20241017-211724_png.rf.8fa3271043785e71d9c06eab0c069c0f.jpg  \n",
            " extracting: train/images/20241017-211742_png.rf.d642d0179c0ba6104c963c488dc5c0d0.jpg  \n",
            " extracting: train/images/20241017-211754_png.rf.ab5181870293bfabf8ddee88142776c1.jpg  \n",
            " extracting: train/images/20241017-211818_png.rf.d8548411111a9e9822a8d9692d1221de.jpg  \n",
            " extracting: train/images/20241017-211837_png.rf.cc9f37a61ff86b0e6e2313d5a9a04d35.jpg  \n",
            " extracting: train/images/20241017-211843_png.rf.c4996002ca343feefd47bd73145639d0.jpg  \n",
            " extracting: train/images/20241017-211855_png.rf.39a7d77a8a82f2348d2efcfc14d999e8.jpg  \n",
            " extracting: train/images/20241017-211900_png.rf.472c065d6738a7e5be1d6089f0866a2a.jpg  \n",
            " extracting: train/images/20241017-211936_png.rf.07e64223c51ca87a030b741519ae8a41.jpg  \n",
            " extracting: train/images/20241017-211957_png.rf.d8fbaf409f56f63a9376db04d4503b88.jpg  \n",
            " extracting: train/images/20241017-212008_png.rf.7745032a770e387d7f0c26143f34996e.jpg  \n",
            " extracting: train/images/20241017-212030-2_png.rf.319ed87eecdfc2cc2028b00478d9f8b2.jpg  \n",
            " extracting: train/images/20241017-212030_png.rf.aa2c7d7fa9c4bb05b4a54e1c3ab383bf.jpg  \n",
            " extracting: train/images/20241017-212033_png.rf.d1a980fa92c83b0f7b6e44cf1436eec4.jpg  \n",
            " extracting: train/images/20241017-212048_png.rf.4adf468ccc4b5df3f16112ab1bd16ce7.jpg  \n",
            " extracting: train/images/20241017-212100_png.rf.45d8ff9e5932a557738ead107600ed25.jpg  \n",
            " extracting: train/images/20241017-212141_png.rf.c5102a018fbf29643ec04e70530e192c.jpg  \n",
            " extracting: train/images/20241017-212242_png.rf.69b7976c8301868a3655d1efe8654c99.jpg  \n",
            " extracting: train/images/20241017-212255_png.rf.0fb6ac9f3f06a8d734d1041f7b2a5bd0.jpg  \n",
            " extracting: train/images/20241017-212313_png.rf.1e1eee46f156c6ebedb93823d5fda959.jpg  \n",
            " extracting: train/images/20241017-213352_png.rf.3f76b7ddefee36d6290ff08b8d133d6b.jpg  \n",
            " extracting: train/images/20241020-161400_png.rf.6685cbf659415235c4fc0dec1a4a53d6.jpg  \n",
            " extracting: train/images/20241020-161403_png.rf.5f73bf250a3ce36fb9691dec494b5fe8.jpg  \n",
            " extracting: train/images/20241020-161442_png.rf.6ca3ad3ff75d6f69b86e5b95f3aeb5f2.jpg  \n",
            " extracting: train/images/20241020-161447_png.rf.84bebfe77219dc766c36a4371f692a48.jpg  \n",
            " extracting: train/images/20241020-161503_png.rf.fd516975ad35884c4430fef288f5a06c.jpg  \n",
            " extracting: train/images/20241020-161504_png.rf.a42b5739e2d064971f701a21f0a90187.jpg  \n",
            " extracting: train/images/20241020-161533_png.rf.23799ed64e2f70893656e74c30ac9e09.jpg  \n",
            " extracting: train/images/20241020-161534_png.rf.6aa12986f85547f50314965526270afc.jpg  \n",
            " extracting: train/images/20241020-161601_png.rf.412a8a39fb51d6f49df54c51470a4ab6.jpg  \n",
            " extracting: train/images/20241020-161607_png.rf.c45b84ec50fbe06332eef198c720dd9b.jpg  \n",
            " extracting: train/images/20241020-161614_png.rf.cc37762b7ab9ba768b66d0cbd7e05671.jpg  \n",
            " extracting: train/images/20241020-161619_png.rf.bf48050a3110590d37507843d6b70f23.jpg  \n",
            " extracting: train/images/20241020-161626_png.rf.d577727248253212522615d0aa7be501.jpg  \n",
            " extracting: train/images/20241020-161633_png.rf.00e6d124d7b4c32f8dda7bf9286928d4.jpg  \n",
            " extracting: train/images/20241020-161641_png.rf.0893196bfcfb089928a268a5e304ae30.jpg  \n",
            " extracting: train/images/20241020-161644_png.rf.320808838898d15cc536a1573640908e.jpg  \n",
            " extracting: train/images/20241020-161656_png.rf.5e5c48b3e7fafa5f215e52f3bbdc0a2a.jpg  \n",
            " extracting: train/images/20241020-161705_png.rf.c8d8d70f499e45468b22c5bfa5527acf.jpg  \n",
            " extracting: train/images/20241020-161724_png.rf.0d3fdc4e0da8ec744f4938b9a6b1f718.jpg  \n",
            " extracting: train/images/20241020-161745_png.rf.46e5f3892c3a3aaa2ac77999b4fdfd07.jpg  \n",
            " extracting: train/images/20241020-161748_png.rf.ceccd38b75637e8944d97ec547473925.jpg  \n",
            " extracting: train/images/20241020-161749_png.rf.aa430d862499af30a1b469f2edc888a4.jpg  \n",
            " extracting: train/images/20241020-161803_png.rf.c6f8ee4e673b8e60339229f96a90201b.jpg  \n",
            " extracting: train/images/20241020-161805_png.rf.7965502422cb193e21ad92f7e5cf6179.jpg  \n",
            " extracting: train/images/20241020-161825_png.rf.92795f02e147f6ce4c14b9551169c791.jpg  \n",
            " extracting: train/images/20241020-161827_png.rf.647c0ef3b06f4fb6b280882f69341d31.jpg  \n",
            " extracting: train/images/20241020-161829_png.rf.8170de6b4c34f7808771c9a0a3b0605f.jpg  \n",
            " extracting: train/images/20241020-161851_png.rf.6b0d2c70a1949215bd4df519ddb7815d.jpg  \n",
            " extracting: train/images/20241020-161904_png.rf.288363f8007aef1a55dd29f1420ac28a.jpg  \n",
            " extracting: train/images/20241020-161908_png.rf.328d34539e1722c3b5597e90c1f141a6.jpg  \n",
            " extracting: train/images/20241020-161918_png.rf.bd6706e3e2ea3d6138cd677bb69176d0.jpg  \n",
            " extracting: train/images/20241020-161921_png.rf.0cc5b7a9f86784f9a0b0e0d253ab8467.jpg  \n",
            " extracting: train/images/20241020-161935_png.rf.5a5e7855c69328fcd77335b28fb9eea4.jpg  \n",
            " extracting: train/images/20241020-161937_png.rf.72d36c2228ea28abe078290d91b78e4a.jpg  \n",
            " extracting: train/images/20241020-161938_png.rf.5b4d762cb211b9d85f7be1bd565ffb6d.jpg  \n",
            " extracting: train/images/20241020-161953-2_png.rf.0a7ccc05c3f18e2da18045a6d0b0dfa5.jpg  \n",
            " extracting: train/images/20241020-161953_png.rf.75c15dde324ce35ad771f3d080d7ad77.jpg  \n",
            " extracting: train/images/20241020-162001_png.rf.681726c4784a1968a964c2328ab69bd8.jpg  \n",
            " extracting: train/images/20241020-162006_png.rf.03c3479d5fa4a46b1a088e97940bca06.jpg  \n",
            " extracting: train/images/20241020-162015_png.rf.1375d1c8d2967014a385baa3d46d64f1.jpg  \n",
            " extracting: train/images/20241020-162016_png.rf.301a5a3ce246e3f5bedf5f5e57282935.jpg  \n",
            " extracting: train/images/20241020-162027_png.rf.e6fdc098c8aa74dc946cb13d4fcea34a.jpg  \n",
            " extracting: train/images/20241020-162114_png.rf.ad4bfea2d5d9ed4b58b0601a7b94869c.jpg  \n",
            " extracting: train/images/20241020-162124_png.rf.f7c65c5c0ca1782719e568e977374081.jpg  \n",
            " extracting: train/images/20241020-162145_png.rf.6d82ee3fd035b6ac29b21b2cecdfa4a9.jpg  \n",
            " extracting: train/images/20241020-162150_png.rf.44dd95c6d205aafb13dd13e8b1121a81.jpg  \n",
            " extracting: train/images/20241020-162211_png.rf.7d8d6b8d98bddc1dae1c9d91c7e0e074.jpg  \n",
            " extracting: train/images/20241020-162236_png.rf.e6aeedb875c310f464834dc8f3c27078.jpg  \n",
            " extracting: train/images/20241020-162319_png.rf.76aa9d44c1e3f1f66583e25c447a6027.jpg  \n",
            " extracting: train/images/20241020-162337-2_png.rf.2e075a1e55b5ac2b9eaecad081595d4d.jpg  \n",
            " extracting: train/images/20241020-162347_png.rf.f6dac89df7dbfdea2b264f4c0a532a48.jpg  \n",
            " extracting: train/images/20241020-162357_png.rf.6ce005b07a66a6a5e8f5758c4fbc935a.jpg  \n",
            " extracting: train/images/20241020-162405_png.rf.11846e4404afebd5712efaf6f0236d78.jpg  \n",
            " extracting: train/images/20241020-162410-2_png.rf.91d1eb9c306d21e3e0e35868d5ae04a1.jpg  \n",
            " extracting: train/images/20241020-162410_png.rf.f1a01b07c8b6265332dca70d66537adb.jpg  \n",
            " extracting: train/images/20241020-162420_png.rf.0ed31943a9f932f482242abc56b6a4a8.jpg  \n",
            " extracting: train/images/20241020-162441_png.rf.ae670985c6bee684848f06f6c289c3ba.jpg  \n",
            " extracting: train/images/20241020-162452_png.rf.3b1df529f2363ae5cc640e140ec19e97.jpg  \n",
            " extracting: train/images/20241020-162454_png.rf.4ce72d45cb872e86f070c9e81fe304c0.jpg  \n",
            " extracting: train/images/20241020-162527_png.rf.7fd77f59403f2f18f2912dd8b3bfa000.jpg  \n",
            " extracting: train/images/20241020-162533_png.rf.1e4d61b8c3132dd90112b148d301d628.jpg  \n",
            " extracting: train/images/20241020-162537_png.rf.54d0117fe5cc17be3c93023082fd1f18.jpg  \n",
            " extracting: train/images/20241020-162555_png.rf.ff680ab329e5edb51e25c911cbb56367.jpg  \n",
            " extracting: train/images/20241020-162559_png.rf.e340fd79805788fda7b342f8ea33d27c.jpg  \n",
            " extracting: train/images/20241020-162603_png.rf.325b8e90f45e1faa2a3af7f5cba2a689.jpg  \n",
            " extracting: train/images/20241020-162610_png.rf.1e2a7d4ad617b398bc1233418462eea3.jpg  \n",
            " extracting: train/images/20241020-162617_png.rf.d6e55c616ca8738f11ccffda87b50c48.jpg  \n",
            " extracting: train/images/20241020-162627_png.rf.1de17ffb0a06f341b5092188e65c4bb0.jpg  \n",
            " extracting: train/images/20241020-162636-2_png.rf.7755d54f68d4095bde9621f3e53cb8cb.jpg  \n",
            " extracting: train/images/20241020-162636_png.rf.605b87c8538ecd3e08db5dd0e9ad9235.jpg  \n",
            " extracting: train/images/20241020-162641_png.rf.447069302dfcf76d848f5635241a1ada.jpg  \n",
            " extracting: train/images/20241020-162650_png.rf.21e4335f74efac8fd91b065d0b096c13.jpg  \n",
            " extracting: train/images/20241020-162652_png.rf.4059fcebd0256043afdd7f6f0df6ab26.jpg  \n",
            " extracting: train/images/20241020-162655_png.rf.891b47d0c8a58cf6871a827943cc0158.jpg  \n",
            " extracting: train/images/20241020-162738_png.rf.9dc704cfcef7ae5e02377fb302b7754e.jpg  \n",
            " extracting: train/images/20241020-162748_png.rf.850ee394af367db591c86d813e091685.jpg  \n",
            " extracting: train/images/20241020-162754_png.rf.5ced745ef23e87eb19da4990b345f50b.jpg  \n",
            " extracting: train/images/20241020-162757_png.rf.2c9f59d065a9039a61ff2b524894b318.jpg  \n",
            " extracting: train/images/20241020-162807_png.rf.443d59194a369596d9228fb765526b61.jpg  \n",
            " extracting: train/images/20241020-162844_png.rf.c57917a2ea0db1961bc65c99cce70be6.jpg  \n",
            " extracting: train/images/20241020-163012_png.rf.4181803c8caf4a8ab9cf20195bc5728b.jpg  \n",
            " extracting: train/images/20241020-163045_png.rf.cb4069a459a1e4113fc506568b12715d.jpg  \n",
            " extracting: train/images/20241020-163209_png.rf.f9c06632505863269cd4a81f5c2979ca.jpg  \n",
            " extracting: train/images/20241020-163325_png.rf.88c69a893fc392e1b63b8a0109e3b6f6.jpg  \n",
            " extracting: train/images/20241020-163405_png.rf.f76f0948deb08184de7ef01c3986d4bf.jpg  \n",
            " extracting: train/images/20241020-163540_png.rf.083ac305582c459c277344d3a9819d26.jpg  \n",
            " extracting: train/images/20241020-180934_png.rf.74d17cdcec96dc331c3e72390f33b178.jpg  \n",
            " extracting: train/images/20241020-180945_png.rf.32d6d28762a89c997e5f9cda21e9de1f.jpg  \n",
            " extracting: train/images/20241020-180947_png.rf.cc71d59d8c5ff7f6fbd318082bbbd051.jpg  \n",
            " extracting: train/images/20241020-180957_png.rf.c39598c986772a01ea75a31da188db4f.jpg  \n",
            " extracting: train/images/20241020-181029-copie_png.rf.4b990fa2bbf5c6d3206027a01e64fca0.jpg  \n",
            " extracting: train/images/20241020-181029_png.rf.c8528ff287b3637dd0e0da3a9ee899ec.jpg  \n",
            " extracting: train/images/20241020-181052_png.rf.327f961d937738fab9e83c1557546823.jpg  \n",
            " extracting: train/images/20241020-181100_png.rf.aaa32ad348a347ffcadf80b72050f81f.jpg  \n",
            " extracting: train/images/20241020-181108_png.rf.ecd349ed6c491f15fb645884ab835a7e.jpg  \n",
            " extracting: train/images/20241020-181110_png.rf.f5333b06decf1efa30db578103741c1f.jpg  \n",
            " extracting: train/images/20241020-181115_png.rf.61cea2cee355a30ead0e6ac0c6c7df2d.jpg  \n",
            " extracting: train/images/20241020-181122_png.rf.f4237cd5218ee065f1f4a416d7c4f6cd.jpg  \n",
            " extracting: train/images/20241020-181132_png.rf.2099b047e9e3c62377972698ed3aac15.jpg  \n",
            " extracting: train/images/20241020-181140_png.rf.3c4f07f7b49cf4555b9a9042d46ad19b.jpg  \n",
            " extracting: train/images/20241020-181148_png.rf.f02b2751047ed699398bec7d1d735a11.jpg  \n",
            " extracting: train/images/20241020-181158_png.rf.7560dcb21c71236792877513bb010e11.jpg  \n",
            " extracting: train/images/20241020-181201-copie_png.rf.aa3ba1567cd3b6bed356887f7688c02a.jpg  \n",
            " extracting: train/images/20241020-181201_png.rf.19e39221656d05ce01df6976b2bdceee.jpg  \n",
            " extracting: train/images/20241020-181217_png.rf.be12e29cfbadfce3e158d0efc2f2989a.jpg  \n",
            " extracting: train/images/20241020-181220_png.rf.415c9d2638eabb0117b187fd7542ffc2.jpg  \n",
            " extracting: train/images/20241020-181241_png.rf.a14cf06f2dd10ab06970f0ea3b49ea4d.jpg  \n",
            " extracting: train/images/20241020-181244_png.rf.4a1d82e853efa0ee70ec5b4a366305f0.jpg  \n",
            " extracting: train/images/20241020-181245_png.rf.64b9c7dda37de65430e5c15fc6bb8d97.jpg  \n",
            " extracting: train/images/20241020-181253_png.rf.40a4597c31b0dc51b5c440c054f1127d.jpg  \n",
            " extracting: train/images/20241020-181342_png.rf.b7198bda82b8e90642c43f7b6cb8eb9d.jpg  \n",
            " extracting: train/images/20241020-181344_png.rf.18a63ba569b15ce808b3150ead7e4abc.jpg  \n",
            " extracting: train/images/20241020-181346_png.rf.ecf5ab4fbc07cd5f09b16a023a08ce25.jpg  \n",
            " extracting: train/images/20241020-181409_png.rf.eb0691fa0ba9766d0720101ad5550f7a.jpg  \n",
            " extracting: train/images/20241020-181414_png.rf.c263b4b3b088e52c12ac4004bf8a682e.jpg  \n",
            " extracting: train/images/20241020-181425_png.rf.30e31a4760c69fc68421861bccd22926.jpg  \n",
            " extracting: train/images/20241020-181435_png.rf.1919ee9b7dd3d6a388b4c5f7ad941ed9.jpg  \n",
            " extracting: train/images/20241020-181447_png.rf.960cca1fc6dadc690c7a04b401c6787d.jpg  \n",
            " extracting: train/images/20241020-181449_png.rf.ccdf9ecf4ee8359110c488bf654b9db9.jpg  \n",
            " extracting: train/images/20241020-181504_png.rf.a5ef608aca853855b23d400f0efa82db.jpg  \n",
            " extracting: train/images/20241020-181506_png.rf.69baf581f0436b21a9ab4003dd38c5c7.jpg  \n",
            " extracting: train/images/20241020-181507_png.rf.c500cb8255287fe719b21d07034c722c.jpg  \n",
            " extracting: train/images/20241020-181530_png.rf.f68176d8df977817e1a6051e3d0d8235.jpg  \n",
            " extracting: train/images/20241020-181534_png.rf.f62ecc3b899231b4550ea13714ed13ad.jpg  \n",
            " extracting: train/images/20241020-181537_png.rf.163bfb0962c9046266e2a558d331a9f1.jpg  \n",
            " extracting: train/images/20241020-181553_png.rf.81633281d5cb5fcfe28ae47e8fbe7dfe.jpg  \n",
            " extracting: train/images/20241020-181617_png.rf.608def2fe43217b28fa5e40ba474c6fa.jpg  \n",
            " extracting: train/images/20241020-181644_png.rf.a273641cdd4b85dbaa6bfe6c5f3a421a.jpg  \n",
            " extracting: train/images/20241020-181658-copie_png.rf.cef02496d00e7f10d4839fcb20ebdfa7.jpg  \n",
            " extracting: train/images/20241020-181658_png.rf.3f38423cbeec8f37a80685b48d4ee76e.jpg  \n",
            " extracting: train/images/20241020-181709_png.rf.2644eed2436348e2aa69d116070fa511.jpg  \n",
            " extracting: train/images/20241020-181720_png.rf.ff974f85f724c2e0c329cd741c1de5cb.jpg  \n",
            " extracting: train/images/20241020-181728_png.rf.3edadfe09229020c18b3eead777363ba.jpg  \n",
            " extracting: train/images/20241020-181744_png.rf.82291df9cfb39ec7aa26bc9e2d997e46.jpg  \n",
            " extracting: train/images/20241020-181750_png.rf.0d7a9ec609d567ddb3ceacef98b5bc94.jpg  \n",
            " extracting: train/images/20241020-181755_png.rf.92df2284ce3291afd8fbfd5a0ba00804.jpg  \n",
            " extracting: train/images/20241020-181842_png.rf.8924efd93e601ed0451f336ff1d31e75.jpg  \n",
            " extracting: train/images/20241020-181856_png.rf.44209e777bfc2f1daae37f5f7c88faa9.jpg  \n",
            " extracting: train/images/20241020-181858_png.rf.b15e7b3f31d141219ed58184ee373f70.jpg  \n",
            " extracting: train/images/20241020-181922_png.rf.0190ecfa986bc895a57efd8c0520837e.jpg  \n",
            " extracting: train/images/20241020-181929_png.rf.77759ce2b6d9c6c54172224208e9e49b.jpg  \n",
            " extracting: train/images/20241020-181933_png.rf.dcc07ad037f432233e8da824ce6128be.jpg  \n",
            " extracting: train/images/20241020-181957_png.rf.3daa8ada8d95d5be5b583e60f2549147.jpg  \n",
            " extracting: train/images/20241020-182005_png.rf.8670b15a77124e7ae9f082eb481b6d1e.jpg  \n",
            " extracting: train/images/20241020-182023_png.rf.84f8d143e49fb23c5bb724de7edde14f.jpg  \n",
            " extracting: train/images/20241020-182028_png.rf.450a3a3546d474171805846e54ed3d29.jpg  \n",
            " extracting: train/images/20241020-182031_png.rf.db4ec96213429059aec66e4dd685a602.jpg  \n",
            " extracting: train/images/20241020-182040_png.rf.b2608854e51a051d5651ce92d6d04f3e.jpg  \n",
            " extracting: train/images/20241020-182051-copie_png.rf.ac9a9b695151aa3075d6a6206f32e86d.jpg  \n",
            " extracting: train/images/20241020-182051_png.rf.f2753bd434f130c5ea42b1b525f52e47.jpg  \n",
            " extracting: train/images/20241020-182115_png.rf.bb249db68a3d1de65c6bd0bb86ac7c14.jpg  \n",
            " extracting: train/images/20241020-182122_png.rf.9d68b7b4f9e5854bb14d5edadd475994.jpg  \n",
            " extracting: train/images/20241020-182125_png.rf.37c1136a67c72aab408d0b95c56df9d6.jpg  \n",
            " extracting: train/images/20241020-182140_png.rf.d60f8d3ee9dd378c8018eb61a56d225f.jpg  \n",
            " extracting: train/images/20241020-182148_png.rf.a1b40503bd0d0b176c8e481cd8088699.jpg  \n",
            " extracting: train/images/20241020-182208_png.rf.c26d7d198fba17e9a2d0b32b2fb90625.jpg  \n",
            " extracting: train/images/20241020-182229_png.rf.e74bfb821d9e79a7316c54d5d1abfd54.jpg  \n",
            " extracting: train/images/20241020-182253_png.rf.8c1dcb36e5411cbc17e8f8189f02a869.jpg  \n",
            " extracting: train/images/20241020-182308_png.rf.d8403c5a8e242543a2a2386de5b0f483.jpg  \n",
            " extracting: train/images/20241020-182342_png.rf.1b91a5b0ade2ae5ac1778fbf5fa0b73e.jpg  \n",
            " extracting: train/images/20241020-182358_png.rf.82affde6afb231870f837f51eed83048.jpg  \n",
            " extracting: train/images/20241020-182404_png.rf.1c9124164071a75f86ec5b8e77e0f2ab.jpg  \n",
            " extracting: train/images/20241020-182419_png.rf.6431003aba34c3e4ecc150cd19200baf.jpg  \n",
            " extracting: train/images/20241020-182424_png.rf.595e1e4038cf28743e157f2ff34d0d0f.jpg  \n",
            " extracting: train/images/20241020-182446_png.rf.222cdfc93c260ccab898e5b812de07cf.jpg  \n",
            " extracting: train/images/20241020-182504_png.rf.4a16fd0632d1ae77eb5c53ae8bdf3a7c.jpg  \n",
            " extracting: train/images/20241020-182513_png.rf.3884919c95b7e00831ba1dacf33b5bbd.jpg  \n",
            " extracting: train/images/20241020-182528-copie_png.rf.dfabc279b03e1dd3a4c8dfea05dc9133.jpg  \n",
            " extracting: train/images/20241020-182528_png.rf.6f05921917fd150222cded8734b6537f.jpg  \n",
            " extracting: train/images/20241020-182543_png.rf.7b1c6ec8759c1c2a89e736fb504c6f16.jpg  \n",
            " extracting: train/images/20241020-182703_png.rf.752827507a8873c8be83a7d2f93ef832.jpg  \n",
            " extracting: train/images/20241020-182735_png.rf.89ab0cdc49964c264b479476dd318bf9.jpg  \n",
            " extracting: train/images/20241020-182926_png.rf.67d221487e3b377131a7091c31f51618.jpg  \n",
            " extracting: train/images/20241020-182952_png.rf.a8d36fa4fa5456e6f39ed690cce42ddb.jpg  \n",
            " extracting: train/images/20241020-183032-copie_png.rf.21bb4bc60125f00201ccfb1b9476d427.jpg  \n",
            " extracting: train/images/20241020-183051_png.rf.4931dde51e8da9bac451069cbfa99d0d.jpg  \n",
            " extracting: train/images/20241020-183059_png.rf.9eac968119243edb07978777c6457d7b.jpg  \n",
            " extracting: train/images/20241020-183118-copie_png.rf.46009287d7945acb7e2ce82669997bfb.jpg  \n",
            " extracting: train/images/20241020-183118_png.rf.5c6559bff1842b6e0abe712c5e35ce4f.jpg  \n",
            " extracting: train/images/20241020-183129_png.rf.8567a364dbbb334ce3c233afdcf3e61d.jpg  \n",
            " extracting: train/images/20241020-183140-copie_png.rf.73c3dc1613daa007cc52f194c4303941.jpg  \n",
            " extracting: train/images/20241020-183140_png.rf.245edccaacbee338fad785049caadc36.jpg  \n",
            " extracting: train/images/20241020-183144_png.rf.3bfc8d535f585f32184965280168af3f.jpg  \n",
            " extracting: train/images/20241020-183149_png.rf.c8c27460555450dbfe582e63ae9c0a0d.jpg  \n",
            " extracting: train/images/20241020-183154_png.rf.8be19d058c58375285fc834318199022.jpg  \n",
            " extracting: train/images/20241020-183201_png.rf.1cf4c5fd3d5571af311bffbaba3f3b12.jpg  \n",
            " extracting: train/images/20241020-183305_png.rf.6a2e6eb11d000eb9833ac4e5ff4ee7b9.jpg  \n",
            " extracting: train/images/20241020-183332_png.rf.9a573c4ceee434af20b03afb9758cf83.jpg  \n",
            " extracting: train/images/20241020-183404_png.rf.8122ad868088594e461eddb70b37da95.jpg  \n",
            " extracting: train/images/20241020-183405_png.rf.f19e78af45f186616a80fcc6d01c191e.jpg  \n",
            " extracting: train/images/20241020-183513_png.rf.61b763389420c042c37e13a6f0010837.jpg  \n",
            " extracting: train/images/20241020-183551_png.rf.da8fe7bf33348c5acccf8704f2bf109d.jpg  \n",
            " extracting: train/images/20241020-221109_png.rf.dc7e65a2cecd3afb9b01cc54430e807c.jpg  \n",
            " extracting: train/images/20241020-221114_png.rf.7238a734ef7fe22ffdd3955982866d43.jpg  \n",
            " extracting: train/images/20241020-221140_png.rf.ace6453ae1f51bbdb3e5000188d32267.jpg  \n",
            " extracting: train/images/20241020-221143_png.rf.7a8af17826d6243bbae8e5465e102231.jpg  \n",
            " extracting: train/images/20241020-221201_png.rf.c7ae620532703cfa9f27eba5a47d2812.jpg  \n",
            " extracting: train/images/20241020-221208_png.rf.a0d7854d62282db03bcfefce04186239.jpg  \n",
            " extracting: train/images/20241020-221228_png.rf.6183d2988f7a746abd774126b3f849b6.jpg  \n",
            " extracting: train/images/20241020-221231_png.rf.c7f6847614e76598d989e9d16cd24764.jpg  \n",
            " extracting: train/images/20241020-221239_png.rf.c7da3c078dc3da67be8b774c762efaac.jpg  \n",
            " extracting: train/images/20241020-221244_png.rf.9cb0494d50b34e3ed988e2064c90a484.jpg  \n",
            " extracting: train/images/20241020-221256_png.rf.38412cdb9dd03ce974232bfc971e75b9.jpg  \n",
            " extracting: train/images/20241020-221311_png.rf.474d5dd4c34a1cc64f4183cacb06b820.jpg  \n",
            " extracting: train/images/20241020-221312_png.rf.e6194fe7c21e823d40097ff590730591.jpg  \n",
            " extracting: train/images/20241020-221313_png.rf.5114786cb23264db4b85d37b534f2f09.jpg  \n",
            " extracting: train/images/20241020-221317_png.rf.49721296315f9c09987dcf37d44a3cf8.jpg  \n",
            " extracting: train/images/20241020-221341_png.rf.fbb75f3e45e1a87a34b21b719b1808fc.jpg  \n",
            " extracting: train/images/20241020-221347_png.rf.a46a1879c9da809cc47e32672cbe9c4f.jpg  \n",
            " extracting: train/images/20241020-221352_png.rf.f25123494ba6d231120a60bb59a156bf.jpg  \n",
            " extracting: train/images/20241020-221358_png.rf.2091046ee4fe19b6108b74c38f96e195.jpg  \n",
            " extracting: train/images/20241020-221415_png.rf.ba81a70ace8edc4b8fc293aa8513f56f.jpg  \n",
            " extracting: train/images/20241020-221419_png.rf.6037cac4b60d31666bbde1b6f073c3da.jpg  \n",
            " extracting: train/images/20241020-221424_png.rf.03405a1a0aef36d6f93ce59c9eaf04cd.jpg  \n",
            " extracting: train/images/20241020-221429_png.rf.7cf12660c109d9924eb00f7263fe5f86.jpg  \n",
            " extracting: train/images/20241020-221430_png.rf.6fc46e1bcbfd70f6242a3308d1ef1398.jpg  \n",
            " extracting: train/images/20241020-221431_png.rf.77709ad4f289986fc982fbd4bcc8b25d.jpg  \n",
            " extracting: train/images/20241020-221448_png.rf.60a9f2f265fdb0718675600b02b6873d.jpg  \n",
            " extracting: train/images/20241020-221449_png.rf.337455ce5add30bacc0cf0387b945cc5.jpg  \n",
            " extracting: train/images/20241020-221451_png.rf.9e56c27d17d39bdce2393e3a9ef06b5b.jpg  \n",
            " extracting: train/images/20241020-221454_png.rf.d826b21d3e5f745fc01f9fc32d675493.jpg  \n",
            " extracting: train/images/20241020-221504_png.rf.aed7ffaf52b036732db2b1d9810cba56.jpg  \n",
            " extracting: train/images/20241020-221515_png.rf.3554ae8f29b422b8beab3a26f6d80c99.jpg  \n",
            " extracting: train/images/20241020-221520_png.rf.18dfc0527febf511804bbd67dd79f6bb.jpg  \n",
            " extracting: train/images/20241020-221523_png.rf.7fab640e9e79442fad809e135335c736.jpg  \n",
            " extracting: train/images/20241020-221555_png.rf.dbca2aacb8e6d40c9b9b258cfd2d0074.jpg  \n",
            " extracting: train/images/20241020-221609_png.rf.a7661c77cf00b201fe924061d95d1871.jpg  \n",
            " extracting: train/images/20241020-221615_png.rf.8edf3e9108ee8f6fa106bf5fd78d7b61.jpg  \n",
            " extracting: train/images/20241020-221624_png.rf.ed08f478d15e4dd59e7c52378a8e672d.jpg  \n",
            " extracting: train/images/20241020-221631_png.rf.968f159cfb490d597b7e768bd5ff690c.jpg  \n",
            " extracting: train/images/20241020-221647_png.rf.d511f5f7db063d813a652e2c52dd7035.jpg  \n",
            " extracting: train/images/20241020-221649_png.rf.fe62c6b04443184be56200d2bddf19d3.jpg  \n",
            " extracting: train/images/20241020-221701_png.rf.56ff1340fb4e6275f1c6025e781a754e.jpg  \n",
            " extracting: train/images/20241020-221703_png.rf.5b3addcd3aa31bd25b07f2451998bb13.jpg  \n",
            " extracting: train/images/20241020-221704_png.rf.b6028c93a32fa5fa097cdf7d6efccb05.jpg  \n",
            " extracting: train/images/20241020-221725_png.rf.0a1998e45115b49f82ee2a6054cc81ac.jpg  \n",
            " extracting: train/images/20241020-221730_png.rf.86b322a76c72a9314a0183afd9680a48.jpg  \n",
            " extracting: train/images/20241020-221732_png.rf.074391a751c968da3cc135e7e842edd3.jpg  \n",
            " extracting: train/images/20241020-221745_png.rf.17c2066c1972a584a271e3ec0810feed.jpg  \n",
            " extracting: train/images/20241020-221755_png.rf.a0baa4a856ef5f4ba6977898b6889323.jpg  \n",
            " extracting: train/images/20241020-221816_png.rf.9a30807685236d0d983d47148381da96.jpg  \n",
            " extracting: train/images/20241020-221823_png.rf.3ea7a0fbedbe805f622607d9018a04b5.jpg  \n",
            " extracting: train/images/20241020-221846-copie_png.rf.213cf6d1af37119ca98355fbf78d404b.jpg  \n",
            " extracting: train/images/20241020-221846_png.rf.3fba7c8c11a682fd97afd2dee073fccc.jpg  \n",
            " extracting: train/images/20241020-221847_png.rf.d670cbd9e1a139b8b6868f5a13b8c92b.jpg  \n",
            " extracting: train/images/20241020-221904_png.rf.562a2c2dd2982d8528de5ca458cf3334.jpg  \n",
            " extracting: train/images/20241020-221913_png.rf.7b61d645620846e69cd02a8805f59c27.jpg  \n",
            " extracting: train/images/20241020-221915_png.rf.0362e356fd45540e078b1f57bb4f6b55.jpg  \n",
            " extracting: train/images/20241020-221924_png.rf.cf31f71b5de5a7cc585d29bc4d45addd.jpg  \n",
            " extracting: train/images/20241020-221929_png.rf.f7d9b74d0bc4322e502e17c6c4eb45eb.jpg  \n",
            " extracting: train/images/20241020-221933_png.rf.a9343c30cb8c5989e8b6c8d1ba3092c3.jpg  \n",
            " extracting: train/images/20241020-221952-copie_png.rf.ded97edf20bc34fb194a166260757408.jpg  \n",
            " extracting: train/images/20241020-221952_png.rf.5de0f4960c6f267c6b71832e62d5ae8c.jpg  \n",
            " extracting: train/images/20241020-222006_png.rf.78079f2c0cd0cc6e074591f7c63e16d0.jpg  \n",
            " extracting: train/images/20241020-222037_png.rf.a696cc72b5025089a9560b10fd9f09fd.jpg  \n",
            " extracting: train/images/20241020-222051_png.rf.61c479ca690183a80ec69195551f85f7.jpg  \n",
            " extracting: train/images/20241020-222103_png.rf.6208d893e6ebc4fb2def110bb5ead761.jpg  \n",
            " extracting: train/images/20241020-222112_png.rf.05465321c1f905f5a5119f7749533a0e.jpg  \n",
            " extracting: train/images/20241020-222121_png.rf.bb536e57e157b2ac069a27601df6921e.jpg  \n",
            " extracting: train/images/20241020-222123_png.rf.9388615b911b161b6260a715a7e51b3e.jpg  \n",
            " extracting: train/images/20241020-222205-copie_png.rf.81e5b79ccec860bdc804201bec8c736b.jpg  \n",
            " extracting: train/images/20241020-222205_png.rf.a9adfc8945d6e25620ab5715f26b3ef8.jpg  \n",
            " extracting: train/images/20241020-222210_png.rf.d5e7daabede51def45e6983bd3339418.jpg  \n",
            " extracting: train/images/20241020-222242_png.rf.faca32c6c6f5470d2e59ede1709797f1.jpg  \n",
            " extracting: train/images/20241020-222250_png.rf.74a504a4acff9e2352db7a477a5234a4.jpg  \n",
            " extracting: train/images/20241020-222300_png.rf.a1837cd9d966db872f5933ceb6bbb651.jpg  \n",
            " extracting: train/images/20241020-222318-copie_png.rf.7997bdff388560ebe48f36d2f032bbeb.jpg  \n",
            " extracting: train/images/20241020-222318_png.rf.2d472ee1f7537f51864d4e27df15bf83.jpg  \n",
            " extracting: train/images/20241020-222341_png.rf.2d9365a5f8e5233b0d44aad493fbc231.jpg  \n",
            " extracting: train/images/20241020-222434_png.rf.200670c3b2c7d6817d2e5cb496336dee.jpg  \n",
            " extracting: train/images/20241020-222543_png.rf.c6d5ef39d9ba299c68205972fefb9f93.jpg  \n",
            " extracting: train/images/20241020-222546_png.rf.6150a8c7c113a886c36944b65d69139c.jpg  \n",
            " extracting: train/images/20241020-222614_png.rf.940f60a1d5c85fee88175b4adc187d16.jpg  \n",
            " extracting: train/images/20241020-222638_png.rf.e3e1e8bff4529c3148378a418fea79aa.jpg  \n",
            " extracting: train/images/20241020-222652_png.rf.600a098b0f58019402ae4956c840bdaa.jpg  \n",
            " extracting: train/images/20241020-222657_png.rf.6e4c7c583046ac8c182be0812b6f75f5.jpg  \n",
            " extracting: train/images/20241020-222721_png.rf.4d15b88594f016252fb31b9207bbcbae.jpg  \n",
            " extracting: train/images/20241020-222730_png.rf.84bba18cd4911bb227c567c46c491ab3.jpg  \n",
            " extracting: train/images/20241020-222733_png.rf.a6dcf30f192cd2c3ded1c4e07a8f43dc.jpg  \n",
            " extracting: train/images/20241020-222735_png.rf.57fac2438b0530e788d4df51e5209de2.jpg  \n",
            " extracting: train/images/20241020-222748_png.rf.3f9a7f4206c152ea4144b871c348968b.jpg  \n",
            " extracting: train/images/20241020-222754_png.rf.aa9eab8a8bd69c5912914a89ea85bbf5.jpg  \n",
            " extracting: train/images/20241020-222756_png.rf.9af47c182c0e4fbad07793f9db3f6bd8.jpg  \n",
            " extracting: train/images/20241020-222758_png.rf.472aab2192af407930c7898780add988.jpg  \n",
            " extracting: train/images/20241020-222806_png.rf.011fa7125d9727d2deb899bd93c8911b.jpg  \n",
            " extracting: train/images/20241020-222835_png.rf.67979d20e52aa71a9ef6f8870c55f786.jpg  \n",
            " extracting: train/images/20241020-222910_png.rf.9587c1ea3dc3297260a21fe1b50daf20.jpg  \n",
            " extracting: train/images/20241020-222921_png.rf.16fad2c6004dc1dd8d9b460827a6d573.jpg  \n",
            " extracting: train/images/20241020-222941_png.rf.dc813984df8fcfd85abd3050a48aabdf.jpg  \n",
            " extracting: train/images/20241020-223022_png.rf.545871cd45dc4b872337100846a7443b.jpg  \n",
            " extracting: train/images/20241020-223038_png.rf.3ebcfd8b300782dbcefd6a4c6197a861.jpg  \n",
            " extracting: train/images/20241020-223105_png.rf.37ca4fb606e22034c69fb75d6c48459a.jpg  \n",
            " extracting: train/images/20241020-223203_png.rf.5cec69aa49f65fa0e42edded5a4842a2.jpg  \n",
            " extracting: train/images/20241020-223215-copie_png.rf.2b20cb5cc28f31922af1587cadd5932f.jpg  \n",
            " extracting: train/images/20241020-223215_png.rf.a4a20c8617cd1a03386432fb51ae04ad.jpg  \n",
            " extracting: train/images/20241020-223235_png.rf.afb25a91eb72696dad0637ad7b3f0a5d.jpg  \n",
            " extracting: train/images/20241020-223237_png.rf.7c007440a4a236f326ffa6b628661d82.jpg  \n",
            " extracting: train/images/20241020-223244_png.rf.30190b0c96c8699078b16dc74fecc0a4.jpg  \n",
            " extracting: train/images/20241020-223251_png.rf.632424e748964428f608ddc1a2020530.jpg  \n",
            " extracting: train/images/20241020-223253_png.rf.4cb4446744be9e9b56e9cc439b57153c.jpg  \n",
            " extracting: train/images/20241020-223259_png.rf.1488b18f79fa031b4147e3f5e6ea343d.jpg  \n",
            " extracting: train/images/20241020-223301_png.rf.03344576c886d40c37a1a6bbef2bd7c8.jpg  \n",
            " extracting: train/images/20241020-223319_png.rf.5895e5ac5f589643e628adb0ad8023dc.jpg  \n",
            " extracting: train/images/20241020-223323_png.rf.dd0b7656dafd1cd9c575a86b2048ca63.jpg  \n",
            " extracting: train/images/20241020-223415_png.rf.1f0ac9eff6448575dbe7ba51f88bb7ee.jpg  \n",
            " extracting: train/images/20241020-223438_png.rf.8762af57edc2e0c6c1739a2f01f16abd.jpg  \n",
            " extracting: train/images/20241020-223441_png.rf.335c92db6adf2b197f9375309ebbcf4a.jpg  \n",
            " extracting: train/images/20241020-223444_png.rf.12fc352a10467172f56b1e31d9e6899f.jpg  \n",
            " extracting: train/images/20241020-223453_png.rf.23c3a7e4bacd8eacbdbe5756138052a5.jpg  \n",
            " extracting: train/images/20241020-223505_png.rf.42ca2754a403db19bf2015554204e93d.jpg  \n",
            " extracting: train/images/20241020-223521_png.rf.3a5f6db56655f6deb92e941a42d8c20f.jpg  \n",
            " extracting: train/images/20241020-223523_png.rf.01a099efaad85e490c9fe6233cf1576f.jpg  \n",
            " extracting: train/images/20241020-223530_png.rf.aa1d064411e27e8fe6063fc848a191b1.jpg  \n",
            " extracting: train/images/20241020-223532_png.rf.be360131964a5da38a25264c3ee5fd49.jpg  \n",
            " extracting: train/images/20241020-223553_png.rf.ff7cb414aed07e16e271c699cfa218bb.jpg  \n",
            " extracting: train/images/20241020-223623_png.rf.7cd90a54ed42662083a4da0a6671b844.jpg  \n",
            " extracting: train/images/20241020-223627_png.rf.3ba3e02c42ff00b2c192c5c695eca68b.jpg  \n",
            " extracting: train/images/20241020-223646_png.rf.acafda32f72eebf5a823948257d8ce29.jpg  \n",
            " extracting: train/images/20241020-223700_png.rf.ecc464772f8797be5ba30b4d39c75c17.jpg  \n",
            " extracting: train/images/20241020-223707_png.rf.692410b61b00221dbea009a4fb702afb.jpg  \n",
            " extracting: train/images/20241020-223715_png.rf.17d37cb9492064d07848115a72bb6c6c.jpg  \n",
            " extracting: train/images/20241020-223733_png.rf.ece49d332ec6023c9ab1aa8af4e54728.jpg  \n",
            " extracting: train/images/20241020-223749_png.rf.0dbb0089b7098119063492f0e4a61ce7.jpg  \n",
            " extracting: train/images/20241020-223758_png.rf.73eaf8bfecfb70f16faa0438fcdeb902.jpg  \n",
            " extracting: train/images/20241020-223819_png.rf.153852ccc59dfaf6224a5beac1c4b9ed.jpg  \n",
            " extracting: train/images/20241020-223829_png.rf.4848156dfbf4cec1204480ddbc289ab7.jpg  \n",
            " extracting: train/images/20241020-223834_png.rf.fbde646c28bedde5d8bc2b60387606ca.jpg  \n",
            " extracting: train/images/20241020-223852_png.rf.41352b23d095691509ac880ec2d64647.jpg  \n",
            " extracting: train/images/20241020-223908-copie_png.rf.2db728466363c7e4c888b21fc51cf172.jpg  \n",
            " extracting: train/images/20241020-223908_png.rf.e92ed6aaaa06f657462c415a907645d9.jpg  \n",
            " extracting: train/images/20241020-223926_png.rf.c23e048f4287c2a28e738458dc2a1eed.jpg  \n",
            " extracting: train/images/20241020-223940_png.rf.b7704ab26128a7edbca41864c82fa2d2.jpg  \n",
            " extracting: train/images/20241020-224004_png.rf.793f783467b7fd179007db1e658e89d6.jpg  \n",
            " extracting: train/images/20241020-224018_png.rf.fa3552d8a119f94d626bc9acae5db0f5.jpg  \n",
            " extracting: train/images/20241020-224030_png.rf.0c7d0cedd15578adacbeddf655b89be6.jpg  \n",
            " extracting: train/images/20241020-224123_png.rf.526a162366378b111d7c1d00d22ad1e4.jpg  \n",
            " extracting: train/images/20241020-224148_png.rf.f260671daa769230f45dd2e4e78c96cb.jpg  \n",
            "   creating: train/labels/\n",
            "  inflating: train/labels/20241012-224046_png.rf.0bd7cad93bc54c302202d43df99a2c35.txt  \n",
            "  inflating: train/labels/20241012-224113_png.rf.3a29e8606718f541c3c0f196fd5011ef.txt  \n",
            "  inflating: train/labels/20241012-224132_png.rf.3f168f02c4ee2173a635845a684b027b.txt  \n",
            "  inflating: train/labels/20241013-121029_png.rf.e2278e65b2fe17bef4f4bc2ee3ad7c1f.txt  \n",
            "  inflating: train/labels/20241013-121036_png.rf.f99638a09021cf4c31f19eb978ef14a7.txt  \n",
            "  inflating: train/labels/20241013-121136_png.rf.f4870709bafd3763382f6aa2504b41f4.txt  \n",
            "  inflating: train/labels/20241013-121212_png.rf.ddce711e3df394eb5a0a120147f0b292.txt  \n",
            "  inflating: train/labels/20241013-121223_png.rf.51065497f3d8f662b2f40186f9ec5600.txt  \n",
            "  inflating: train/labels/20241013-121234_png.rf.0097920324c2618647d669ae0ad63739.txt  \n",
            "  inflating: train/labels/20241013-121251_png.rf.4e5d19fd90aa770ea2a1bc94282b8249.txt  \n",
            "  inflating: train/labels/20241013-121309_png.rf.88e07a6ead6e5ed272e5517e3f6591d5.txt  \n",
            "  inflating: train/labels/20241013-121322_png.rf.ada675f1e693ed79549b79b4a5f2967f.txt  \n",
            "  inflating: train/labels/20241013-121341_png.rf.09008e8523deb4ac2dc9fd63c084eee6.txt  \n",
            "  inflating: train/labels/20241013-121440_png.rf.39090147b1505f03b51dad21e528d737.txt  \n",
            "  inflating: train/labels/20241013-121451_png.rf.179a6a4111a839fb40447a358048dbc9.txt  \n",
            "  inflating: train/labels/20241013-121458_png.rf.568e4d8c4d8b8923956a7a26dae49d5d.txt  \n",
            "  inflating: train/labels/20241013-121525_png.rf.4ca2fd92130661d60347ce57e697d856.txt  \n",
            "  inflating: train/labels/20241013-121531_png.rf.123a2be0f1ab47943a82fb3b7384ff1a.txt  \n",
            "  inflating: train/labels/20241013-121539_png.rf.93a1d271fac74b6166ea4deddb1aa742.txt  \n",
            "  inflating: train/labels/20241013-121549_png.rf.0284817798ba0493d8cdaeff17133d2b.txt  \n",
            "  inflating: train/labels/20241013-121604_png.rf.269e7bdfe337ff3dc8d5dda3c49ef8a4.txt  \n",
            "  inflating: train/labels/20241013-121618_png.rf.dd5ab83811d0843f6378da20684ecbd1.txt  \n",
            "  inflating: train/labels/20241013-121624_png.rf.c2fc8e83fb34c50562b197dd3348b719.txt  \n",
            "  inflating: train/labels/20241013-121631_png.rf.9ace9dec23f42f33fe25d3ac3580872d.txt  \n",
            "  inflating: train/labels/20241013-121637_png.rf.54bb7caf7d4f1490b376a8dc2611e2d9.txt  \n",
            "  inflating: train/labels/20241013-121704_png.rf.9d281dc98786273e3732a2cd691854bd.txt  \n",
            "  inflating: train/labels/20241016-170319_png.rf.43b84ba3d4361d4eb242c88b4df1037e.txt  \n",
            "  inflating: train/labels/20241016-170332_png.rf.4831365a6355b5df54c3a1447135037c.txt  \n",
            "  inflating: train/labels/20241016-170424_png.rf.9e31872545d33116825fd4e940c4681f.txt  \n",
            "  inflating: train/labels/20241016-170507_png.rf.9215e60a8ac410fd3bc2a841acbabf51.txt  \n",
            "  inflating: train/labels/20241016-170529_png.rf.77462c7655411186d19e88f0f5d1d69a.txt  \n",
            "  inflating: train/labels/20241016-170551_png.rf.e9344088322532bef19324ce519c13fb.txt  \n",
            "  inflating: train/labels/20241016-170555_png.rf.cbc9020b07d42f1c9a2a4bebfbc07ddb.txt  \n",
            "  inflating: train/labels/20241016-170557_png.rf.3c0cb8da9497b5c8c821cee18ba25ff3.txt  \n",
            "  inflating: train/labels/20241016-170613_png.rf.89c9e8d6aa342e2677dd185768f11b9f.txt  \n",
            "  inflating: train/labels/20241016-170621_png.rf.144850ce1282dc3943e0fdabac90ecf3.txt  \n",
            "  inflating: train/labels/20241016-170635_png.rf.a5cb251b4c1fa49daba8d715e2eabba3.txt  \n",
            "  inflating: train/labels/20241016-170639_png.rf.6255d45d8645f78af865a7f8b9e964c5.txt  \n",
            "  inflating: train/labels/20241016-170641_png.rf.03ace80b75e9043d1572cdf8c2ea9802.txt  \n",
            "  inflating: train/labels/20241016-170646_png.rf.4fb858e548866b6ac08323be41fe227b.txt  \n",
            "  inflating: train/labels/20241016-170700_png.rf.0208f26d4a8e127ebba7814a40a000bb.txt  \n",
            "  inflating: train/labels/20241016-170714_png.rf.d70aa94f3eec1c2f4d5909695104f71c.txt  \n",
            "  inflating: train/labels/20241016-170716_png.rf.88b1b4a7b3898b2a7230543fcecf8142.txt  \n",
            "  inflating: train/labels/20241016-170718_png.rf.cca17e8cde0ed715ef5e87d411bb527a.txt  \n",
            "  inflating: train/labels/20241016-170722_png.rf.e100ecb0916095e9b1dea68d672e2843.txt  \n",
            "  inflating: train/labels/20241016-170724_png.rf.2fdbc5304b104bb37f7b1bd6e4a340d4.txt  \n",
            "  inflating: train/labels/20241016-170740_png.rf.1a10d09accfbf5a3491fc14638eef6ce.txt  \n",
            "  inflating: train/labels/20241016-170743_png.rf.9f199f46a914deeed5dc2247bb694016.txt  \n",
            "  inflating: train/labels/20241016-170756-2_png.rf.f8ee0c543bd0dc6a40b85bb02b8b84c5.txt  \n",
            "  inflating: train/labels/20241016-170756_png.rf.3f88e93c41776022f256daefe1e3f819.txt  \n",
            "  inflating: train/labels/20241016-170805_png.rf.b9980c38641c9a7d42bc31cb189c199b.txt  \n",
            "  inflating: train/labels/20241016-170810_png.rf.0e99516820e554c29c98aa95f985b61c.txt  \n",
            "  inflating: train/labels/20241016-170828_png.rf.a4b5fb140f3fb5094b66a80b147463a7.txt  \n",
            "  inflating: train/labels/20241016-170835_png.rf.57f0f81d4143f28740ceffb380f74eef.txt  \n",
            "  inflating: train/labels/20241016-170836_png.rf.572718e0fd51fbf683279148f69cc214.txt  \n",
            "  inflating: train/labels/20241016-170841_png.rf.3c3a726212c4d796f30bb0948dc0ea8d.txt  \n",
            "  inflating: train/labels/20241016-170849_png.rf.742217d3af977af2d39c68baee1f5e1c.txt  \n",
            "  inflating: train/labels/20241016-170900_png.rf.da76e03e864c441ac7c4742044250b4e.txt  \n",
            "  inflating: train/labels/20241016-170902_png.rf.a880b21aabf9ac2ce566a3e789fd8a11.txt  \n",
            "  inflating: train/labels/20241016-170918_png.rf.13afd48be4252c3392addf0d1737d8b0.txt  \n",
            "  inflating: train/labels/20241016-170919_png.rf.2b08c75c09bdcf0c1b930c12ee1a3b8d.txt  \n",
            "  inflating: train/labels/20241016-170926_png.rf.73439ed872152ec655c3ebac1d572c5e.txt  \n",
            "  inflating: train/labels/20241016-170933_png.rf.af62eeed260ead8b637dea23603aed11.txt  \n",
            "  inflating: train/labels/20241016-170951_png.rf.663cd9a160be2c56bbf63c05212621f4.txt  \n",
            "  inflating: train/labels/20241016-171002-2_png.rf.39e9bddc57b958cfd467bb16ff2ce461.txt  \n",
            "  inflating: train/labels/20241016-171026_png.rf.4f439781e0c90609701612e5ef40e8a6.txt  \n",
            "  inflating: train/labels/20241016-171028_png.rf.95128b6ab4e4378d346cc886a25e2dfe.txt  \n",
            "  inflating: train/labels/20241016-171036_png.rf.edd40f30fa876ac25661d7e2cdff72dd.txt  \n",
            "  inflating: train/labels/20241016-171044_png.rf.e53f58162923200c89f22e3c0fae4bea.txt  \n",
            "  inflating: train/labels/20241016-171047_png.rf.f2dab1c066ad1ebb083f05cdbcba5597.txt  \n",
            "  inflating: train/labels/20241016-171119_png.rf.f8934fde066ae8edee215451600d6c1c.txt  \n",
            "  inflating: train/labels/20241016-171148_png.rf.9a1df42b9db5b7b525c602a1635d5427.txt  \n",
            "  inflating: train/labels/20241016-171153_png.rf.378f2d0d8776e922489212662e494c27.txt  \n",
            "  inflating: train/labels/20241016-171220_png.rf.e6e2960a98a1a947894bc6b7bb21b1a1.txt  \n",
            "  inflating: train/labels/20241016-171225_png.rf.1115eba23a513c602660fd5fa4c3152a.txt  \n",
            "  inflating: train/labels/20241016-171244_png.rf.f650aa50082e1e7d171d1d6b23f38738.txt  \n",
            "  inflating: train/labels/20241016-171245_png.rf.927b3d7472bb1be52f4f692d797a415a.txt  \n",
            "  inflating: train/labels/20241016-171336_png.rf.a036a1e0b6bf35e63977f9883bee93f9.txt  \n",
            "  inflating: train/labels/20241016-171400_png.rf.0d14c526324d4cd8b522bc1a1588c475.txt  \n",
            "  inflating: train/labels/20241016-171424_png.rf.d272f396503430ed679e8b23a94cd0bd.txt  \n",
            "  inflating: train/labels/20241016-171454_png.rf.1aefcab0213b6dfd6e553bf945b52cb3.txt  \n",
            "  inflating: train/labels/20241016-171505_png.rf.6045cb54713de71f05d0905143e2aeb6.txt  \n",
            "  inflating: train/labels/20241016-171521_png.rf.13d168dfe0b29b3ce2cc054247311174.txt  \n",
            "  inflating: train/labels/20241016-171550_png.rf.d6a27f48895cb31e7dac4194b40f7916.txt  \n",
            "  inflating: train/labels/20241016-171814_png.rf.43e9b5f86444255c51be42c3f25bbda0.txt  \n",
            "  inflating: train/labels/20241016-171835_png.rf.f36662a7497c6cf1b148b4c4cf59b3bc.txt  \n",
            "  inflating: train/labels/20241016-173810_png.rf.e03f5af6d185797cd99eb17ace492cd4.txt  \n",
            "  inflating: train/labels/20241016-173817_png.rf.65ab9058bd5c68729c8930737107e12e.txt  \n",
            "  inflating: train/labels/20241016-173830_png.rf.c7591410b7734faf8664e292a051a283.txt  \n",
            "  inflating: train/labels/20241016-173836_png.rf.0426924dedf6dd0c3a082892ca2682c2.txt  \n",
            "  inflating: train/labels/20241016-173837_png.rf.dd3cf282ebcc675dee96fe8305a5a63b.txt  \n",
            "  inflating: train/labels/20241016-173933_png.rf.d2f9c4d960f09fac8b96a21d4ae20dbe.txt  \n",
            "  inflating: train/labels/20241016-173937_png.rf.6909f741cd42bbc7b9663f67bab55580.txt  \n",
            "  inflating: train/labels/20241016-173942_png.rf.8a3f006080fc5a31e1d16b68e95ea41a.txt  \n",
            "  inflating: train/labels/20241016-173944_png.rf.d5169de3be3563a55c17583c2ee609ba.txt  \n",
            "  inflating: train/labels/20241016-173950_png.rf.b8d7c7a3653593d4c66419c6d7963b99.txt  \n",
            "  inflating: train/labels/20241016-173957_png.rf.22dc2511831b9e7bfe69abf96187752d.txt  \n",
            "  inflating: train/labels/20241016-174001_png.rf.5778fde1b442a260da9f43885498a8b9.txt  \n",
            "  inflating: train/labels/20241016-174021_png.rf.c2da4bc4566a67270178b785fb5e7500.txt  \n",
            "  inflating: train/labels/20241016-174036_png.rf.e30c78a655d258bd7d522df57a729a21.txt  \n",
            "  inflating: train/labels/20241016-174053_png.rf.9d57208e86a89c7e1c836612060fb70f.txt  \n",
            "  inflating: train/labels/20241016-174058_png.rf.7bfa904be0390b0e93f7bfa766c8471c.txt  \n",
            "  inflating: train/labels/20241016-174116_png.rf.30cb8f814b5a51252cf0f85b1151bbd2.txt  \n",
            "  inflating: train/labels/20241016-174121_png.rf.8589d93e6d39fcf0fcb880082567d5fa.txt  \n",
            "  inflating: train/labels/20241016-174146_png.rf.b6a4ae288840fe8c3b1afb93c30796d1.txt  \n",
            "  inflating: train/labels/20241016-174207_png.rf.c8e7a74c0f8dfc903574b6e2985318c0.txt  \n",
            "  inflating: train/labels/20241016-174317_png.rf.4f0a3ecd88bfa472b23d73c93e006284.txt  \n",
            "  inflating: train/labels/20241016-174508_png.rf.db9c6f48b72dfb1df231fef9733218c6.txt  \n",
            "  inflating: train/labels/20241016-174538_png.rf.d0a24eb98abf8e8fc0b1fa894bb265dd.txt  \n",
            "  inflating: train/labels/20241016-174559_png.rf.a597628ab02ddb393dd98af344950d44.txt  \n",
            "  inflating: train/labels/20241016-174716_png.rf.4afff4cfacf22e591bf068ec82b7b2e4.txt  \n",
            "  inflating: train/labels/20241017-210336_png.rf.2f98a45a41516b8d7a62139380dd5771.txt  \n",
            "  inflating: train/labels/20241017-210352_png.rf.3aec8da217e56065e48d8b3e23faee72.txt  \n",
            "  inflating: train/labels/20241017-210408_png.rf.4e1e90055e164be72e3b14731114b242.txt  \n",
            "  inflating: train/labels/20241017-210447_png.rf.227b80c01c04bc088836b560dce4d594.txt  \n",
            "  inflating: train/labels/20241017-210451_png.rf.d808f83f80ae44fb245702bee78c69a2.txt  \n",
            "  inflating: train/labels/20241017-210500_png.rf.d88fb04e7dff5e4e76ddf24d140244e2.txt  \n",
            "  inflating: train/labels/20241017-210542_png.rf.ea4554cfb3769dcec130c48784bcc41f.txt  \n",
            "  inflating: train/labels/20241017-210614-2_png.rf.d1ceef56383fb3c13e0bb1be89aebb0f.txt  \n",
            "  inflating: train/labels/20241017-210622_png.rf.299a21e183943aa3417877ae5791e1f1.txt  \n",
            "  inflating: train/labels/20241017-210624_png.rf.29750903cb7f8f17efa30e550a0707d5.txt  \n",
            "  inflating: train/labels/20241017-210634_png.rf.e5a509002496259aa40f9676f267bef7.txt  \n",
            "  inflating: train/labels/20241017-210648_png.rf.bf5b5ffbbe3180f78a7d1d281d37ced8.txt  \n",
            "  inflating: train/labels/20241017-210701_png.rf.7880955a3c97bccb1823e170b31e6872.txt  \n",
            "  inflating: train/labels/20241017-210710_png.rf.8858e589815e49124208f25de96dc38c.txt  \n",
            "  inflating: train/labels/20241017-210717_png.rf.268ff8d718525983828a96d7f3d02a69.txt  \n",
            "  inflating: train/labels/20241017-210738_png.rf.890b743b11c4cf28ce6a9e0677197fab.txt  \n",
            "  inflating: train/labels/20241017-210740_png.rf.2bd7e5093361ae17f8befc844881b575.txt  \n",
            "  inflating: train/labels/20241017-210816_png.rf.b210f3ed58f45421e1f351cd14d72f09.txt  \n",
            "  inflating: train/labels/20241017-210825_png.rf.07b38bf8ee67c3493bd68583c2b3dfac.txt  \n",
            "  inflating: train/labels/20241017-210838_png.rf.186ca853da42053a6b8024c4dde745a0.txt  \n",
            "  inflating: train/labels/20241017-210851_png.rf.7eb098d800d086cdb2c025a6135fb4ac.txt  \n",
            "  inflating: train/labels/20241017-210902_png.rf.90ce6e1a70b6d600c5ef586983d1d444.txt  \n",
            "  inflating: train/labels/20241017-210905_png.rf.a1977e03e9cc74dc109a9cf73403319e.txt  \n",
            "  inflating: train/labels/20241017-210906_png.rf.cdb3b351937f40d081b2714c55b5b770.txt  \n",
            "  inflating: train/labels/20241017-210931-2_png.rf.0beaf7d00ddbba84bf9b12df819e3831.txt  \n",
            "  inflating: train/labels/20241017-210935_png.rf.efdbbbed8c6e92ff0d11344e74304dc2.txt  \n",
            "  inflating: train/labels/20241017-210949-2_png.rf.80a6bf2918e28f814905f5d143913d97.txt  \n",
            "  inflating: train/labels/20241017-210950-2_png.rf.a755f4a1772d76c002caa73b9549fbf9.txt  \n",
            "  inflating: train/labels/20241017-210955-2_png.rf.8a8b68465c6a61c774d3dc3ad87a9c1d.txt  \n",
            "  inflating: train/labels/20241017-210955_png.rf.49bfd6529bf6ab341079d04cb1614e1c.txt  \n",
            "  inflating: train/labels/20241017-211012_png.rf.9b03e5d64bc6ba428391bf0655e9e323.txt  \n",
            "  inflating: train/labels/20241017-211022_png.rf.de4ceb553b1b83949ffe44c767287404.txt  \n",
            "  inflating: train/labels/20241017-211023_png.rf.402c824d1844f869840be647f4dfb127.txt  \n",
            "  inflating: train/labels/20241017-211038_png.rf.1c734a15ba1daa91c7cc9b1a80875fa8.txt  \n",
            "  inflating: train/labels/20241017-211048-2_png.rf.56da6f8a36dbff74c5fa2dfe93053fcc.txt  \n",
            "  inflating: train/labels/20241017-211048_png.rf.3311b2e6e89967806c3d7081e67da2e9.txt  \n",
            "  inflating: train/labels/20241017-211049_png.rf.35847d37b9c9d0be0218be2723418a8d.txt  \n",
            "  inflating: train/labels/20241017-211055_png.rf.a70e6655e02e7e37cee3d0c42f605c69.txt  \n",
            "  inflating: train/labels/20241017-211111_png.rf.022fe83a98e5e7617cf3b0e36b32f3d1.txt  \n",
            "  inflating: train/labels/20241017-211120-2_png.rf.9b9b6f92ed9b8cc311f52f1492f8eace.txt  \n",
            "  inflating: train/labels/20241017-211120_png.rf.54007b34fc725680f01c1f95079bafe2.txt  \n",
            "  inflating: train/labels/20241017-211124_png.rf.33f335f175f38b4416bd55f42e5313d5.txt  \n",
            "  inflating: train/labels/20241017-211133_png.rf.975838c6963d58b1cabbe0d46c426ffa.txt  \n",
            "  inflating: train/labels/20241017-211200_png.rf.67b982228bb02257f15e02eae74a47f4.txt  \n",
            "  inflating: train/labels/20241017-211236_png.rf.052c179af74198717b5de4ddc04f0653.txt  \n",
            "  inflating: train/labels/20241017-211239_png.rf.572601108deb778777e1f272f0dbdbbc.txt  \n",
            "  inflating: train/labels/20241017-211245_png.rf.cc4dd3834e60e5b4e1866b53d3b8a4f2.txt  \n",
            "  inflating: train/labels/20241017-211256_png.rf.ad8b9c704067c93c1d2939fb8716c07c.txt  \n",
            "  inflating: train/labels/20241017-211300_png.rf.173bec7a21d8ddd2ffa5236bca8aa026.txt  \n",
            "  inflating: train/labels/20241017-211315_png.rf.ea5c76b96c8d45f723bda11a3eee1764.txt  \n",
            "  inflating: train/labels/20241017-211320_png.rf.e44a018c08316b279e7faeee972d9943.txt  \n",
            "  inflating: train/labels/20241017-211325_png.rf.0c5e1f262dcf3ab208f6d9e900aa06f6.txt  \n",
            "  inflating: train/labels/20241017-211344_png.rf.1a3b977c6ddf5a2a882471d4d7ff5777.txt  \n",
            "  inflating: train/labels/20241017-211346_png.rf.935ba65fdd16962918bc33c2ee43189e.txt  \n",
            "  inflating: train/labels/20241017-211355_png.rf.9359271b66aafc9a83055d5c8ccfc248.txt  \n",
            "  inflating: train/labels/20241017-211400_png.rf.cbf74e161c9af1913abd169b42d90ff1.txt  \n",
            "  inflating: train/labels/20241017-211403_png.rf.5cae1bf89740fd1bd0c442f8dfcbb3aa.txt  \n",
            "  inflating: train/labels/20241017-211412_png.rf.5e0016a52954be4d6ccc61d3d2ed0056.txt  \n",
            "  inflating: train/labels/20241017-211418_png.rf.23686e079284382365c535c598d79001.txt  \n",
            "  inflating: train/labels/20241017-211421_png.rf.6f4e4748febea21f3f3553264ff7176e.txt  \n",
            "  inflating: train/labels/20241017-211437_png.rf.d5f0b0a4bf15a009909d38ae6bed01a2.txt  \n",
            "  inflating: train/labels/20241017-211442_png.rf.1923c30effe4d3387160e0193a5309a0.txt  \n",
            "  inflating: train/labels/20241017-211456_png.rf.2484d5511a7e1bc2935efd30d0f8bb47.txt  \n",
            "  inflating: train/labels/20241017-211506_png.rf.311eae5a4bc13deb272fe321bd9356ed.txt  \n",
            "  inflating: train/labels/20241017-211519_png.rf.00998ce4a38af2b5732de8e70cc17ae0.txt  \n",
            "  inflating: train/labels/20241017-211521_png.rf.ffab57ed78eaf6d3a86e21c8e70527ab.txt  \n",
            "  inflating: train/labels/20241017-211526_png.rf.4dabfa6f3b654f3d013009f282ceeee0.txt  \n",
            "  inflating: train/labels/20241017-211538_png.rf.19d003ef275541c821f1d70a3dca619b.txt  \n",
            "  inflating: train/labels/20241017-211600_png.rf.2964ce4d5b0582ac1703db703ea4334c.txt  \n",
            "  inflating: train/labels/20241017-211611_png.rf.67dcb7b1515ebb3d0b8fe5c8de0ecb90.txt  \n",
            "  inflating: train/labels/20241017-211724-2_png.rf.aadbece52c513cdafba361478ec355f2.txt  \n",
            "  inflating: train/labels/20241017-211724_png.rf.8fa3271043785e71d9c06eab0c069c0f.txt  \n",
            "  inflating: train/labels/20241017-211742_png.rf.d642d0179c0ba6104c963c488dc5c0d0.txt  \n",
            "  inflating: train/labels/20241017-211754_png.rf.ab5181870293bfabf8ddee88142776c1.txt  \n",
            "  inflating: train/labels/20241017-211818_png.rf.d8548411111a9e9822a8d9692d1221de.txt  \n",
            "  inflating: train/labels/20241017-211837_png.rf.cc9f37a61ff86b0e6e2313d5a9a04d35.txt  \n",
            "  inflating: train/labels/20241017-211843_png.rf.c4996002ca343feefd47bd73145639d0.txt  \n",
            "  inflating: train/labels/20241017-211855_png.rf.39a7d77a8a82f2348d2efcfc14d999e8.txt  \n",
            "  inflating: train/labels/20241017-211900_png.rf.472c065d6738a7e5be1d6089f0866a2a.txt  \n",
            "  inflating: train/labels/20241017-211936_png.rf.07e64223c51ca87a030b741519ae8a41.txt  \n",
            "  inflating: train/labels/20241017-211957_png.rf.d8fbaf409f56f63a9376db04d4503b88.txt  \n",
            "  inflating: train/labels/20241017-212008_png.rf.7745032a770e387d7f0c26143f34996e.txt  \n",
            "  inflating: train/labels/20241017-212030-2_png.rf.319ed87eecdfc2cc2028b00478d9f8b2.txt  \n",
            "  inflating: train/labels/20241017-212030_png.rf.aa2c7d7fa9c4bb05b4a54e1c3ab383bf.txt  \n",
            "  inflating: train/labels/20241017-212033_png.rf.d1a980fa92c83b0f7b6e44cf1436eec4.txt  \n",
            "  inflating: train/labels/20241017-212048_png.rf.4adf468ccc4b5df3f16112ab1bd16ce7.txt  \n",
            "  inflating: train/labels/20241017-212100_png.rf.45d8ff9e5932a557738ead107600ed25.txt  \n",
            "  inflating: train/labels/20241017-212141_png.rf.c5102a018fbf29643ec04e70530e192c.txt  \n",
            "  inflating: train/labels/20241017-212242_png.rf.69b7976c8301868a3655d1efe8654c99.txt  \n",
            "  inflating: train/labels/20241017-212255_png.rf.0fb6ac9f3f06a8d734d1041f7b2a5bd0.txt  \n",
            "  inflating: train/labels/20241017-212313_png.rf.1e1eee46f156c6ebedb93823d5fda959.txt  \n",
            "  inflating: train/labels/20241017-213352_png.rf.3f76b7ddefee36d6290ff08b8d133d6b.txt  \n",
            "  inflating: train/labels/20241020-161400_png.rf.6685cbf659415235c4fc0dec1a4a53d6.txt  \n",
            "  inflating: train/labels/20241020-161403_png.rf.5f73bf250a3ce36fb9691dec494b5fe8.txt  \n",
            "  inflating: train/labels/20241020-161442_png.rf.6ca3ad3ff75d6f69b86e5b95f3aeb5f2.txt  \n",
            "  inflating: train/labels/20241020-161447_png.rf.84bebfe77219dc766c36a4371f692a48.txt  \n",
            "  inflating: train/labels/20241020-161503_png.rf.fd516975ad35884c4430fef288f5a06c.txt  \n",
            "  inflating: train/labels/20241020-161504_png.rf.a42b5739e2d064971f701a21f0a90187.txt  \n",
            "  inflating: train/labels/20241020-161533_png.rf.23799ed64e2f70893656e74c30ac9e09.txt  \n",
            "  inflating: train/labels/20241020-161534_png.rf.6aa12986f85547f50314965526270afc.txt  \n",
            "  inflating: train/labels/20241020-161601_png.rf.412a8a39fb51d6f49df54c51470a4ab6.txt  \n",
            "  inflating: train/labels/20241020-161607_png.rf.c45b84ec50fbe06332eef198c720dd9b.txt  \n",
            "  inflating: train/labels/20241020-161614_png.rf.cc37762b7ab9ba768b66d0cbd7e05671.txt  \n",
            "  inflating: train/labels/20241020-161619_png.rf.bf48050a3110590d37507843d6b70f23.txt  \n",
            "  inflating: train/labels/20241020-161626_png.rf.d577727248253212522615d0aa7be501.txt  \n",
            "  inflating: train/labels/20241020-161633_png.rf.00e6d124d7b4c32f8dda7bf9286928d4.txt  \n",
            "  inflating: train/labels/20241020-161641_png.rf.0893196bfcfb089928a268a5e304ae30.txt  \n",
            "  inflating: train/labels/20241020-161644_png.rf.320808838898d15cc536a1573640908e.txt  \n",
            "  inflating: train/labels/20241020-161656_png.rf.5e5c48b3e7fafa5f215e52f3bbdc0a2a.txt  \n",
            "  inflating: train/labels/20241020-161705_png.rf.c8d8d70f499e45468b22c5bfa5527acf.txt  \n",
            "  inflating: train/labels/20241020-161724_png.rf.0d3fdc4e0da8ec744f4938b9a6b1f718.txt  \n",
            "  inflating: train/labels/20241020-161745_png.rf.46e5f3892c3a3aaa2ac77999b4fdfd07.txt  \n",
            "  inflating: train/labels/20241020-161748_png.rf.ceccd38b75637e8944d97ec547473925.txt  \n",
            "  inflating: train/labels/20241020-161749_png.rf.aa430d862499af30a1b469f2edc888a4.txt  \n",
            "  inflating: train/labels/20241020-161803_png.rf.c6f8ee4e673b8e60339229f96a90201b.txt  \n",
            "  inflating: train/labels/20241020-161805_png.rf.7965502422cb193e21ad92f7e5cf6179.txt  \n",
            "  inflating: train/labels/20241020-161825_png.rf.92795f02e147f6ce4c14b9551169c791.txt  \n",
            "  inflating: train/labels/20241020-161827_png.rf.647c0ef3b06f4fb6b280882f69341d31.txt  \n",
            "  inflating: train/labels/20241020-161829_png.rf.8170de6b4c34f7808771c9a0a3b0605f.txt  \n",
            "  inflating: train/labels/20241020-161851_png.rf.6b0d2c70a1949215bd4df519ddb7815d.txt  \n",
            "  inflating: train/labels/20241020-161904_png.rf.288363f8007aef1a55dd29f1420ac28a.txt  \n",
            "  inflating: train/labels/20241020-161908_png.rf.328d34539e1722c3b5597e90c1f141a6.txt  \n",
            "  inflating: train/labels/20241020-161918_png.rf.bd6706e3e2ea3d6138cd677bb69176d0.txt  \n",
            "  inflating: train/labels/20241020-161921_png.rf.0cc5b7a9f86784f9a0b0e0d253ab8467.txt  \n",
            "  inflating: train/labels/20241020-161935_png.rf.5a5e7855c69328fcd77335b28fb9eea4.txt  \n",
            "  inflating: train/labels/20241020-161937_png.rf.72d36c2228ea28abe078290d91b78e4a.txt  \n",
            "  inflating: train/labels/20241020-161938_png.rf.5b4d762cb211b9d85f7be1bd565ffb6d.txt  \n",
            "  inflating: train/labels/20241020-161953-2_png.rf.0a7ccc05c3f18e2da18045a6d0b0dfa5.txt  \n",
            "  inflating: train/labels/20241020-161953_png.rf.75c15dde324ce35ad771f3d080d7ad77.txt  \n",
            "  inflating: train/labels/20241020-162001_png.rf.681726c4784a1968a964c2328ab69bd8.txt  \n",
            "  inflating: train/labels/20241020-162006_png.rf.03c3479d5fa4a46b1a088e97940bca06.txt  \n",
            "  inflating: train/labels/20241020-162015_png.rf.1375d1c8d2967014a385baa3d46d64f1.txt  \n",
            "  inflating: train/labels/20241020-162016_png.rf.301a5a3ce246e3f5bedf5f5e57282935.txt  \n",
            "  inflating: train/labels/20241020-162027_png.rf.e6fdc098c8aa74dc946cb13d4fcea34a.txt  \n",
            "  inflating: train/labels/20241020-162114_png.rf.ad4bfea2d5d9ed4b58b0601a7b94869c.txt  \n",
            "  inflating: train/labels/20241020-162124_png.rf.f7c65c5c0ca1782719e568e977374081.txt  \n",
            "  inflating: train/labels/20241020-162145_png.rf.6d82ee3fd035b6ac29b21b2cecdfa4a9.txt  \n",
            "  inflating: train/labels/20241020-162150_png.rf.44dd95c6d205aafb13dd13e8b1121a81.txt  \n",
            "  inflating: train/labels/20241020-162211_png.rf.7d8d6b8d98bddc1dae1c9d91c7e0e074.txt  \n",
            "  inflating: train/labels/20241020-162236_png.rf.e6aeedb875c310f464834dc8f3c27078.txt  \n",
            "  inflating: train/labels/20241020-162319_png.rf.76aa9d44c1e3f1f66583e25c447a6027.txt  \n",
            "  inflating: train/labels/20241020-162337-2_png.rf.2e075a1e55b5ac2b9eaecad081595d4d.txt  \n",
            "  inflating: train/labels/20241020-162347_png.rf.f6dac89df7dbfdea2b264f4c0a532a48.txt  \n",
            "  inflating: train/labels/20241020-162357_png.rf.6ce005b07a66a6a5e8f5758c4fbc935a.txt  \n",
            "  inflating: train/labels/20241020-162405_png.rf.11846e4404afebd5712efaf6f0236d78.txt  \n",
            "  inflating: train/labels/20241020-162410-2_png.rf.91d1eb9c306d21e3e0e35868d5ae04a1.txt  \n",
            "  inflating: train/labels/20241020-162410_png.rf.f1a01b07c8b6265332dca70d66537adb.txt  \n",
            "  inflating: train/labels/20241020-162420_png.rf.0ed31943a9f932f482242abc56b6a4a8.txt  \n",
            "  inflating: train/labels/20241020-162441_png.rf.ae670985c6bee684848f06f6c289c3ba.txt  \n",
            "  inflating: train/labels/20241020-162452_png.rf.3b1df529f2363ae5cc640e140ec19e97.txt  \n",
            "  inflating: train/labels/20241020-162454_png.rf.4ce72d45cb872e86f070c9e81fe304c0.txt  \n",
            "  inflating: train/labels/20241020-162527_png.rf.7fd77f59403f2f18f2912dd8b3bfa000.txt  \n",
            "  inflating: train/labels/20241020-162533_png.rf.1e4d61b8c3132dd90112b148d301d628.txt  \n",
            "  inflating: train/labels/20241020-162537_png.rf.54d0117fe5cc17be3c93023082fd1f18.txt  \n",
            "  inflating: train/labels/20241020-162555_png.rf.ff680ab329e5edb51e25c911cbb56367.txt  \n",
            "  inflating: train/labels/20241020-162559_png.rf.e340fd79805788fda7b342f8ea33d27c.txt  \n",
            "  inflating: train/labels/20241020-162603_png.rf.325b8e90f45e1faa2a3af7f5cba2a689.txt  \n",
            "  inflating: train/labels/20241020-162610_png.rf.1e2a7d4ad617b398bc1233418462eea3.txt  \n",
            "  inflating: train/labels/20241020-162617_png.rf.d6e55c616ca8738f11ccffda87b50c48.txt  \n",
            "  inflating: train/labels/20241020-162627_png.rf.1de17ffb0a06f341b5092188e65c4bb0.txt  \n",
            "  inflating: train/labels/20241020-162636-2_png.rf.7755d54f68d4095bde9621f3e53cb8cb.txt  \n",
            "  inflating: train/labels/20241020-162636_png.rf.605b87c8538ecd3e08db5dd0e9ad9235.txt  \n",
            "  inflating: train/labels/20241020-162641_png.rf.447069302dfcf76d848f5635241a1ada.txt  \n",
            "  inflating: train/labels/20241020-162650_png.rf.21e4335f74efac8fd91b065d0b096c13.txt  \n",
            "  inflating: train/labels/20241020-162652_png.rf.4059fcebd0256043afdd7f6f0df6ab26.txt  \n",
            "  inflating: train/labels/20241020-162655_png.rf.891b47d0c8a58cf6871a827943cc0158.txt  \n",
            "  inflating: train/labels/20241020-162738_png.rf.9dc704cfcef7ae5e02377fb302b7754e.txt  \n",
            "  inflating: train/labels/20241020-162748_png.rf.850ee394af367db591c86d813e091685.txt  \n",
            "  inflating: train/labels/20241020-162754_png.rf.5ced745ef23e87eb19da4990b345f50b.txt  \n",
            "  inflating: train/labels/20241020-162757_png.rf.2c9f59d065a9039a61ff2b524894b318.txt  \n",
            "  inflating: train/labels/20241020-162807_png.rf.443d59194a369596d9228fb765526b61.txt  \n",
            "  inflating: train/labels/20241020-162844_png.rf.c57917a2ea0db1961bc65c99cce70be6.txt  \n",
            "  inflating: train/labels/20241020-163012_png.rf.4181803c8caf4a8ab9cf20195bc5728b.txt  \n",
            "  inflating: train/labels/20241020-163045_png.rf.cb4069a459a1e4113fc506568b12715d.txt  \n",
            "  inflating: train/labels/20241020-163209_png.rf.f9c06632505863269cd4a81f5c2979ca.txt  \n",
            "  inflating: train/labels/20241020-163325_png.rf.88c69a893fc392e1b63b8a0109e3b6f6.txt  \n",
            "  inflating: train/labels/20241020-163405_png.rf.f76f0948deb08184de7ef01c3986d4bf.txt  \n",
            "  inflating: train/labels/20241020-163540_png.rf.083ac305582c459c277344d3a9819d26.txt  \n",
            "  inflating: train/labels/20241020-180934_png.rf.74d17cdcec96dc331c3e72390f33b178.txt  \n",
            "  inflating: train/labels/20241020-180945_png.rf.32d6d28762a89c997e5f9cda21e9de1f.txt  \n",
            "  inflating: train/labels/20241020-180947_png.rf.cc71d59d8c5ff7f6fbd318082bbbd051.txt  \n",
            "  inflating: train/labels/20241020-180957_png.rf.c39598c986772a01ea75a31da188db4f.txt  \n",
            "  inflating: train/labels/20241020-181029-copie_png.rf.4b990fa2bbf5c6d3206027a01e64fca0.txt  \n",
            "  inflating: train/labels/20241020-181029_png.rf.c8528ff287b3637dd0e0da3a9ee899ec.txt  \n",
            "  inflating: train/labels/20241020-181052_png.rf.327f961d937738fab9e83c1557546823.txt  \n",
            "  inflating: train/labels/20241020-181100_png.rf.aaa32ad348a347ffcadf80b72050f81f.txt  \n",
            "  inflating: train/labels/20241020-181108_png.rf.ecd349ed6c491f15fb645884ab835a7e.txt  \n",
            "  inflating: train/labels/20241020-181110_png.rf.f5333b06decf1efa30db578103741c1f.txt  \n",
            "  inflating: train/labels/20241020-181115_png.rf.61cea2cee355a30ead0e6ac0c6c7df2d.txt  \n",
            "  inflating: train/labels/20241020-181122_png.rf.f4237cd5218ee065f1f4a416d7c4f6cd.txt  \n",
            "  inflating: train/labels/20241020-181132_png.rf.2099b047e9e3c62377972698ed3aac15.txt  \n",
            "  inflating: train/labels/20241020-181140_png.rf.3c4f07f7b49cf4555b9a9042d46ad19b.txt  \n",
            "  inflating: train/labels/20241020-181148_png.rf.f02b2751047ed699398bec7d1d735a11.txt  \n",
            "  inflating: train/labels/20241020-181158_png.rf.7560dcb21c71236792877513bb010e11.txt  \n",
            "  inflating: train/labels/20241020-181201-copie_png.rf.aa3ba1567cd3b6bed356887f7688c02a.txt  \n",
            "  inflating: train/labels/20241020-181201_png.rf.19e39221656d05ce01df6976b2bdceee.txt  \n",
            "  inflating: train/labels/20241020-181217_png.rf.be12e29cfbadfce3e158d0efc2f2989a.txt  \n",
            "  inflating: train/labels/20241020-181220_png.rf.415c9d2638eabb0117b187fd7542ffc2.txt  \n",
            "  inflating: train/labels/20241020-181241_png.rf.a14cf06f2dd10ab06970f0ea3b49ea4d.txt  \n",
            "  inflating: train/labels/20241020-181244_png.rf.4a1d82e853efa0ee70ec5b4a366305f0.txt  \n",
            "  inflating: train/labels/20241020-181245_png.rf.64b9c7dda37de65430e5c15fc6bb8d97.txt  \n",
            "  inflating: train/labels/20241020-181253_png.rf.40a4597c31b0dc51b5c440c054f1127d.txt  \n",
            "  inflating: train/labels/20241020-181342_png.rf.b7198bda82b8e90642c43f7b6cb8eb9d.txt  \n",
            "  inflating: train/labels/20241020-181344_png.rf.18a63ba569b15ce808b3150ead7e4abc.txt  \n",
            "  inflating: train/labels/20241020-181346_png.rf.ecf5ab4fbc07cd5f09b16a023a08ce25.txt  \n",
            "  inflating: train/labels/20241020-181409_png.rf.eb0691fa0ba9766d0720101ad5550f7a.txt  \n",
            "  inflating: train/labels/20241020-181414_png.rf.c263b4b3b088e52c12ac4004bf8a682e.txt  \n",
            "  inflating: train/labels/20241020-181425_png.rf.30e31a4760c69fc68421861bccd22926.txt  \n",
            "  inflating: train/labels/20241020-181435_png.rf.1919ee9b7dd3d6a388b4c5f7ad941ed9.txt  \n",
            "  inflating: train/labels/20241020-181447_png.rf.960cca1fc6dadc690c7a04b401c6787d.txt  \n",
            "  inflating: train/labels/20241020-181449_png.rf.ccdf9ecf4ee8359110c488bf654b9db9.txt  \n",
            "  inflating: train/labels/20241020-181504_png.rf.a5ef608aca853855b23d400f0efa82db.txt  \n",
            "  inflating: train/labels/20241020-181506_png.rf.69baf581f0436b21a9ab4003dd38c5c7.txt  \n",
            "  inflating: train/labels/20241020-181507_png.rf.c500cb8255287fe719b21d07034c722c.txt  \n",
            "  inflating: train/labels/20241020-181530_png.rf.f68176d8df977817e1a6051e3d0d8235.txt  \n",
            "  inflating: train/labels/20241020-181534_png.rf.f62ecc3b899231b4550ea13714ed13ad.txt  \n",
            "  inflating: train/labels/20241020-181537_png.rf.163bfb0962c9046266e2a558d331a9f1.txt  \n",
            "  inflating: train/labels/20241020-181553_png.rf.81633281d5cb5fcfe28ae47e8fbe7dfe.txt  \n",
            "  inflating: train/labels/20241020-181617_png.rf.608def2fe43217b28fa5e40ba474c6fa.txt  \n",
            "  inflating: train/labels/20241020-181644_png.rf.a273641cdd4b85dbaa6bfe6c5f3a421a.txt  \n",
            "  inflating: train/labels/20241020-181658-copie_png.rf.cef02496d00e7f10d4839fcb20ebdfa7.txt  \n",
            "  inflating: train/labels/20241020-181658_png.rf.3f38423cbeec8f37a80685b48d4ee76e.txt  \n",
            "  inflating: train/labels/20241020-181709_png.rf.2644eed2436348e2aa69d116070fa511.txt  \n",
            "  inflating: train/labels/20241020-181720_png.rf.ff974f85f724c2e0c329cd741c1de5cb.txt  \n",
            "  inflating: train/labels/20241020-181728_png.rf.3edadfe09229020c18b3eead777363ba.txt  \n",
            "  inflating: train/labels/20241020-181744_png.rf.82291df9cfb39ec7aa26bc9e2d997e46.txt  \n",
            "  inflating: train/labels/20241020-181750_png.rf.0d7a9ec609d567ddb3ceacef98b5bc94.txt  \n",
            "  inflating: train/labels/20241020-181755_png.rf.92df2284ce3291afd8fbfd5a0ba00804.txt  \n",
            "  inflating: train/labels/20241020-181842_png.rf.8924efd93e601ed0451f336ff1d31e75.txt  \n",
            "  inflating: train/labels/20241020-181856_png.rf.44209e777bfc2f1daae37f5f7c88faa9.txt  \n",
            "  inflating: train/labels/20241020-181858_png.rf.b15e7b3f31d141219ed58184ee373f70.txt  \n",
            "  inflating: train/labels/20241020-181922_png.rf.0190ecfa986bc895a57efd8c0520837e.txt  \n",
            "  inflating: train/labels/20241020-181929_png.rf.77759ce2b6d9c6c54172224208e9e49b.txt  \n",
            "  inflating: train/labels/20241020-181933_png.rf.dcc07ad037f432233e8da824ce6128be.txt  \n",
            "  inflating: train/labels/20241020-181957_png.rf.3daa8ada8d95d5be5b583e60f2549147.txt  \n",
            "  inflating: train/labels/20241020-182005_png.rf.8670b15a77124e7ae9f082eb481b6d1e.txt  \n",
            "  inflating: train/labels/20241020-182023_png.rf.84f8d143e49fb23c5bb724de7edde14f.txt  \n",
            "  inflating: train/labels/20241020-182028_png.rf.450a3a3546d474171805846e54ed3d29.txt  \n",
            "  inflating: train/labels/20241020-182031_png.rf.db4ec96213429059aec66e4dd685a602.txt  \n",
            "  inflating: train/labels/20241020-182040_png.rf.b2608854e51a051d5651ce92d6d04f3e.txt  \n",
            "  inflating: train/labels/20241020-182051-copie_png.rf.ac9a9b695151aa3075d6a6206f32e86d.txt  \n",
            "  inflating: train/labels/20241020-182051_png.rf.f2753bd434f130c5ea42b1b525f52e47.txt  \n",
            "  inflating: train/labels/20241020-182115_png.rf.bb249db68a3d1de65c6bd0bb86ac7c14.txt  \n",
            "  inflating: train/labels/20241020-182122_png.rf.9d68b7b4f9e5854bb14d5edadd475994.txt  \n",
            "  inflating: train/labels/20241020-182125_png.rf.37c1136a67c72aab408d0b95c56df9d6.txt  \n",
            "  inflating: train/labels/20241020-182140_png.rf.d60f8d3ee9dd378c8018eb61a56d225f.txt  \n",
            "  inflating: train/labels/20241020-182148_png.rf.a1b40503bd0d0b176c8e481cd8088699.txt  \n",
            "  inflating: train/labels/20241020-182208_png.rf.c26d7d198fba17e9a2d0b32b2fb90625.txt  \n",
            "  inflating: train/labels/20241020-182229_png.rf.e74bfb821d9e79a7316c54d5d1abfd54.txt  \n",
            "  inflating: train/labels/20241020-182253_png.rf.8c1dcb36e5411cbc17e8f8189f02a869.txt  \n",
            "  inflating: train/labels/20241020-182308_png.rf.d8403c5a8e242543a2a2386de5b0f483.txt  \n",
            "  inflating: train/labels/20241020-182342_png.rf.1b91a5b0ade2ae5ac1778fbf5fa0b73e.txt  \n",
            "  inflating: train/labels/20241020-182358_png.rf.82affde6afb231870f837f51eed83048.txt  \n",
            "  inflating: train/labels/20241020-182404_png.rf.1c9124164071a75f86ec5b8e77e0f2ab.txt  \n",
            "  inflating: train/labels/20241020-182419_png.rf.6431003aba34c3e4ecc150cd19200baf.txt  \n",
            "  inflating: train/labels/20241020-182424_png.rf.595e1e4038cf28743e157f2ff34d0d0f.txt  \n",
            "  inflating: train/labels/20241020-182446_png.rf.222cdfc93c260ccab898e5b812de07cf.txt  \n",
            "  inflating: train/labels/20241020-182504_png.rf.4a16fd0632d1ae77eb5c53ae8bdf3a7c.txt  \n",
            "  inflating: train/labels/20241020-182513_png.rf.3884919c95b7e00831ba1dacf33b5bbd.txt  \n",
            "  inflating: train/labels/20241020-182528-copie_png.rf.dfabc279b03e1dd3a4c8dfea05dc9133.txt  \n",
            "  inflating: train/labels/20241020-182528_png.rf.6f05921917fd150222cded8734b6537f.txt  \n",
            "  inflating: train/labels/20241020-182543_png.rf.7b1c6ec8759c1c2a89e736fb504c6f16.txt  \n",
            "  inflating: train/labels/20241020-182703_png.rf.752827507a8873c8be83a7d2f93ef832.txt  \n",
            "  inflating: train/labels/20241020-182735_png.rf.89ab0cdc49964c264b479476dd318bf9.txt  \n",
            "  inflating: train/labels/20241020-182926_png.rf.67d221487e3b377131a7091c31f51618.txt  \n",
            "  inflating: train/labels/20241020-182952_png.rf.a8d36fa4fa5456e6f39ed690cce42ddb.txt  \n",
            "  inflating: train/labels/20241020-183032-copie_png.rf.21bb4bc60125f00201ccfb1b9476d427.txt  \n",
            "  inflating: train/labels/20241020-183051_png.rf.4931dde51e8da9bac451069cbfa99d0d.txt  \n",
            "  inflating: train/labels/20241020-183059_png.rf.9eac968119243edb07978777c6457d7b.txt  \n",
            "  inflating: train/labels/20241020-183118-copie_png.rf.46009287d7945acb7e2ce82669997bfb.txt  \n",
            "  inflating: train/labels/20241020-183118_png.rf.5c6559bff1842b6e0abe712c5e35ce4f.txt  \n",
            "  inflating: train/labels/20241020-183129_png.rf.8567a364dbbb334ce3c233afdcf3e61d.txt  \n",
            "  inflating: train/labels/20241020-183140-copie_png.rf.73c3dc1613daa007cc52f194c4303941.txt  \n",
            "  inflating: train/labels/20241020-183140_png.rf.245edccaacbee338fad785049caadc36.txt  \n",
            "  inflating: train/labels/20241020-183144_png.rf.3bfc8d535f585f32184965280168af3f.txt  \n",
            "  inflating: train/labels/20241020-183149_png.rf.c8c27460555450dbfe582e63ae9c0a0d.txt  \n",
            "  inflating: train/labels/20241020-183154_png.rf.8be19d058c58375285fc834318199022.txt  \n",
            "  inflating: train/labels/20241020-183201_png.rf.1cf4c5fd3d5571af311bffbaba3f3b12.txt  \n",
            "  inflating: train/labels/20241020-183305_png.rf.6a2e6eb11d000eb9833ac4e5ff4ee7b9.txt  \n",
            "  inflating: train/labels/20241020-183332_png.rf.9a573c4ceee434af20b03afb9758cf83.txt  \n",
            "  inflating: train/labels/20241020-183404_png.rf.8122ad868088594e461eddb70b37da95.txt  \n",
            "  inflating: train/labels/20241020-183405_png.rf.f19e78af45f186616a80fcc6d01c191e.txt  \n",
            "  inflating: train/labels/20241020-183513_png.rf.61b763389420c042c37e13a6f0010837.txt  \n",
            "  inflating: train/labels/20241020-183551_png.rf.da8fe7bf33348c5acccf8704f2bf109d.txt  \n",
            "  inflating: train/labels/20241020-221109_png.rf.dc7e65a2cecd3afb9b01cc54430e807c.txt  \n",
            "  inflating: train/labels/20241020-221114_png.rf.7238a734ef7fe22ffdd3955982866d43.txt  \n",
            "  inflating: train/labels/20241020-221140_png.rf.ace6453ae1f51bbdb3e5000188d32267.txt  \n",
            "  inflating: train/labels/20241020-221143_png.rf.7a8af17826d6243bbae8e5465e102231.txt  \n",
            "  inflating: train/labels/20241020-221201_png.rf.c7ae620532703cfa9f27eba5a47d2812.txt  \n",
            "  inflating: train/labels/20241020-221208_png.rf.a0d7854d62282db03bcfefce04186239.txt  \n",
            "  inflating: train/labels/20241020-221228_png.rf.6183d2988f7a746abd774126b3f849b6.txt  \n",
            "  inflating: train/labels/20241020-221231_png.rf.c7f6847614e76598d989e9d16cd24764.txt  \n",
            "  inflating: train/labels/20241020-221239_png.rf.c7da3c078dc3da67be8b774c762efaac.txt  \n",
            "  inflating: train/labels/20241020-221244_png.rf.9cb0494d50b34e3ed988e2064c90a484.txt  \n",
            "  inflating: train/labels/20241020-221256_png.rf.38412cdb9dd03ce974232bfc971e75b9.txt  \n",
            "  inflating: train/labels/20241020-221311_png.rf.474d5dd4c34a1cc64f4183cacb06b820.txt  \n",
            "  inflating: train/labels/20241020-221312_png.rf.e6194fe7c21e823d40097ff590730591.txt  \n",
            "  inflating: train/labels/20241020-221313_png.rf.5114786cb23264db4b85d37b534f2f09.txt  \n",
            "  inflating: train/labels/20241020-221317_png.rf.49721296315f9c09987dcf37d44a3cf8.txt  \n",
            "  inflating: train/labels/20241020-221341_png.rf.fbb75f3e45e1a87a34b21b719b1808fc.txt  \n",
            "  inflating: train/labels/20241020-221347_png.rf.a46a1879c9da809cc47e32672cbe9c4f.txt  \n",
            "  inflating: train/labels/20241020-221352_png.rf.f25123494ba6d231120a60bb59a156bf.txt  \n",
            "  inflating: train/labels/20241020-221358_png.rf.2091046ee4fe19b6108b74c38f96e195.txt  \n",
            "  inflating: train/labels/20241020-221415_png.rf.ba81a70ace8edc4b8fc293aa8513f56f.txt  \n",
            "  inflating: train/labels/20241020-221419_png.rf.6037cac4b60d31666bbde1b6f073c3da.txt  \n",
            "  inflating: train/labels/20241020-221424_png.rf.03405a1a0aef36d6f93ce59c9eaf04cd.txt  \n",
            "  inflating: train/labels/20241020-221429_png.rf.7cf12660c109d9924eb00f7263fe5f86.txt  \n",
            "  inflating: train/labels/20241020-221430_png.rf.6fc46e1bcbfd70f6242a3308d1ef1398.txt  \n",
            "  inflating: train/labels/20241020-221431_png.rf.77709ad4f289986fc982fbd4bcc8b25d.txt  \n",
            "  inflating: train/labels/20241020-221448_png.rf.60a9f2f265fdb0718675600b02b6873d.txt  \n",
            "  inflating: train/labels/20241020-221449_png.rf.337455ce5add30bacc0cf0387b945cc5.txt  \n",
            "  inflating: train/labels/20241020-221451_png.rf.9e56c27d17d39bdce2393e3a9ef06b5b.txt  \n",
            "  inflating: train/labels/20241020-221454_png.rf.d826b21d3e5f745fc01f9fc32d675493.txt  \n",
            "  inflating: train/labels/20241020-221504_png.rf.aed7ffaf52b036732db2b1d9810cba56.txt  \n",
            "  inflating: train/labels/20241020-221515_png.rf.3554ae8f29b422b8beab3a26f6d80c99.txt  \n",
            "  inflating: train/labels/20241020-221520_png.rf.18dfc0527febf511804bbd67dd79f6bb.txt  \n",
            "  inflating: train/labels/20241020-221523_png.rf.7fab640e9e79442fad809e135335c736.txt  \n",
            "  inflating: train/labels/20241020-221555_png.rf.dbca2aacb8e6d40c9b9b258cfd2d0074.txt  \n",
            "  inflating: train/labels/20241020-221609_png.rf.a7661c77cf00b201fe924061d95d1871.txt  \n",
            "  inflating: train/labels/20241020-221615_png.rf.8edf3e9108ee8f6fa106bf5fd78d7b61.txt  \n",
            "  inflating: train/labels/20241020-221624_png.rf.ed08f478d15e4dd59e7c52378a8e672d.txt  \n",
            "  inflating: train/labels/20241020-221631_png.rf.968f159cfb490d597b7e768bd5ff690c.txt  \n",
            "  inflating: train/labels/20241020-221647_png.rf.d511f5f7db063d813a652e2c52dd7035.txt  \n",
            "  inflating: train/labels/20241020-221649_png.rf.fe62c6b04443184be56200d2bddf19d3.txt  \n",
            "  inflating: train/labels/20241020-221701_png.rf.56ff1340fb4e6275f1c6025e781a754e.txt  \n",
            "  inflating: train/labels/20241020-221703_png.rf.5b3addcd3aa31bd25b07f2451998bb13.txt  \n",
            "  inflating: train/labels/20241020-221704_png.rf.b6028c93a32fa5fa097cdf7d6efccb05.txt  \n",
            "  inflating: train/labels/20241020-221725_png.rf.0a1998e45115b49f82ee2a6054cc81ac.txt  \n",
            "  inflating: train/labels/20241020-221730_png.rf.86b322a76c72a9314a0183afd9680a48.txt  \n",
            "  inflating: train/labels/20241020-221732_png.rf.074391a751c968da3cc135e7e842edd3.txt  \n",
            "  inflating: train/labels/20241020-221745_png.rf.17c2066c1972a584a271e3ec0810feed.txt  \n",
            "  inflating: train/labels/20241020-221755_png.rf.a0baa4a856ef5f4ba6977898b6889323.txt  \n",
            "  inflating: train/labels/20241020-221816_png.rf.9a30807685236d0d983d47148381da96.txt  \n",
            "  inflating: train/labels/20241020-221823_png.rf.3ea7a0fbedbe805f622607d9018a04b5.txt  \n",
            "  inflating: train/labels/20241020-221846-copie_png.rf.213cf6d1af37119ca98355fbf78d404b.txt  \n",
            "  inflating: train/labels/20241020-221846_png.rf.3fba7c8c11a682fd97afd2dee073fccc.txt  \n",
            "  inflating: train/labels/20241020-221847_png.rf.d670cbd9e1a139b8b6868f5a13b8c92b.txt  \n",
            "  inflating: train/labels/20241020-221904_png.rf.562a2c2dd2982d8528de5ca458cf3334.txt  \n",
            "  inflating: train/labels/20241020-221913_png.rf.7b61d645620846e69cd02a8805f59c27.txt  \n",
            "  inflating: train/labels/20241020-221915_png.rf.0362e356fd45540e078b1f57bb4f6b55.txt  \n",
            "  inflating: train/labels/20241020-221924_png.rf.cf31f71b5de5a7cc585d29bc4d45addd.txt  \n",
            "  inflating: train/labels/20241020-221929_png.rf.f7d9b74d0bc4322e502e17c6c4eb45eb.txt  \n",
            "  inflating: train/labels/20241020-221933_png.rf.a9343c30cb8c5989e8b6c8d1ba3092c3.txt  \n",
            "  inflating: train/labels/20241020-221952-copie_png.rf.ded97edf20bc34fb194a166260757408.txt  \n",
            "  inflating: train/labels/20241020-221952_png.rf.5de0f4960c6f267c6b71832e62d5ae8c.txt  \n",
            "  inflating: train/labels/20241020-222006_png.rf.78079f2c0cd0cc6e074591f7c63e16d0.txt  \n",
            "  inflating: train/labels/20241020-222037_png.rf.a696cc72b5025089a9560b10fd9f09fd.txt  \n",
            "  inflating: train/labels/20241020-222051_png.rf.61c479ca690183a80ec69195551f85f7.txt  \n",
            "  inflating: train/labels/20241020-222103_png.rf.6208d893e6ebc4fb2def110bb5ead761.txt  \n",
            "  inflating: train/labels/20241020-222112_png.rf.05465321c1f905f5a5119f7749533a0e.txt  \n",
            "  inflating: train/labels/20241020-222121_png.rf.bb536e57e157b2ac069a27601df6921e.txt  \n",
            "  inflating: train/labels/20241020-222123_png.rf.9388615b911b161b6260a715a7e51b3e.txt  \n",
            "  inflating: train/labels/20241020-222205-copie_png.rf.81e5b79ccec860bdc804201bec8c736b.txt  \n",
            "  inflating: train/labels/20241020-222205_png.rf.a9adfc8945d6e25620ab5715f26b3ef8.txt  \n",
            "  inflating: train/labels/20241020-222210_png.rf.d5e7daabede51def45e6983bd3339418.txt  \n",
            "  inflating: train/labels/20241020-222242_png.rf.faca32c6c6f5470d2e59ede1709797f1.txt  \n",
            "  inflating: train/labels/20241020-222250_png.rf.74a504a4acff9e2352db7a477a5234a4.txt  \n",
            "  inflating: train/labels/20241020-222300_png.rf.a1837cd9d966db872f5933ceb6bbb651.txt  \n",
            "  inflating: train/labels/20241020-222318-copie_png.rf.7997bdff388560ebe48f36d2f032bbeb.txt  \n",
            "  inflating: train/labels/20241020-222318_png.rf.2d472ee1f7537f51864d4e27df15bf83.txt  \n",
            "  inflating: train/labels/20241020-222341_png.rf.2d9365a5f8e5233b0d44aad493fbc231.txt  \n",
            "  inflating: train/labels/20241020-222434_png.rf.200670c3b2c7d6817d2e5cb496336dee.txt  \n",
            "  inflating: train/labels/20241020-222543_png.rf.c6d5ef39d9ba299c68205972fefb9f93.txt  \n",
            "  inflating: train/labels/20241020-222546_png.rf.6150a8c7c113a886c36944b65d69139c.txt  \n",
            "  inflating: train/labels/20241020-222614_png.rf.940f60a1d5c85fee88175b4adc187d16.txt  \n",
            "  inflating: train/labels/20241020-222638_png.rf.e3e1e8bff4529c3148378a418fea79aa.txt  \n",
            "  inflating: train/labels/20241020-222652_png.rf.600a098b0f58019402ae4956c840bdaa.txt  \n",
            "  inflating: train/labels/20241020-222657_png.rf.6e4c7c583046ac8c182be0812b6f75f5.txt  \n",
            "  inflating: train/labels/20241020-222721_png.rf.4d15b88594f016252fb31b9207bbcbae.txt  \n",
            "  inflating: train/labels/20241020-222730_png.rf.84bba18cd4911bb227c567c46c491ab3.txt  \n",
            "  inflating: train/labels/20241020-222733_png.rf.a6dcf30f192cd2c3ded1c4e07a8f43dc.txt  \n",
            "  inflating: train/labels/20241020-222735_png.rf.57fac2438b0530e788d4df51e5209de2.txt  \n",
            "  inflating: train/labels/20241020-222748_png.rf.3f9a7f4206c152ea4144b871c348968b.txt  \n",
            "  inflating: train/labels/20241020-222754_png.rf.aa9eab8a8bd69c5912914a89ea85bbf5.txt  \n",
            "  inflating: train/labels/20241020-222756_png.rf.9af47c182c0e4fbad07793f9db3f6bd8.txt  \n",
            "  inflating: train/labels/20241020-222758_png.rf.472aab2192af407930c7898780add988.txt  \n",
            "  inflating: train/labels/20241020-222806_png.rf.011fa7125d9727d2deb899bd93c8911b.txt  \n",
            "  inflating: train/labels/20241020-222835_png.rf.67979d20e52aa71a9ef6f8870c55f786.txt  \n",
            "  inflating: train/labels/20241020-222910_png.rf.9587c1ea3dc3297260a21fe1b50daf20.txt  \n",
            "  inflating: train/labels/20241020-222921_png.rf.16fad2c6004dc1dd8d9b460827a6d573.txt  \n",
            "  inflating: train/labels/20241020-222941_png.rf.dc813984df8fcfd85abd3050a48aabdf.txt  \n",
            "  inflating: train/labels/20241020-223022_png.rf.545871cd45dc4b872337100846a7443b.txt  \n",
            "  inflating: train/labels/20241020-223038_png.rf.3ebcfd8b300782dbcefd6a4c6197a861.txt  \n",
            "  inflating: train/labels/20241020-223105_png.rf.37ca4fb606e22034c69fb75d6c48459a.txt  \n",
            "  inflating: train/labels/20241020-223203_png.rf.5cec69aa49f65fa0e42edded5a4842a2.txt  \n",
            "  inflating: train/labels/20241020-223215-copie_png.rf.2b20cb5cc28f31922af1587cadd5932f.txt  \n",
            "  inflating: train/labels/20241020-223215_png.rf.a4a20c8617cd1a03386432fb51ae04ad.txt  \n",
            "  inflating: train/labels/20241020-223235_png.rf.afb25a91eb72696dad0637ad7b3f0a5d.txt  \n",
            "  inflating: train/labels/20241020-223237_png.rf.7c007440a4a236f326ffa6b628661d82.txt  \n",
            "  inflating: train/labels/20241020-223244_png.rf.30190b0c96c8699078b16dc74fecc0a4.txt  \n",
            "  inflating: train/labels/20241020-223251_png.rf.632424e748964428f608ddc1a2020530.txt  \n",
            "  inflating: train/labels/20241020-223253_png.rf.4cb4446744be9e9b56e9cc439b57153c.txt  \n",
            "  inflating: train/labels/20241020-223259_png.rf.1488b18f79fa031b4147e3f5e6ea343d.txt  \n",
            "  inflating: train/labels/20241020-223301_png.rf.03344576c886d40c37a1a6bbef2bd7c8.txt  \n",
            "  inflating: train/labels/20241020-223319_png.rf.5895e5ac5f589643e628adb0ad8023dc.txt  \n",
            "  inflating: train/labels/20241020-223323_png.rf.dd0b7656dafd1cd9c575a86b2048ca63.txt  \n",
            "  inflating: train/labels/20241020-223415_png.rf.1f0ac9eff6448575dbe7ba51f88bb7ee.txt  \n",
            "  inflating: train/labels/20241020-223438_png.rf.8762af57edc2e0c6c1739a2f01f16abd.txt  \n",
            "  inflating: train/labels/20241020-223441_png.rf.335c92db6adf2b197f9375309ebbcf4a.txt  \n",
            "  inflating: train/labels/20241020-223444_png.rf.12fc352a10467172f56b1e31d9e6899f.txt  \n",
            "  inflating: train/labels/20241020-223453_png.rf.23c3a7e4bacd8eacbdbe5756138052a5.txt  \n",
            "  inflating: train/labels/20241020-223505_png.rf.42ca2754a403db19bf2015554204e93d.txt  \n",
            "  inflating: train/labels/20241020-223521_png.rf.3a5f6db56655f6deb92e941a42d8c20f.txt  \n",
            "  inflating: train/labels/20241020-223523_png.rf.01a099efaad85e490c9fe6233cf1576f.txt  \n",
            "  inflating: train/labels/20241020-223530_png.rf.aa1d064411e27e8fe6063fc848a191b1.txt  \n",
            "  inflating: train/labels/20241020-223532_png.rf.be360131964a5da38a25264c3ee5fd49.txt  \n",
            "  inflating: train/labels/20241020-223553_png.rf.ff7cb414aed07e16e271c699cfa218bb.txt  \n",
            "  inflating: train/labels/20241020-223623_png.rf.7cd90a54ed42662083a4da0a6671b844.txt  \n",
            "  inflating: train/labels/20241020-223627_png.rf.3ba3e02c42ff00b2c192c5c695eca68b.txt  \n",
            "  inflating: train/labels/20241020-223646_png.rf.acafda32f72eebf5a823948257d8ce29.txt  \n",
            "  inflating: train/labels/20241020-223700_png.rf.ecc464772f8797be5ba30b4d39c75c17.txt  \n",
            "  inflating: train/labels/20241020-223707_png.rf.692410b61b00221dbea009a4fb702afb.txt  \n",
            "  inflating: train/labels/20241020-223715_png.rf.17d37cb9492064d07848115a72bb6c6c.txt  \n",
            "  inflating: train/labels/20241020-223733_png.rf.ece49d332ec6023c9ab1aa8af4e54728.txt  \n",
            "  inflating: train/labels/20241020-223749_png.rf.0dbb0089b7098119063492f0e4a61ce7.txt  \n",
            "  inflating: train/labels/20241020-223758_png.rf.73eaf8bfecfb70f16faa0438fcdeb902.txt  \n",
            "  inflating: train/labels/20241020-223819_png.rf.153852ccc59dfaf6224a5beac1c4b9ed.txt  \n",
            "  inflating: train/labels/20241020-223829_png.rf.4848156dfbf4cec1204480ddbc289ab7.txt  \n",
            "  inflating: train/labels/20241020-223834_png.rf.fbde646c28bedde5d8bc2b60387606ca.txt  \n",
            "  inflating: train/labels/20241020-223852_png.rf.41352b23d095691509ac880ec2d64647.txt  \n",
            "  inflating: train/labels/20241020-223908-copie_png.rf.2db728466363c7e4c888b21fc51cf172.txt  \n",
            "  inflating: train/labels/20241020-223908_png.rf.e92ed6aaaa06f657462c415a907645d9.txt  \n",
            "  inflating: train/labels/20241020-223926_png.rf.c23e048f4287c2a28e738458dc2a1eed.txt  \n",
            "  inflating: train/labels/20241020-223940_png.rf.b7704ab26128a7edbca41864c82fa2d2.txt  \n",
            "  inflating: train/labels/20241020-224004_png.rf.793f783467b7fd179007db1e658e89d6.txt  \n",
            "  inflating: train/labels/20241020-224018_png.rf.fa3552d8a119f94d626bc9acae5db0f5.txt  \n",
            "  inflating: train/labels/20241020-224030_png.rf.0c7d0cedd15578adacbeddf655b89be6.txt  \n",
            "  inflating: train/labels/20241020-224123_png.rf.526a162366378b111d7c1d00d22ad1e4.txt  \n",
            "  inflating: train/labels/20241020-224148_png.rf.f260671daa769230f45dd2e4e78c96cb.txt  \n",
            "   creating: valid/\n",
            "   creating: valid/images/\n",
            " extracting: valid/images/20241013-121521_png.rf.acca0f587a8a07e2ff8ed48a3aab1f54.jpg  \n",
            " extracting: valid/images/20241013-121558_png.rf.0c585d786f267c67fd9f69e792ecdf94.jpg  \n",
            " extracting: valid/images/20241013-121651_png.rf.54ae0bde36503e8892634d65f88c27ad.jpg  \n",
            " extracting: valid/images/20241013-121713_png.rf.e2d24d84af17ef715ba6a18693f3a3d8.jpg  \n",
            " extracting: valid/images/20241016-170855_png.rf.91f2c4e41b9b1c05f5737611b81903db.jpg  \n",
            " extracting: valid/images/20241016-170941_png.rf.a9cce2208dceb69c4805d69a366e73c8.jpg  \n",
            " extracting: valid/images/20241016-171013_png.rf.525cc69f6e9eea20c14e09f671fa9bf8.jpg  \n",
            " extracting: valid/images/20241016-171022_png.rf.90b6f44800442a140ab0187f9438a2b5.jpg  \n",
            " extracting: valid/images/20241016-171217_png.rf.5b02854586efa483405d2d6f25149cc4.jpg  \n",
            " extracting: valid/images/20241016-171313_png.rf.8dc0099d25983140f79a639e549536e9.jpg  \n",
            " extracting: valid/images/20241016-171344_png.rf.0e4b0d216136f189eb50ad405e7437c5.jpg  \n",
            " extracting: valid/images/20241016-171707_png.rf.d3135c88810c557db2a6d77140ac83b3.jpg  \n",
            " extracting: valid/images/20241016-173829_png.rf.f00c95af82deca121170dea1c8d3b239.jpg  \n",
            " extracting: valid/images/20241016-173905_png.rf.17918fa757faa1bccc63870eca58ef50.jpg  \n",
            " extracting: valid/images/20241016-174003_png.rf.e7d4ff4a1c20adbd742be1623ddd7487.jpg  \n",
            " extracting: valid/images/20241017-210348_png.rf.846c9ff8cd8d6f197a7dedceea57c47b.jpg  \n",
            " extracting: valid/images/20241017-210421_png.rf.755e47705caeb88d633f7afcf8c91d00.jpg  \n",
            " extracting: valid/images/20241017-210623_png.rf.256a2880eb7b0eed0331f836e39b24d2.jpg  \n",
            " extracting: valid/images/20241017-210631-2_png.rf.feaacdd368ded2277f7d75c1e74e3588.jpg  \n",
            " extracting: valid/images/20241017-210754_png.rf.4ab0df771d9a0283302ecb3cfa13dfee.jpg  \n",
            " extracting: valid/images/20241017-210807_png.rf.7db570ff465764676fa402fc132be959.jpg  \n",
            " extracting: valid/images/20241017-210826_png.rf.a1a744cb61f7487792c3fe1780e54eed.jpg  \n",
            " extracting: valid/images/20241017-210923_png.rf.98d80e879e59d89403b76d8d3e0ec33e.jpg  \n",
            " extracting: valid/images/20241017-210934_png.rf.a472d660427c1d740a794f04abeb9ed0.jpg  \n",
            " extracting: valid/images/20241017-211152_png.rf.37353f7765840756165014b6952bd89c.jpg  \n",
            " extracting: valid/images/20241017-211158_png.rf.b4820aedfd879627b653143e60ff4e72.jpg  \n",
            " extracting: valid/images/20241017-211223_png.rf.4a235624df715bc690733a96248954d5.jpg  \n",
            " extracting: valid/images/20241017-211332_png.rf.5e0806ddd9cf1e515dff7ffdd4141be1.jpg  \n",
            " extracting: valid/images/20241017-211527_png.rf.ed186eaab67ee3ba43ac5ce2fa650a8c.jpg  \n",
            " extracting: valid/images/20241017-211556_png.rf.611cfe1d427c470832a93433e4c8d8ce.jpg  \n",
            " extracting: valid/images/20241017-211828_png.rf.97423c8833acb06922d36249b6e72a01.jpg  \n",
            " extracting: valid/images/20241017-211858_png.rf.455f7409f0c32bc52a52fe12a6f07edd.jpg  \n",
            " extracting: valid/images/20241017-211944_png.rf.ed6f27b9ab1780f8a1efb9b54774bf6d.jpg  \n",
            " extracting: valid/images/20241017-212209_png.rf.00cbd5d46b4a39e375b0e5d426d3110b.jpg  \n",
            " extracting: valid/images/20241020-161358_png.rf.cf41cae624fd8c43d5c33178fe79d5fe.jpg  \n",
            " extracting: valid/images/20241020-161427_png.rf.3d4d626255c0b1dced72e0c22478cc7f.jpg  \n",
            " extracting: valid/images/20241020-161555_png.rf.7bb92ce268264f96089de93681254328.jpg  \n",
            " extracting: valid/images/20241020-161559_png.rf.b239d6550b8b13c828e9dc7d3cfeafa8.jpg  \n",
            " extracting: valid/images/20241020-161702_png.rf.8257285ada67ace630f3e3957cf19603.jpg  \n",
            " extracting: valid/images/20241020-161805-2_png.rf.23bc53f5586c25e8f83671cd511be61b.jpg  \n",
            " extracting: valid/images/20241020-161819_png.rf.fdf39e6553ef7bb7ed8e5893cd9cbc6f.jpg  \n",
            " extracting: valid/images/20241020-161833_png.rf.bf7400b1d513822abde340d9c9c42946.jpg  \n",
            " extracting: valid/images/20241020-162020_png.rf.9bf164a6c48656090941512421164cd6.jpg  \n",
            " extracting: valid/images/20241020-162028_png.rf.7af197e5b3e3ced39b7b5654bb160bd3.jpg  \n",
            " extracting: valid/images/20241020-162059_png.rf.d2efe58b9666cd777e6f6cadc48f5336.jpg  \n",
            " extracting: valid/images/20241020-162103_png.rf.3be564fa24e0460596e0bbe185258e1d.jpg  \n",
            " extracting: valid/images/20241020-162112_png.rf.002752e27e11e1877d63444203831806.jpg  \n",
            " extracting: valid/images/20241020-162138_png.rf.ced1084c55949cec85ae0241be1af68d.jpg  \n",
            " extracting: valid/images/20241020-162204_png.rf.e0552602c29f28aa2202ffb76c70b1df.jpg  \n",
            " extracting: valid/images/20241020-162231_png.rf.1739b3827e8e3bacf573521f9c5718d0.jpg  \n",
            " extracting: valid/images/20241020-162248_png.rf.cb59b0082d933e3491820aca88ad51e2.jpg  \n",
            " extracting: valid/images/20241020-162430_png.rf.22b9f994daf12c90de129d3396bfd1a3.jpg  \n",
            " extracting: valid/images/20241020-162502_png.rf.1184b41140eba1dcdc98145d75ced0b4.jpg  \n",
            " extracting: valid/images/20241020-162657_png.rf.fd638fd62acd02477ad64f336235518c.jpg  \n",
            " extracting: valid/images/20241020-162923_png.rf.d54911b884956265242926080b6dbcc8.jpg  \n",
            " extracting: valid/images/20241020-163106_png.rf.6685cecc37c48b07244aa5d634cd55cf.jpg  \n",
            " extracting: valid/images/20241020-180921_png.rf.b225fed29c1c56cf037f3803a2d1eb01.jpg  \n",
            " extracting: valid/images/20241020-181158-copie_png.rf.2fb1b327b7abb01c96b5201bc9cf9f32.jpg  \n",
            " extracting: valid/images/20241020-181214_png.rf.27d333991f1379aec4e0e9023a8f36e2.jpg  \n",
            " extracting: valid/images/20241020-181306_png.rf.d9e8614bbee44bdc5a09699a937683ef.jpg  \n",
            " extracting: valid/images/20241020-181345_png.rf.5249c663a93e2e4c08dafd586da03028.jpg  \n",
            " extracting: valid/images/20241020-181405_png.rf.b281cb5093aa6d877d7266fd127f231b.jpg  \n",
            " extracting: valid/images/20241020-181543_png.rf.012c98d35fa2caa70f2a7a91ade05b92.jpg  \n",
            " extracting: valid/images/20241020-181607_png.rf.cc825b53d0a9497cca723746745823c9.jpg  \n",
            " extracting: valid/images/20241020-181609_png.rf.9ccfaa775d84b52bf25564272998254c.jpg  \n",
            " extracting: valid/images/20241020-181631_png.rf.ff9ae24f260567f229b9f114c0f24c67.jpg  \n",
            " extracting: valid/images/20241020-181633_png.rf.5dfead3b0f3e41b8d88d42c4c2c1b882.jpg  \n",
            " extracting: valid/images/20241020-181800_png.rf.d51e6f03a8941f0b8e24e119f7ddf7a4.jpg  \n",
            " extracting: valid/images/20241020-181913_png.rf.98e58de2d11c4cfba261f34552a817e2.jpg  \n",
            " extracting: valid/images/20241020-181951_png.rf.006418af3ca22239f23fcc9708a3260d.jpg  \n",
            " extracting: valid/images/20241020-182021_png.rf.b9c29c6eefe5191a6643132d7a29bfc4.jpg  \n",
            " extracting: valid/images/20241020-182114_png.rf.2be21dcb881f04abbab04320eeea6994.jpg  \n",
            " extracting: valid/images/20241020-183032_png.rf.e94992bd90a57aa02f7ef461c80942b7.jpg  \n",
            " extracting: valid/images/20241020-183252_png.rf.318dc10c1145e2f5a6361aa4960101c4.jpg  \n",
            " extracting: valid/images/20241020-183329_png.rf.38c850243f1d4237f609b95c79910858.jpg  \n",
            " extracting: valid/images/20241020-183423_png.rf.2e28d051de25970d981b748ff1021577.jpg  \n",
            " extracting: valid/images/20241020-183443_png.rf.1a57264413e86914a51d207c07619224.jpg  \n",
            " extracting: valid/images/20241020-221135_png.rf.0388321f4de079f2596dc1af2d2f6945.jpg  \n",
            " extracting: valid/images/20241020-221515-copie_png.rf.c0f4e1df2afd089b144f34f4bfb9f3f6.jpg  \n",
            " extracting: valid/images/20241020-221621_png.rf.a77762fcc1bca4b76475dba1559a274a.jpg  \n",
            " extracting: valid/images/20241020-221639_png.rf.138ea6fc8a917d2c09e8766edc2c1482.jpg  \n",
            " extracting: valid/images/20241020-221652_png.rf.7e8fa5336a3cabc0fedf6e61d2c8e111.jpg  \n",
            " extracting: valid/images/20241020-221738_png.rf.a061207406960a158247e875e2d7b8b0.jpg  \n",
            " extracting: valid/images/20241020-221753_png.rf.36b378e8fea4a2f51fbb380a313a627d.jpg  \n",
            " extracting: valid/images/20241020-221821_png.rf.9a6c593e2e47d1313d59d2c81fde9ec7.jpg  \n",
            " extracting: valid/images/20241020-221900_png.rf.242f8047d4128a05dedc3660dc8c8150.jpg  \n",
            " extracting: valid/images/20241020-221926_png.rf.a22484d1a9b02ccbbeecdb65b6606f37.jpg  \n",
            " extracting: valid/images/20241020-222036_png.rf.1e636ed2946a15813eab1cd9260392f7.jpg  \n",
            " extracting: valid/images/20241020-222130_png.rf.273fbae06243d26ca28fe5761bf05dc7.jpg  \n",
            " extracting: valid/images/20241020-222615_png.rf.4472318fe3ea7b5e251adf67e8b90abd.jpg  \n",
            " extracting: valid/images/20241020-222819_png.rf.abc2318ad8903f26c1d28bb8c097888a.jpg  \n",
            " extracting: valid/images/20241020-223129_png.rf.1a628bb75011e7ff65f95c9368778dbc.jpg  \n",
            " extracting: valid/images/20241020-223156_png.rf.4022b402fed54ed6d861fe10928757aa.jpg  \n",
            " extracting: valid/images/20241020-223205_png.rf.99674b32844ebb2ef259c7b9ad209242.jpg  \n",
            " extracting: valid/images/20241020-223300_png.rf.fbef7e292431b4d185ff3749b480128f.jpg  \n",
            " extracting: valid/images/20241020-223302_png.rf.543f622898ca5f7718964faa286ee445.jpg  \n",
            " extracting: valid/images/20241020-223337_png.rf.4cf75f055006dfd889e352cb6a508adb.jpg  \n",
            " extracting: valid/images/20241020-223344-copie_png.rf.997d034da9dad81579c43e734bc5ea01.jpg  \n",
            " extracting: valid/images/20241020-223427_png.rf.800a54120edd81078b4438cbbd3f4e78.jpg  \n",
            " extracting: valid/images/20241020-223455_png.rf.590414d6e60c22e79f57f51071739062.jpg  \n",
            " extracting: valid/images/20241020-223558_png.rf.4d6e1a70c69042f29bf99e4208734e57.jpg  \n",
            " extracting: valid/images/20241020-223601_png.rf.64e64bf24e66952cffda65cb1787edd8.jpg  \n",
            " extracting: valid/images/20241020-223642_png.rf.69a61213816874a9fa6106f3a6970562.jpg  \n",
            " extracting: valid/images/20241020-223648_png.rf.4a6eaee8c07063fbbb567dbe44f631a4.jpg  \n",
            " extracting: valid/images/20241020-223713_png.rf.01a46ac06a2acba72389319f382bdeab.jpg  \n",
            " extracting: valid/images/20241020-223801_png.rf.4c224afdd8ce3cfbcfc2cec6d3d9ac7c.jpg  \n",
            " extracting: valid/images/20241020-224226_png.rf.104f46c65f096b167c34b382deac6af2.jpg  \n",
            " extracting: valid/images/20241020-224347_png.rf.400fb76fd634d15a9f54213cfefc96d7.jpg  \n",
            "   creating: valid/labels/\n",
            "  inflating: valid/labels/20241013-121521_png.rf.acca0f587a8a07e2ff8ed48a3aab1f54.txt  \n",
            "  inflating: valid/labels/20241013-121558_png.rf.0c585d786f267c67fd9f69e792ecdf94.txt  \n",
            "  inflating: valid/labels/20241013-121651_png.rf.54ae0bde36503e8892634d65f88c27ad.txt  \n",
            "  inflating: valid/labels/20241013-121713_png.rf.e2d24d84af17ef715ba6a18693f3a3d8.txt  \n",
            "  inflating: valid/labels/20241016-170855_png.rf.91f2c4e41b9b1c05f5737611b81903db.txt  \n",
            "  inflating: valid/labels/20241016-170941_png.rf.a9cce2208dceb69c4805d69a366e73c8.txt  \n",
            "  inflating: valid/labels/20241016-171013_png.rf.525cc69f6e9eea20c14e09f671fa9bf8.txt  \n",
            "  inflating: valid/labels/20241016-171022_png.rf.90b6f44800442a140ab0187f9438a2b5.txt  \n",
            "  inflating: valid/labels/20241016-171217_png.rf.5b02854586efa483405d2d6f25149cc4.txt  \n",
            "  inflating: valid/labels/20241016-171313_png.rf.8dc0099d25983140f79a639e549536e9.txt  \n",
            "  inflating: valid/labels/20241016-171344_png.rf.0e4b0d216136f189eb50ad405e7437c5.txt  \n",
            "  inflating: valid/labels/20241016-171707_png.rf.d3135c88810c557db2a6d77140ac83b3.txt  \n",
            "  inflating: valid/labels/20241016-173829_png.rf.f00c95af82deca121170dea1c8d3b239.txt  \n",
            "  inflating: valid/labels/20241016-173905_png.rf.17918fa757faa1bccc63870eca58ef50.txt  \n",
            "  inflating: valid/labels/20241016-174003_png.rf.e7d4ff4a1c20adbd742be1623ddd7487.txt  \n",
            "  inflating: valid/labels/20241017-210348_png.rf.846c9ff8cd8d6f197a7dedceea57c47b.txt  \n",
            "  inflating: valid/labels/20241017-210421_png.rf.755e47705caeb88d633f7afcf8c91d00.txt  \n",
            "  inflating: valid/labels/20241017-210623_png.rf.256a2880eb7b0eed0331f836e39b24d2.txt  \n",
            "  inflating: valid/labels/20241017-210631-2_png.rf.feaacdd368ded2277f7d75c1e74e3588.txt  \n",
            "  inflating: valid/labels/20241017-210754_png.rf.4ab0df771d9a0283302ecb3cfa13dfee.txt  \n",
            "  inflating: valid/labels/20241017-210807_png.rf.7db570ff465764676fa402fc132be959.txt  \n",
            "  inflating: valid/labels/20241017-210826_png.rf.a1a744cb61f7487792c3fe1780e54eed.txt  \n",
            "  inflating: valid/labels/20241017-210923_png.rf.98d80e879e59d89403b76d8d3e0ec33e.txt  \n",
            "  inflating: valid/labels/20241017-210934_png.rf.a472d660427c1d740a794f04abeb9ed0.txt  \n",
            "  inflating: valid/labels/20241017-211152_png.rf.37353f7765840756165014b6952bd89c.txt  \n",
            "  inflating: valid/labels/20241017-211158_png.rf.b4820aedfd879627b653143e60ff4e72.txt  \n",
            "  inflating: valid/labels/20241017-211223_png.rf.4a235624df715bc690733a96248954d5.txt  \n",
            "  inflating: valid/labels/20241017-211332_png.rf.5e0806ddd9cf1e515dff7ffdd4141be1.txt  \n",
            "  inflating: valid/labels/20241017-211527_png.rf.ed186eaab67ee3ba43ac5ce2fa650a8c.txt  \n",
            "  inflating: valid/labels/20241017-211556_png.rf.611cfe1d427c470832a93433e4c8d8ce.txt  \n",
            "  inflating: valid/labels/20241017-211828_png.rf.97423c8833acb06922d36249b6e72a01.txt  \n",
            "  inflating: valid/labels/20241017-211858_png.rf.455f7409f0c32bc52a52fe12a6f07edd.txt  \n",
            "  inflating: valid/labels/20241017-211944_png.rf.ed6f27b9ab1780f8a1efb9b54774bf6d.txt  \n",
            "  inflating: valid/labels/20241017-212209_png.rf.00cbd5d46b4a39e375b0e5d426d3110b.txt  \n",
            "  inflating: valid/labels/20241020-161358_png.rf.cf41cae624fd8c43d5c33178fe79d5fe.txt  \n",
            "  inflating: valid/labels/20241020-161427_png.rf.3d4d626255c0b1dced72e0c22478cc7f.txt  \n",
            "  inflating: valid/labels/20241020-161555_png.rf.7bb92ce268264f96089de93681254328.txt  \n",
            "  inflating: valid/labels/20241020-161559_png.rf.b239d6550b8b13c828e9dc7d3cfeafa8.txt  \n",
            "  inflating: valid/labels/20241020-161702_png.rf.8257285ada67ace630f3e3957cf19603.txt  \n",
            "  inflating: valid/labels/20241020-161805-2_png.rf.23bc53f5586c25e8f83671cd511be61b.txt  \n",
            "  inflating: valid/labels/20241020-161819_png.rf.fdf39e6553ef7bb7ed8e5893cd9cbc6f.txt  \n",
            "  inflating: valid/labels/20241020-161833_png.rf.bf7400b1d513822abde340d9c9c42946.txt  \n",
            "  inflating: valid/labels/20241020-162020_png.rf.9bf164a6c48656090941512421164cd6.txt  \n",
            "  inflating: valid/labels/20241020-162028_png.rf.7af197e5b3e3ced39b7b5654bb160bd3.txt  \n",
            "  inflating: valid/labels/20241020-162059_png.rf.d2efe58b9666cd777e6f6cadc48f5336.txt  \n",
            "  inflating: valid/labels/20241020-162103_png.rf.3be564fa24e0460596e0bbe185258e1d.txt  \n",
            "  inflating: valid/labels/20241020-162112_png.rf.002752e27e11e1877d63444203831806.txt  \n",
            "  inflating: valid/labels/20241020-162138_png.rf.ced1084c55949cec85ae0241be1af68d.txt  \n",
            "  inflating: valid/labels/20241020-162204_png.rf.e0552602c29f28aa2202ffb76c70b1df.txt  \n",
            "  inflating: valid/labels/20241020-162231_png.rf.1739b3827e8e3bacf573521f9c5718d0.txt  \n",
            "  inflating: valid/labels/20241020-162248_png.rf.cb59b0082d933e3491820aca88ad51e2.txt  \n",
            "  inflating: valid/labels/20241020-162430_png.rf.22b9f994daf12c90de129d3396bfd1a3.txt  \n",
            "  inflating: valid/labels/20241020-162502_png.rf.1184b41140eba1dcdc98145d75ced0b4.txt  \n",
            "  inflating: valid/labels/20241020-162657_png.rf.fd638fd62acd02477ad64f336235518c.txt  \n",
            "  inflating: valid/labels/20241020-162923_png.rf.d54911b884956265242926080b6dbcc8.txt  \n",
            "  inflating: valid/labels/20241020-163106_png.rf.6685cecc37c48b07244aa5d634cd55cf.txt  \n",
            "  inflating: valid/labels/20241020-180921_png.rf.b225fed29c1c56cf037f3803a2d1eb01.txt  \n",
            "  inflating: valid/labels/20241020-181158-copie_png.rf.2fb1b327b7abb01c96b5201bc9cf9f32.txt  \n",
            "  inflating: valid/labels/20241020-181214_png.rf.27d333991f1379aec4e0e9023a8f36e2.txt  \n",
            "  inflating: valid/labels/20241020-181306_png.rf.d9e8614bbee44bdc5a09699a937683ef.txt  \n",
            "  inflating: valid/labels/20241020-181345_png.rf.5249c663a93e2e4c08dafd586da03028.txt  \n",
            "  inflating: valid/labels/20241020-181405_png.rf.b281cb5093aa6d877d7266fd127f231b.txt  \n",
            "  inflating: valid/labels/20241020-181543_png.rf.012c98d35fa2caa70f2a7a91ade05b92.txt  \n",
            "  inflating: valid/labels/20241020-181607_png.rf.cc825b53d0a9497cca723746745823c9.txt  \n",
            "  inflating: valid/labels/20241020-181609_png.rf.9ccfaa775d84b52bf25564272998254c.txt  \n",
            "  inflating: valid/labels/20241020-181631_png.rf.ff9ae24f260567f229b9f114c0f24c67.txt  \n",
            "  inflating: valid/labels/20241020-181633_png.rf.5dfead3b0f3e41b8d88d42c4c2c1b882.txt  \n",
            "  inflating: valid/labels/20241020-181800_png.rf.d51e6f03a8941f0b8e24e119f7ddf7a4.txt  \n",
            "  inflating: valid/labels/20241020-181913_png.rf.98e58de2d11c4cfba261f34552a817e2.txt  \n",
            "  inflating: valid/labels/20241020-181951_png.rf.006418af3ca22239f23fcc9708a3260d.txt  \n",
            "  inflating: valid/labels/20241020-182021_png.rf.b9c29c6eefe5191a6643132d7a29bfc4.txt  \n",
            "  inflating: valid/labels/20241020-182114_png.rf.2be21dcb881f04abbab04320eeea6994.txt  \n",
            "  inflating: valid/labels/20241020-183032_png.rf.e94992bd90a57aa02f7ef461c80942b7.txt  \n",
            "  inflating: valid/labels/20241020-183252_png.rf.318dc10c1145e2f5a6361aa4960101c4.txt  \n",
            "  inflating: valid/labels/20241020-183329_png.rf.38c850243f1d4237f609b95c79910858.txt  \n",
            "  inflating: valid/labels/20241020-183423_png.rf.2e28d051de25970d981b748ff1021577.txt  \n",
            "  inflating: valid/labels/20241020-183443_png.rf.1a57264413e86914a51d207c07619224.txt  \n",
            "  inflating: valid/labels/20241020-221135_png.rf.0388321f4de079f2596dc1af2d2f6945.txt  \n",
            "  inflating: valid/labels/20241020-221515-copie_png.rf.c0f4e1df2afd089b144f34f4bfb9f3f6.txt  \n",
            "  inflating: valid/labels/20241020-221621_png.rf.a77762fcc1bca4b76475dba1559a274a.txt  \n",
            "  inflating: valid/labels/20241020-221639_png.rf.138ea6fc8a917d2c09e8766edc2c1482.txt  \n",
            "  inflating: valid/labels/20241020-221652_png.rf.7e8fa5336a3cabc0fedf6e61d2c8e111.txt  \n",
            "  inflating: valid/labels/20241020-221738_png.rf.a061207406960a158247e875e2d7b8b0.txt  \n",
            "  inflating: valid/labels/20241020-221753_png.rf.36b378e8fea4a2f51fbb380a313a627d.txt  \n",
            "  inflating: valid/labels/20241020-221821_png.rf.9a6c593e2e47d1313d59d2c81fde9ec7.txt  \n",
            "  inflating: valid/labels/20241020-221900_png.rf.242f8047d4128a05dedc3660dc8c8150.txt  \n",
            "  inflating: valid/labels/20241020-221926_png.rf.a22484d1a9b02ccbbeecdb65b6606f37.txt  \n",
            "  inflating: valid/labels/20241020-222036_png.rf.1e636ed2946a15813eab1cd9260392f7.txt  \n",
            "  inflating: valid/labels/20241020-222130_png.rf.273fbae06243d26ca28fe5761bf05dc7.txt  \n",
            "  inflating: valid/labels/20241020-222615_png.rf.4472318fe3ea7b5e251adf67e8b90abd.txt  \n",
            "  inflating: valid/labels/20241020-222819_png.rf.abc2318ad8903f26c1d28bb8c097888a.txt  \n",
            "  inflating: valid/labels/20241020-223129_png.rf.1a628bb75011e7ff65f95c9368778dbc.txt  \n",
            "  inflating: valid/labels/20241020-223156_png.rf.4022b402fed54ed6d861fe10928757aa.txt  \n",
            "  inflating: valid/labels/20241020-223205_png.rf.99674b32844ebb2ef259c7b9ad209242.txt  \n",
            "  inflating: valid/labels/20241020-223300_png.rf.fbef7e292431b4d185ff3749b480128f.txt  \n",
            "  inflating: valid/labels/20241020-223302_png.rf.543f622898ca5f7718964faa286ee445.txt  \n",
            "  inflating: valid/labels/20241020-223337_png.rf.4cf75f055006dfd889e352cb6a508adb.txt  \n",
            "  inflating: valid/labels/20241020-223344-copie_png.rf.997d034da9dad81579c43e734bc5ea01.txt  \n",
            "  inflating: valid/labels/20241020-223427_png.rf.800a54120edd81078b4438cbbd3f4e78.txt  \n",
            "  inflating: valid/labels/20241020-223455_png.rf.590414d6e60c22e79f57f51071739062.txt  \n",
            "  inflating: valid/labels/20241020-223558_png.rf.4d6e1a70c69042f29bf99e4208734e57.txt  \n",
            "  inflating: valid/labels/20241020-223601_png.rf.64e64bf24e66952cffda65cb1787edd8.txt  \n",
            "  inflating: valid/labels/20241020-223642_png.rf.69a61213816874a9fa6106f3a6970562.txt  \n",
            "  inflating: valid/labels/20241020-223648_png.rf.4a6eaee8c07063fbbb567dbe44f631a4.txt  \n",
            "  inflating: valid/labels/20241020-223713_png.rf.01a46ac06a2acba72389319f382bdeab.txt  \n",
            "  inflating: valid/labels/20241020-223801_png.rf.4c224afdd8ce3cfbcfc2cec6d3d9ac7c.txt  \n",
            "  inflating: valid/labels/20241020-224226_png.rf.104f46c65f096b167c34b382deac6af2.txt  \n",
            "  inflating: valid/labels/20241020-224347_png.rf.400fb76fd634d15a9f54213cfefc96d7.txt  \n"
          ]
        }
      ]
    },
    {
      "cell_type": "code",
      "source": [
        "!pip install ultralytics"
      ],
      "metadata": {
        "colab": {
          "base_uri": "https://localhost:8080/"
        },
        "id": "CJigIFQC33I6",
        "outputId": "af576ca4-53f7-45ad-e25f-98a81380b711"
      },
      "execution_count": null,
      "outputs": [
        {
          "output_type": "stream",
          "name": "stdout",
          "text": [
            "Collecting ultralytics\n",
            "  Downloading ultralytics-8.3.23-py3-none-any.whl.metadata (35 kB)\n",
            "Requirement already satisfied: numpy>=1.23.0 in /usr/local/lib/python3.10/dist-packages (from ultralytics) (1.26.4)\n",
            "Requirement already satisfied: matplotlib>=3.3.0 in /usr/local/lib/python3.10/dist-packages (from ultralytics) (3.7.1)\n",
            "Requirement already satisfied: opencv-python>=4.6.0 in /usr/local/lib/python3.10/dist-packages (from ultralytics) (4.10.0.84)\n",
            "Requirement already satisfied: pillow>=7.1.2 in /usr/local/lib/python3.10/dist-packages (from ultralytics) (10.4.0)\n",
            "Requirement already satisfied: pyyaml>=5.3.1 in /usr/local/lib/python3.10/dist-packages (from ultralytics) (6.0.2)\n",
            "Requirement already satisfied: requests>=2.23.0 in /usr/local/lib/python3.10/dist-packages (from ultralytics) (2.32.3)\n",
            "Requirement already satisfied: scipy>=1.4.1 in /usr/local/lib/python3.10/dist-packages (from ultralytics) (1.13.1)\n",
            "Requirement already satisfied: torch>=1.8.0 in /usr/local/lib/python3.10/dist-packages (from ultralytics) (2.5.0+cu121)\n",
            "Requirement already satisfied: torchvision>=0.9.0 in /usr/local/lib/python3.10/dist-packages (from ultralytics) (0.20.0+cu121)\n",
            "Requirement already satisfied: tqdm>=4.64.0 in /usr/local/lib/python3.10/dist-packages (from ultralytics) (4.66.5)\n",
            "Requirement already satisfied: psutil in /usr/local/lib/python3.10/dist-packages (from ultralytics) (5.9.5)\n",
            "Requirement already satisfied: py-cpuinfo in /usr/local/lib/python3.10/dist-packages (from ultralytics) (9.0.0)\n",
            "Requirement already satisfied: pandas>=1.1.4 in /usr/local/lib/python3.10/dist-packages (from ultralytics) (2.2.2)\n",
            "Requirement already satisfied: seaborn>=0.11.0 in /usr/local/lib/python3.10/dist-packages (from ultralytics) (0.13.2)\n",
            "Collecting ultralytics-thop>=2.0.0 (from ultralytics)\n",
            "  Downloading ultralytics_thop-2.0.9-py3-none-any.whl.metadata (9.3 kB)\n",
            "Requirement already satisfied: contourpy>=1.0.1 in /usr/local/lib/python3.10/dist-packages (from matplotlib>=3.3.0->ultralytics) (1.3.0)\n",
            "Requirement already satisfied: cycler>=0.10 in /usr/local/lib/python3.10/dist-packages (from matplotlib>=3.3.0->ultralytics) (0.12.1)\n",
            "Requirement already satisfied: fonttools>=4.22.0 in /usr/local/lib/python3.10/dist-packages (from matplotlib>=3.3.0->ultralytics) (4.54.1)\n",
            "Requirement already satisfied: kiwisolver>=1.0.1 in /usr/local/lib/python3.10/dist-packages (from matplotlib>=3.3.0->ultralytics) (1.4.7)\n",
            "Requirement already satisfied: packaging>=20.0 in /usr/local/lib/python3.10/dist-packages (from matplotlib>=3.3.0->ultralytics) (24.1)\n",
            "Requirement already satisfied: pyparsing>=2.3.1 in /usr/local/lib/python3.10/dist-packages (from matplotlib>=3.3.0->ultralytics) (3.2.0)\n",
            "Requirement already satisfied: python-dateutil>=2.7 in /usr/local/lib/python3.10/dist-packages (from matplotlib>=3.3.0->ultralytics) (2.8.2)\n",
            "Requirement already satisfied: pytz>=2020.1 in /usr/local/lib/python3.10/dist-packages (from pandas>=1.1.4->ultralytics) (2024.2)\n",
            "Requirement already satisfied: tzdata>=2022.7 in /usr/local/lib/python3.10/dist-packages (from pandas>=1.1.4->ultralytics) (2024.2)\n",
            "Requirement already satisfied: charset-normalizer<4,>=2 in /usr/local/lib/python3.10/dist-packages (from requests>=2.23.0->ultralytics) (3.4.0)\n",
            "Requirement already satisfied: idna<4,>=2.5 in /usr/local/lib/python3.10/dist-packages (from requests>=2.23.0->ultralytics) (3.10)\n",
            "Requirement already satisfied: urllib3<3,>=1.21.1 in /usr/local/lib/python3.10/dist-packages (from requests>=2.23.0->ultralytics) (2.2.3)\n",
            "Requirement already satisfied: certifi>=2017.4.17 in /usr/local/lib/python3.10/dist-packages (from requests>=2.23.0->ultralytics) (2024.8.30)\n",
            "Requirement already satisfied: filelock in /usr/local/lib/python3.10/dist-packages (from torch>=1.8.0->ultralytics) (3.16.1)\n",
            "Requirement already satisfied: typing-extensions>=4.8.0 in /usr/local/lib/python3.10/dist-packages (from torch>=1.8.0->ultralytics) (4.12.2)\n",
            "Requirement already satisfied: networkx in /usr/local/lib/python3.10/dist-packages (from torch>=1.8.0->ultralytics) (3.4.2)\n",
            "Requirement already satisfied: jinja2 in /usr/local/lib/python3.10/dist-packages (from torch>=1.8.0->ultralytics) (3.1.4)\n",
            "Requirement already satisfied: fsspec in /usr/local/lib/python3.10/dist-packages (from torch>=1.8.0->ultralytics) (2024.6.1)\n",
            "Requirement already satisfied: sympy==1.13.1 in /usr/local/lib/python3.10/dist-packages (from torch>=1.8.0->ultralytics) (1.13.1)\n",
            "Requirement already satisfied: mpmath<1.4,>=1.1.0 in /usr/local/lib/python3.10/dist-packages (from sympy==1.13.1->torch>=1.8.0->ultralytics) (1.3.0)\n",
            "Requirement already satisfied: six>=1.5 in /usr/local/lib/python3.10/dist-packages (from python-dateutil>=2.7->matplotlib>=3.3.0->ultralytics) (1.16.0)\n",
            "Requirement already satisfied: MarkupSafe>=2.0 in /usr/local/lib/python3.10/dist-packages (from jinja2->torch>=1.8.0->ultralytics) (3.0.2)\n",
            "Downloading ultralytics-8.3.23-py3-none-any.whl (877 kB)\n",
            "\u001b[2K   \u001b[90m━━━━━━━━━━━━━━━━━━━━━━━━━━━━━━━━━━━━━━━━\u001b[0m \u001b[32m877.6/877.6 kB\u001b[0m \u001b[31m24.4 MB/s\u001b[0m eta \u001b[36m0:00:00\u001b[0m\n",
            "\u001b[?25hDownloading ultralytics_thop-2.0.9-py3-none-any.whl (26 kB)\n",
            "Installing collected packages: ultralytics-thop, ultralytics\n",
            "Successfully installed ultralytics-8.3.23 ultralytics-thop-2.0.9\n"
          ]
        }
      ]
    },
    {
      "cell_type": "markdown",
      "source": [
        "# LOAD AND TRAIN MODEL"
      ],
      "metadata": {
        "id": "YlVunw5qL-vE"
      }
    },
    {
      "cell_type": "code",
      "source": [
        "from ultralytics import YOLO\n",
        "\n",
        "# Load a COCO-pretrained YOLOv8n model\n",
        "model = YOLO(\"yolov8n.pt\")\n",
        "\n",
        "# Display model information (optional)\n",
        "model.info()"
      ],
      "metadata": {
        "colab": {
          "base_uri": "https://localhost:8080/"
        },
        "id": "VNpH-PA938Df",
        "outputId": "35df0ab6-79b9-4da9-a9c9-ef3c170e9faf"
      },
      "execution_count": null,
      "outputs": [
        {
          "output_type": "stream",
          "name": "stdout",
          "text": [
            "Creating new Ultralytics Settings v0.0.6 file ✅ \n",
            "View Ultralytics Settings with 'yolo settings' or at '/root/.config/Ultralytics/settings.json'\n",
            "Update Settings with 'yolo settings key=value', i.e. 'yolo settings runs_dir=path/to/dir'. For help see https://docs.ultralytics.com/quickstart/#ultralytics-settings.\n",
            "Downloading https://github.com/ultralytics/assets/releases/download/v8.3.0/yolov8n.pt to 'yolov8n.pt'...\n"
          ]
        },
        {
          "output_type": "stream",
          "name": "stderr",
          "text": [
            "100%|██████████| 6.25M/6.25M [00:00<00:00, 123MB/s]\n"
          ]
        },
        {
          "output_type": "stream",
          "name": "stdout",
          "text": [
            "YOLOv8n summary: 225 layers, 3,157,200 parameters, 0 gradients, 8.9 GFLOPs\n"
          ]
        },
        {
          "output_type": "execute_result",
          "data": {
            "text/plain": [
              "(225, 3157200, 0, 8.8575488)"
            ]
          },
          "metadata": {},
          "execution_count": 6
        }
      ]
    },
    {
      "cell_type": "code",
      "source": [
        "results = model.train(data=\"/content/data.yaml\", epochs=100, imgsz=640)"
      ],
      "metadata": {
        "colab": {
          "base_uri": "https://localhost:8080/"
        },
        "id": "mNXH4aUn4BEO",
        "outputId": "4a9ddfea-3c46-4c55-a5da-2f61f6040c19"
      },
      "execution_count": null,
      "outputs": [
        {
          "output_type": "stream",
          "name": "stdout",
          "text": [
            "Ultralytics 8.3.23 🚀 Python-3.10.12 torch-2.5.0+cu121 CUDA:0 (Tesla T4, 15102MiB)\n",
            "\u001b[34m\u001b[1mengine/trainer: \u001b[0mtask=detect, mode=train, model=yolov8n.pt, data=/content/data.yaml, epochs=100, time=None, patience=100, batch=16, imgsz=640, save=True, save_period=-1, cache=False, device=None, workers=8, project=None, name=train, exist_ok=False, pretrained=True, optimizer=auto, verbose=True, seed=0, deterministic=True, single_cls=False, rect=False, cos_lr=False, close_mosaic=10, resume=False, amp=True, fraction=1.0, profile=False, freeze=None, multi_scale=False, overlap_mask=True, mask_ratio=4, dropout=0.0, val=True, split=val, save_json=False, save_hybrid=False, conf=None, iou=0.7, max_det=300, half=False, dnn=False, plots=True, source=None, vid_stride=1, stream_buffer=False, visualize=False, augment=False, agnostic_nms=False, classes=None, retina_masks=False, embed=None, show=False, save_frames=False, save_txt=False, save_conf=False, save_crop=False, show_labels=True, show_conf=True, show_boxes=True, line_width=None, format=torchscript, keras=False, optimize=False, int8=False, dynamic=False, simplify=True, opset=None, workspace=4, nms=False, lr0=0.01, lrf=0.01, momentum=0.937, weight_decay=0.0005, warmup_epochs=3.0, warmup_momentum=0.8, warmup_bias_lr=0.1, box=7.5, cls=0.5, dfl=1.5, pose=12.0, kobj=1.0, label_smoothing=0.0, nbs=64, hsv_h=0.015, hsv_s=0.7, hsv_v=0.4, degrees=0.0, translate=0.1, scale=0.5, shear=0.0, perspective=0.0, flipud=0.0, fliplr=0.5, bgr=0.0, mosaic=1.0, mixup=0.0, copy_paste=0.0, copy_paste_mode=flip, auto_augment=randaugment, erasing=0.4, crop_fraction=1.0, cfg=None, tracker=botsort.yaml, save_dir=runs/detect/train\n",
            "Downloading https://ultralytics.com/assets/Arial.ttf to '/root/.config/Ultralytics/Arial.ttf'...\n"
          ]
        },
        {
          "output_type": "stream",
          "name": "stderr",
          "text": [
            "100%|██████████| 755k/755k [00:00<00:00, 20.9MB/s]\n"
          ]
        },
        {
          "output_type": "stream",
          "name": "stdout",
          "text": [
            "Overriding model.yaml nc=80 with nc=52\n",
            "\n",
            "                   from  n    params  module                                       arguments                     \n",
            "  0                  -1  1       464  ultralytics.nn.modules.conv.Conv             [3, 16, 3, 2]                 \n",
            "  1                  -1  1      4672  ultralytics.nn.modules.conv.Conv             [16, 32, 3, 2]                \n",
            "  2                  -1  1      7360  ultralytics.nn.modules.block.C2f             [32, 32, 1, True]             \n",
            "  3                  -1  1     18560  ultralytics.nn.modules.conv.Conv             [32, 64, 3, 2]                \n",
            "  4                  -1  2     49664  ultralytics.nn.modules.block.C2f             [64, 64, 2, True]             \n",
            "  5                  -1  1     73984  ultralytics.nn.modules.conv.Conv             [64, 128, 3, 2]               \n",
            "  6                  -1  2    197632  ultralytics.nn.modules.block.C2f             [128, 128, 2, True]           \n",
            "  7                  -1  1    295424  ultralytics.nn.modules.conv.Conv             [128, 256, 3, 2]              \n",
            "  8                  -1  1    460288  ultralytics.nn.modules.block.C2f             [256, 256, 1, True]           \n",
            "  9                  -1  1    164608  ultralytics.nn.modules.block.SPPF            [256, 256, 5]                 \n",
            " 10                  -1  1         0  torch.nn.modules.upsampling.Upsample         [None, 2, 'nearest']          \n",
            " 11             [-1, 6]  1         0  ultralytics.nn.modules.conv.Concat           [1]                           \n",
            " 12                  -1  1    148224  ultralytics.nn.modules.block.C2f             [384, 128, 1]                 \n",
            " 13                  -1  1         0  torch.nn.modules.upsampling.Upsample         [None, 2, 'nearest']          \n",
            " 14             [-1, 4]  1         0  ultralytics.nn.modules.conv.Concat           [1]                           \n",
            " 15                  -1  1     37248  ultralytics.nn.modules.block.C2f             [192, 64, 1]                  \n",
            " 16                  -1  1     36992  ultralytics.nn.modules.conv.Conv             [64, 64, 3, 2]                \n",
            " 17            [-1, 12]  1         0  ultralytics.nn.modules.conv.Concat           [1]                           \n",
            " 18                  -1  1    123648  ultralytics.nn.modules.block.C2f             [192, 128, 1]                 \n",
            " 19                  -1  1    147712  ultralytics.nn.modules.conv.Conv             [128, 128, 3, 2]              \n",
            " 20             [-1, 9]  1         0  ultralytics.nn.modules.conv.Concat           [1]                           \n",
            " 21                  -1  1    493056  ultralytics.nn.modules.block.C2f             [384, 256, 1]                 \n",
            " 22        [15, 18, 21]  1    761452  ultralytics.nn.modules.head.Detect           [52, [64, 128, 256]]          \n",
            "Model summary: 225 layers, 3,020,988 parameters, 3,020,972 gradients, 8.2 GFLOPs\n",
            "\n",
            "Transferred 319/355 items from pretrained weights\n",
            "\u001b[34m\u001b[1mTensorBoard: \u001b[0mStart with 'tensorboard --logdir runs/detect/train', view at http://localhost:6006/\n",
            "Freezing layer 'model.22.dfl.conv.weight'\n",
            "\u001b[34m\u001b[1mAMP: \u001b[0mrunning Automatic Mixed Precision (AMP) checks...\n",
            "Downloading https://github.com/ultralytics/assets/releases/download/v8.3.0/yolo11n.pt to 'yolo11n.pt'...\n"
          ]
        },
        {
          "output_type": "stream",
          "name": "stderr",
          "text": [
            "100%|██████████| 5.35M/5.35M [00:00<00:00, 123MB/s]\n"
          ]
        },
        {
          "output_type": "stream",
          "name": "stdout",
          "text": [
            "\u001b[34m\u001b[1mAMP: \u001b[0mchecks passed ✅\n"
          ]
        },
        {
          "output_type": "stream",
          "name": "stderr",
          "text": [
            "\u001b[34m\u001b[1mtrain: \u001b[0mScanning /content/train/labels... 540 images, 0 backgrounds, 0 corrupt: 100%|██████████| 540/540 [00:00<00:00, 1958.85it/s]"
          ]
        },
        {
          "output_type": "stream",
          "name": "stdout",
          "text": [
            "\u001b[34m\u001b[1mtrain: \u001b[0mWARNING ⚠️ /content/train/images/20241016-174317_png.rf.4f0a3ecd88bfa472b23d73c93e006284.jpg: 1 duplicate labels removed\n",
            "\u001b[34m\u001b[1mtrain: \u001b[0mNew cache created: /content/train/labels.cache\n"
          ]
        },
        {
          "output_type": "stream",
          "name": "stderr",
          "text": [
            "\n"
          ]
        },
        {
          "output_type": "stream",
          "name": "stdout",
          "text": [
            "\u001b[34m\u001b[1malbumentations: \u001b[0mBlur(p=0.01, blur_limit=(3, 7)), MedianBlur(p=0.01, blur_limit=(3, 7)), ToGray(p=0.01, num_output_channels=3, method='weighted_average'), CLAHE(p=0.01, clip_limit=(1, 4.0), tile_grid_size=(8, 8))\n"
          ]
        },
        {
          "output_type": "stream",
          "name": "stderr",
          "text": [
            "/usr/local/lib/python3.10/dist-packages/albumentations/__init__.py:13: UserWarning: A new version of Albumentations is available: 1.4.20 (you have 1.4.15). Upgrade using: pip install -U albumentations. To disable automatic update checks, set the environment variable NO_ALBUMENTATIONS_UPDATE to 1.\n",
            "  check_for_updates()\n",
            "\u001b[34m\u001b[1mval: \u001b[0mScanning /content/valid/labels... 108 images, 0 backgrounds, 0 corrupt: 100%|██████████| 108/108 [00:00<00:00, 1355.11it/s]"
          ]
        },
        {
          "output_type": "stream",
          "name": "stdout",
          "text": [
            "\u001b[34m\u001b[1mval: \u001b[0mNew cache created: /content/valid/labels.cache\n"
          ]
        },
        {
          "output_type": "stream",
          "name": "stderr",
          "text": [
            "\n"
          ]
        },
        {
          "output_type": "stream",
          "name": "stdout",
          "text": [
            "Plotting labels to runs/detect/train/labels.jpg... \n",
            "\u001b[34m\u001b[1moptimizer:\u001b[0m 'optimizer=auto' found, ignoring 'lr0=0.01' and 'momentum=0.937' and determining best 'optimizer', 'lr0' and 'momentum' automatically... \n",
            "\u001b[34m\u001b[1moptimizer:\u001b[0m AdamW(lr=0.000179, momentum=0.9) with parameter groups 57 weight(decay=0.0), 64 weight(decay=0.0005), 63 bias(decay=0.0)\n",
            "\u001b[34m\u001b[1mTensorBoard: \u001b[0mmodel graph visualization added ✅\n",
            "Image sizes 640 train, 640 val\n",
            "Using 2 dataloader workers\n",
            "Logging results to \u001b[1mruns/detect/train\u001b[0m\n",
            "Starting training for 100 epochs...\n",
            "\n",
            "      Epoch    GPU_mem   box_loss   cls_loss   dfl_loss  Instances       Size\n"
          ]
        },
        {
          "output_type": "stream",
          "name": "stderr",
          "text": [
            "      1/100      2.46G      2.353      6.474      1.146        119        640: 100%|██████████| 34/34 [00:15<00:00,  2.26it/s]\n",
            "                 Class     Images  Instances      Box(P          R      mAP50  mAP50-95): 100%|██████████| 4/4 [00:00<00:00,  4.36it/s]"
          ]
        },
        {
          "output_type": "stream",
          "name": "stdout",
          "text": [
            "                   all        108        658          0          0          0          0\n"
          ]
        },
        {
          "output_type": "stream",
          "name": "stderr",
          "text": [
            "\n"
          ]
        },
        {
          "output_type": "stream",
          "name": "stdout",
          "text": [
            "\n",
            "      Epoch    GPU_mem   box_loss   cls_loss   dfl_loss  Instances       Size\n"
          ]
        },
        {
          "output_type": "stream",
          "name": "stderr",
          "text": [
            "      2/100      2.33G      1.366      5.496     0.8378         97        640: 100%|██████████| 34/34 [00:09<00:00,  3.58it/s]\n",
            "                 Class     Images  Instances      Box(P          R      mAP50  mAP50-95): 100%|██████████| 4/4 [00:03<00:00,  1.17it/s]"
          ]
        },
        {
          "output_type": "stream",
          "name": "stdout",
          "text": [
            "                   all        108        658    0.00296     0.0135    0.00287   0.000769\n"
          ]
        },
        {
          "output_type": "stream",
          "name": "stderr",
          "text": [
            "\n"
          ]
        },
        {
          "output_type": "stream",
          "name": "stdout",
          "text": [
            "\n",
            "      Epoch    GPU_mem   box_loss   cls_loss   dfl_loss  Instances       Size\n"
          ]
        },
        {
          "output_type": "stream",
          "name": "stderr",
          "text": [
            "      3/100      2.32G      1.195      5.016     0.8151         78        640: 100%|██████████| 34/34 [00:08<00:00,  3.97it/s]\n",
            "                 Class     Images  Instances      Box(P          R      mAP50  mAP50-95): 100%|██████████| 4/4 [00:01<00:00,  2.28it/s]"
          ]
        },
        {
          "output_type": "stream",
          "name": "stdout",
          "text": [
            "                   all        108        658     0.0151      0.482     0.0263     0.0183\n"
          ]
        },
        {
          "output_type": "stream",
          "name": "stderr",
          "text": [
            "\n"
          ]
        },
        {
          "output_type": "stream",
          "name": "stdout",
          "text": [
            "\n",
            "      Epoch    GPU_mem   box_loss   cls_loss   dfl_loss  Instances       Size\n"
          ]
        },
        {
          "output_type": "stream",
          "name": "stderr",
          "text": [
            "      4/100      2.33G      1.121      4.687      0.808         84        640: 100%|██████████| 34/34 [00:10<00:00,  3.14it/s]\n",
            "                 Class     Images  Instances      Box(P          R      mAP50  mAP50-95): 100%|██████████| 4/4 [00:01<00:00,  3.65it/s]"
          ]
        },
        {
          "output_type": "stream",
          "name": "stdout",
          "text": [
            "                   all        108        658     0.0158      0.663     0.0356     0.0266\n"
          ]
        },
        {
          "output_type": "stream",
          "name": "stderr",
          "text": [
            "\n"
          ]
        },
        {
          "output_type": "stream",
          "name": "stdout",
          "text": [
            "\n",
            "      Epoch    GPU_mem   box_loss   cls_loss   dfl_loss  Instances       Size\n"
          ]
        },
        {
          "output_type": "stream",
          "name": "stderr",
          "text": [
            "      5/100      2.32G      1.022      4.345     0.8026        157        640: 100%|██████████| 34/34 [00:11<00:00,  2.96it/s]\n",
            "                 Class     Images  Instances      Box(P          R      mAP50  mAP50-95): 100%|██████████| 4/4 [00:01<00:00,  3.23it/s]"
          ]
        },
        {
          "output_type": "stream",
          "name": "stdout",
          "text": [
            "                   all        108        658     0.0184      0.752     0.0438     0.0336\n"
          ]
        },
        {
          "output_type": "stream",
          "name": "stderr",
          "text": [
            "\n"
          ]
        },
        {
          "output_type": "stream",
          "name": "stdout",
          "text": [
            "\n",
            "      Epoch    GPU_mem   box_loss   cls_loss   dfl_loss  Instances       Size\n"
          ]
        },
        {
          "output_type": "stream",
          "name": "stderr",
          "text": [
            "      6/100      2.31G      1.013      4.085     0.8033        102        640: 100%|██████████| 34/34 [00:10<00:00,  3.36it/s]\n",
            "                 Class     Images  Instances      Box(P          R      mAP50  mAP50-95): 100%|██████████| 4/4 [00:02<00:00,  1.70it/s]"
          ]
        },
        {
          "output_type": "stream",
          "name": "stdout",
          "text": [
            "                   all        108        658     0.0198        0.8     0.0526     0.0416\n"
          ]
        },
        {
          "output_type": "stream",
          "name": "stderr",
          "text": [
            "\n"
          ]
        },
        {
          "output_type": "stream",
          "name": "stdout",
          "text": [
            "\n",
            "      Epoch    GPU_mem   box_loss   cls_loss   dfl_loss  Instances       Size\n"
          ]
        },
        {
          "output_type": "stream",
          "name": "stderr",
          "text": [
            "      7/100       2.3G     0.9508      3.831     0.7971         89        640: 100%|██████████| 34/34 [00:08<00:00,  4.06it/s]\n",
            "                 Class     Images  Instances      Box(P          R      mAP50  mAP50-95): 100%|██████████| 4/4 [00:01<00:00,  3.19it/s]\n"
          ]
        },
        {
          "output_type": "stream",
          "name": "stdout",
          "text": [
            "                   all        108        658     0.0224       0.82     0.0667     0.0532\n",
            "\n",
            "      Epoch    GPU_mem   box_loss   cls_loss   dfl_loss  Instances       Size\n"
          ]
        },
        {
          "output_type": "stream",
          "name": "stderr",
          "text": [
            "      8/100      2.37G     0.9256      3.617      0.794         79        640: 100%|██████████| 34/34 [00:11<00:00,  3.05it/s]\n",
            "                 Class     Images  Instances      Box(P          R      mAP50  mAP50-95): 100%|██████████| 4/4 [00:01<00:00,  3.49it/s]"
          ]
        },
        {
          "output_type": "stream",
          "name": "stdout",
          "text": [
            "                   all        108        658      0.173      0.188     0.0837     0.0658\n"
          ]
        },
        {
          "output_type": "stream",
          "name": "stderr",
          "text": [
            "\n"
          ]
        },
        {
          "output_type": "stream",
          "name": "stdout",
          "text": [
            "\n",
            "      Epoch    GPU_mem   box_loss   cls_loss   dfl_loss  Instances       Size\n"
          ]
        },
        {
          "output_type": "stream",
          "name": "stderr",
          "text": [
            "      9/100      2.32G     0.9156      3.486     0.7952        132        640: 100%|██████████| 34/34 [00:11<00:00,  2.94it/s]\n",
            "                 Class     Images  Instances      Box(P          R      mAP50  mAP50-95): 100%|██████████| 4/4 [00:01<00:00,  3.03it/s]"
          ]
        },
        {
          "output_type": "stream",
          "name": "stdout",
          "text": [
            "                   all        108        658      0.308      0.232      0.102     0.0801\n"
          ]
        },
        {
          "output_type": "stream",
          "name": "stderr",
          "text": [
            "\n"
          ]
        },
        {
          "output_type": "stream",
          "name": "stdout",
          "text": [
            "\n",
            "      Epoch    GPU_mem   box_loss   cls_loss   dfl_loss  Instances       Size\n"
          ]
        },
        {
          "output_type": "stream",
          "name": "stderr",
          "text": [
            "     10/100      2.33G     0.8893      3.313        0.8         92        640: 100%|██████████| 34/34 [00:13<00:00,  2.56it/s]\n",
            "                 Class     Images  Instances      Box(P          R      mAP50  mAP50-95): 100%|██████████| 4/4 [00:02<00:00,  1.58it/s]"
          ]
        },
        {
          "output_type": "stream",
          "name": "stdout",
          "text": [
            "                   all        108        658      0.165      0.269      0.108     0.0858\n"
          ]
        },
        {
          "output_type": "stream",
          "name": "stderr",
          "text": [
            "\n"
          ]
        },
        {
          "output_type": "stream",
          "name": "stdout",
          "text": [
            "\n",
            "      Epoch    GPU_mem   box_loss   cls_loss   dfl_loss  Instances       Size\n"
          ]
        },
        {
          "output_type": "stream",
          "name": "stderr",
          "text": [
            "     11/100      2.31G     0.8702      3.139     0.7938        113        640: 100%|██████████| 34/34 [00:08<00:00,  3.98it/s]\n",
            "                 Class     Images  Instances      Box(P          R      mAP50  mAP50-95): 100%|██████████| 4/4 [00:01<00:00,  3.20it/s]"
          ]
        },
        {
          "output_type": "stream",
          "name": "stdout",
          "text": [
            "                   all        108        658      0.192      0.316      0.136      0.108\n"
          ]
        },
        {
          "output_type": "stream",
          "name": "stderr",
          "text": [
            "\n"
          ]
        },
        {
          "output_type": "stream",
          "name": "stdout",
          "text": [
            "\n",
            "      Epoch    GPU_mem   box_loss   cls_loss   dfl_loss  Instances       Size\n"
          ]
        },
        {
          "output_type": "stream",
          "name": "stderr",
          "text": [
            "     12/100      2.34G     0.8851      3.016     0.7931        126        640: 100%|██████████| 34/34 [00:10<00:00,  3.19it/s]\n",
            "                 Class     Images  Instances      Box(P          R      mAP50  mAP50-95): 100%|██████████| 4/4 [00:01<00:00,  3.06it/s]\n"
          ]
        },
        {
          "output_type": "stream",
          "name": "stdout",
          "text": [
            "                   all        108        658      0.159       0.32      0.161      0.127\n",
            "\n",
            "      Epoch    GPU_mem   box_loss   cls_loss   dfl_loss  Instances       Size\n"
          ]
        },
        {
          "output_type": "stream",
          "name": "stderr",
          "text": [
            "     13/100      2.31G     0.8742      2.917     0.7958         74        640: 100%|██████████| 34/34 [00:11<00:00,  2.99it/s]\n",
            "                 Class     Images  Instances      Box(P          R      mAP50  mAP50-95): 100%|██████████| 4/4 [00:01<00:00,  3.00it/s]"
          ]
        },
        {
          "output_type": "stream",
          "name": "stdout",
          "text": [
            "                   all        108        658      0.187        0.4      0.176      0.141\n"
          ]
        },
        {
          "output_type": "stream",
          "name": "stderr",
          "text": [
            "\n"
          ]
        },
        {
          "output_type": "stream",
          "name": "stdout",
          "text": [
            "\n",
            "      Epoch    GPU_mem   box_loss   cls_loss   dfl_loss  Instances       Size\n"
          ]
        },
        {
          "output_type": "stream",
          "name": "stderr",
          "text": [
            "     14/100      2.35G     0.8416      2.887     0.7983         93        640: 100%|██████████| 34/34 [00:09<00:00,  3.75it/s]\n",
            "                 Class     Images  Instances      Box(P          R      mAP50  mAP50-95): 100%|██████████| 4/4 [00:02<00:00,  1.73it/s]"
          ]
        },
        {
          "output_type": "stream",
          "name": "stdout",
          "text": [
            "                   all        108        658      0.199      0.424      0.198      0.158\n"
          ]
        },
        {
          "output_type": "stream",
          "name": "stderr",
          "text": [
            "\n"
          ]
        },
        {
          "output_type": "stream",
          "name": "stdout",
          "text": [
            "\n",
            "      Epoch    GPU_mem   box_loss   cls_loss   dfl_loss  Instances       Size\n"
          ]
        },
        {
          "output_type": "stream",
          "name": "stderr",
          "text": [
            "     15/100      2.34G      0.837      2.797     0.7887        112        640: 100%|██████████| 34/34 [00:08<00:00,  3.87it/s]\n",
            "                 Class     Images  Instances      Box(P          R      mAP50  mAP50-95): 100%|██████████| 4/4 [00:01<00:00,  3.39it/s]"
          ]
        },
        {
          "output_type": "stream",
          "name": "stdout",
          "text": [
            "                   all        108        658      0.166      0.414      0.229      0.184\n"
          ]
        },
        {
          "output_type": "stream",
          "name": "stderr",
          "text": [
            "\n"
          ]
        },
        {
          "output_type": "stream",
          "name": "stdout",
          "text": [
            "\n",
            "      Epoch    GPU_mem   box_loss   cls_loss   dfl_loss  Instances       Size\n"
          ]
        },
        {
          "output_type": "stream",
          "name": "stderr",
          "text": [
            "     16/100      2.31G     0.8295      2.711     0.7915         82        640: 100%|██████████| 34/34 [00:11<00:00,  2.90it/s]\n",
            "                 Class     Images  Instances      Box(P          R      mAP50  mAP50-95): 100%|██████████| 4/4 [00:01<00:00,  3.37it/s]"
          ]
        },
        {
          "output_type": "stream",
          "name": "stdout",
          "text": [
            "                   all        108        658      0.231      0.479      0.261      0.213\n"
          ]
        },
        {
          "output_type": "stream",
          "name": "stderr",
          "text": [
            "\n"
          ]
        },
        {
          "output_type": "stream",
          "name": "stdout",
          "text": [
            "\n",
            "      Epoch    GPU_mem   box_loss   cls_loss   dfl_loss  Instances       Size\n"
          ]
        },
        {
          "output_type": "stream",
          "name": "stderr",
          "text": [
            "     17/100      2.31G     0.8143      2.636     0.7891        102        640: 100%|██████████| 34/34 [00:11<00:00,  3.07it/s]\n",
            "                 Class     Images  Instances      Box(P          R      mAP50  mAP50-95): 100%|██████████| 4/4 [00:01<00:00,  2.22it/s]\n"
          ]
        },
        {
          "output_type": "stream",
          "name": "stdout",
          "text": [
            "                   all        108        658      0.276       0.44      0.298      0.239\n",
            "\n",
            "      Epoch    GPU_mem   box_loss   cls_loss   dfl_loss  Instances       Size\n"
          ]
        },
        {
          "output_type": "stream",
          "name": "stderr",
          "text": [
            "     18/100      2.31G     0.8115      2.566     0.7933        120        640: 100%|██████████| 34/34 [00:08<00:00,  4.03it/s]\n",
            "                 Class     Images  Instances      Box(P          R      mAP50  mAP50-95): 100%|██████████| 4/4 [00:01<00:00,  2.77it/s]"
          ]
        },
        {
          "output_type": "stream",
          "name": "stdout",
          "text": [
            "                   all        108        658      0.277      0.448      0.323       0.26\n"
          ]
        },
        {
          "output_type": "stream",
          "name": "stderr",
          "text": [
            "\n"
          ]
        },
        {
          "output_type": "stream",
          "name": "stdout",
          "text": [
            "\n",
            "      Epoch    GPU_mem   box_loss   cls_loss   dfl_loss  Instances       Size\n"
          ]
        },
        {
          "output_type": "stream",
          "name": "stderr",
          "text": [
            "     19/100      2.31G     0.8036      2.455      0.796         89        640: 100%|██████████| 34/34 [00:10<00:00,  3.33it/s]\n",
            "                 Class     Images  Instances      Box(P          R      mAP50  mAP50-95): 100%|██████████| 4/4 [00:01<00:00,  3.37it/s]\n"
          ]
        },
        {
          "output_type": "stream",
          "name": "stdout",
          "text": [
            "                   all        108        658      0.269       0.52       0.34      0.276\n",
            "\n",
            "      Epoch    GPU_mem   box_loss   cls_loss   dfl_loss  Instances       Size\n"
          ]
        },
        {
          "output_type": "stream",
          "name": "stderr",
          "text": [
            "     20/100      2.32G     0.7969       2.44     0.7903        105        640: 100%|██████████| 34/34 [00:11<00:00,  2.91it/s]\n",
            "                 Class     Images  Instances      Box(P          R      mAP50  mAP50-95): 100%|██████████| 4/4 [00:01<00:00,  3.81it/s]"
          ]
        },
        {
          "output_type": "stream",
          "name": "stdout",
          "text": [
            "                   all        108        658      0.258      0.559      0.372        0.3\n"
          ]
        },
        {
          "output_type": "stream",
          "name": "stderr",
          "text": [
            "\n"
          ]
        },
        {
          "output_type": "stream",
          "name": "stdout",
          "text": [
            "\n",
            "      Epoch    GPU_mem   box_loss   cls_loss   dfl_loss  Instances       Size\n"
          ]
        },
        {
          "output_type": "stream",
          "name": "stderr",
          "text": [
            "     21/100      2.37G     0.7986       2.36      0.789        107        640: 100%|██████████| 34/34 [00:09<00:00,  3.49it/s]\n",
            "                 Class     Images  Instances      Box(P          R      mAP50  mAP50-95): 100%|██████████| 4/4 [00:02<00:00,  1.93it/s]"
          ]
        },
        {
          "output_type": "stream",
          "name": "stdout",
          "text": [
            "                   all        108        658      0.314      0.549        0.4      0.322\n"
          ]
        },
        {
          "output_type": "stream",
          "name": "stderr",
          "text": [
            "\n"
          ]
        },
        {
          "output_type": "stream",
          "name": "stdout",
          "text": [
            "\n",
            "      Epoch    GPU_mem   box_loss   cls_loss   dfl_loss  Instances       Size\n"
          ]
        },
        {
          "output_type": "stream",
          "name": "stderr",
          "text": [
            "     22/100      2.35G     0.7914      2.279     0.7989         87        640: 100%|██████████| 34/34 [00:08<00:00,  3.89it/s]\n",
            "                 Class     Images  Instances      Box(P          R      mAP50  mAP50-95): 100%|██████████| 4/4 [00:01<00:00,  3.59it/s]\n"
          ]
        },
        {
          "output_type": "stream",
          "name": "stdout",
          "text": [
            "                   all        108        658      0.306      0.597      0.445      0.359\n",
            "\n",
            "      Epoch    GPU_mem   box_loss   cls_loss   dfl_loss  Instances       Size\n"
          ]
        },
        {
          "output_type": "stream",
          "name": "stderr",
          "text": [
            "     23/100      2.32G     0.7919      2.229     0.7927         95        640: 100%|██████████| 34/34 [00:11<00:00,  3.00it/s]\n",
            "                 Class     Images  Instances      Box(P          R      mAP50  mAP50-95): 100%|██████████| 4/4 [00:01<00:00,  3.20it/s]"
          ]
        },
        {
          "output_type": "stream",
          "name": "stdout",
          "text": [
            "                   all        108        658      0.328      0.603       0.46       0.37\n"
          ]
        },
        {
          "output_type": "stream",
          "name": "stderr",
          "text": [
            "\n"
          ]
        },
        {
          "output_type": "stream",
          "name": "stdout",
          "text": [
            "\n",
            "      Epoch    GPU_mem   box_loss   cls_loss   dfl_loss  Instances       Size\n"
          ]
        },
        {
          "output_type": "stream",
          "name": "stderr",
          "text": [
            "     24/100      2.32G     0.7999      2.195     0.7886         86        640: 100%|██████████| 34/34 [00:11<00:00,  3.03it/s]\n",
            "                 Class     Images  Instances      Box(P          R      mAP50  mAP50-95): 100%|██████████| 4/4 [00:01<00:00,  2.93it/s]"
          ]
        },
        {
          "output_type": "stream",
          "name": "stdout",
          "text": [
            "                   all        108        658      0.356      0.601      0.496      0.402\n"
          ]
        },
        {
          "output_type": "stream",
          "name": "stderr",
          "text": [
            "\n"
          ]
        },
        {
          "output_type": "stream",
          "name": "stdout",
          "text": [
            "\n",
            "      Epoch    GPU_mem   box_loss   cls_loss   dfl_loss  Instances       Size\n"
          ]
        },
        {
          "output_type": "stream",
          "name": "stderr",
          "text": [
            "     25/100      2.35G     0.7845      2.145     0.7926         92        640: 100%|██████████| 34/34 [00:12<00:00,  2.65it/s]\n",
            "                 Class     Images  Instances      Box(P          R      mAP50  mAP50-95): 100%|██████████| 4/4 [00:02<00:00,  1.92it/s]\n"
          ]
        },
        {
          "output_type": "stream",
          "name": "stdout",
          "text": [
            "                   all        108        658      0.408      0.604       0.52      0.421\n",
            "\n",
            "      Epoch    GPU_mem   box_loss   cls_loss   dfl_loss  Instances       Size\n"
          ]
        },
        {
          "output_type": "stream",
          "name": "stderr",
          "text": [
            "     26/100      2.31G     0.7953      2.078     0.7942         68        640: 100%|██████████| 34/34 [00:08<00:00,  3.91it/s]\n",
            "                 Class     Images  Instances      Box(P          R      mAP50  mAP50-95): 100%|██████████| 4/4 [00:01<00:00,  3.48it/s]"
          ]
        },
        {
          "output_type": "stream",
          "name": "stdout",
          "text": [
            "                   all        108        658      0.397      0.674      0.555      0.448\n"
          ]
        },
        {
          "output_type": "stream",
          "name": "stderr",
          "text": [
            "\n"
          ]
        },
        {
          "output_type": "stream",
          "name": "stdout",
          "text": [
            "\n",
            "      Epoch    GPU_mem   box_loss   cls_loss   dfl_loss  Instances       Size\n"
          ]
        },
        {
          "output_type": "stream",
          "name": "stderr",
          "text": [
            "     27/100       2.3G     0.7763      2.021     0.7899         93        640: 100%|██████████| 34/34 [00:11<00:00,  2.97it/s]\n",
            "                 Class     Images  Instances      Box(P          R      mAP50  mAP50-95): 100%|██████████| 4/4 [00:01<00:00,  3.25it/s]"
          ]
        },
        {
          "output_type": "stream",
          "name": "stdout",
          "text": [
            "                   all        108        658      0.441      0.672      0.586      0.477\n"
          ]
        },
        {
          "output_type": "stream",
          "name": "stderr",
          "text": [
            "\n"
          ]
        },
        {
          "output_type": "stream",
          "name": "stdout",
          "text": [
            "\n",
            "      Epoch    GPU_mem   box_loss   cls_loss   dfl_loss  Instances       Size\n"
          ]
        },
        {
          "output_type": "stream",
          "name": "stderr",
          "text": [
            "     28/100      2.31G     0.7681      1.969     0.7941         94        640: 100%|██████████| 34/34 [00:11<00:00,  3.09it/s]\n",
            "                 Class     Images  Instances      Box(P          R      mAP50  mAP50-95): 100%|██████████| 4/4 [00:01<00:00,  2.83it/s]"
          ]
        },
        {
          "output_type": "stream",
          "name": "stdout",
          "text": [
            "                   all        108        658      0.447       0.68      0.617      0.502\n"
          ]
        },
        {
          "output_type": "stream",
          "name": "stderr",
          "text": [
            "\n"
          ]
        },
        {
          "output_type": "stream",
          "name": "stdout",
          "text": [
            "\n",
            "      Epoch    GPU_mem   box_loss   cls_loss   dfl_loss  Instances       Size\n"
          ]
        },
        {
          "output_type": "stream",
          "name": "stderr",
          "text": [
            "     29/100      2.32G     0.7839      1.947     0.7875        115        640: 100%|██████████| 34/34 [00:08<00:00,  3.93it/s]\n",
            "                 Class     Images  Instances      Box(P          R      mAP50  mAP50-95): 100%|██████████| 4/4 [00:01<00:00,  2.18it/s]"
          ]
        },
        {
          "output_type": "stream",
          "name": "stdout",
          "text": [
            "                   all        108        658      0.472      0.662      0.626      0.512\n"
          ]
        },
        {
          "output_type": "stream",
          "name": "stderr",
          "text": [
            "\n"
          ]
        },
        {
          "output_type": "stream",
          "name": "stdout",
          "text": [
            "\n",
            "      Epoch    GPU_mem   box_loss   cls_loss   dfl_loss  Instances       Size\n"
          ]
        },
        {
          "output_type": "stream",
          "name": "stderr",
          "text": [
            "     30/100      2.31G     0.7789       1.89     0.7911        109        640: 100%|██████████| 34/34 [00:10<00:00,  3.37it/s]\n",
            "                 Class     Images  Instances      Box(P          R      mAP50  mAP50-95): 100%|██████████| 4/4 [00:01<00:00,  3.76it/s]"
          ]
        },
        {
          "output_type": "stream",
          "name": "stdout",
          "text": [
            "                   all        108        658      0.483      0.719      0.667      0.547\n"
          ]
        },
        {
          "output_type": "stream",
          "name": "stderr",
          "text": [
            "\n"
          ]
        },
        {
          "output_type": "stream",
          "name": "stdout",
          "text": [
            "\n",
            "      Epoch    GPU_mem   box_loss   cls_loss   dfl_loss  Instances       Size\n"
          ]
        },
        {
          "output_type": "stream",
          "name": "stderr",
          "text": [
            "     31/100      2.36G     0.7696      1.843     0.7891        104        640: 100%|██████████| 34/34 [00:11<00:00,  2.97it/s]\n",
            "                 Class     Images  Instances      Box(P          R      mAP50  mAP50-95): 100%|██████████| 4/4 [00:01<00:00,  3.67it/s]"
          ]
        },
        {
          "output_type": "stream",
          "name": "stdout",
          "text": [
            "                   all        108        658      0.555       0.71      0.694      0.567\n"
          ]
        },
        {
          "output_type": "stream",
          "name": "stderr",
          "text": [
            "\n"
          ]
        },
        {
          "output_type": "stream",
          "name": "stdout",
          "text": [
            "\n",
            "      Epoch    GPU_mem   box_loss   cls_loss   dfl_loss  Instances       Size\n"
          ]
        },
        {
          "output_type": "stream",
          "name": "stderr",
          "text": [
            "     32/100      2.35G     0.7737      1.766     0.7831         84        640: 100%|██████████| 34/34 [00:09<00:00,  3.44it/s]\n",
            "                 Class     Images  Instances      Box(P          R      mAP50  mAP50-95): 100%|██████████| 4/4 [00:02<00:00,  1.83it/s]"
          ]
        },
        {
          "output_type": "stream",
          "name": "stdout",
          "text": [
            "                   all        108        658       0.53      0.774      0.727      0.596\n"
          ]
        },
        {
          "output_type": "stream",
          "name": "stderr",
          "text": [
            "\n"
          ]
        },
        {
          "output_type": "stream",
          "name": "stdout",
          "text": [
            "\n",
            "      Epoch    GPU_mem   box_loss   cls_loss   dfl_loss  Instances       Size\n"
          ]
        },
        {
          "output_type": "stream",
          "name": "stderr",
          "text": [
            "     33/100      2.31G     0.7746      1.804     0.7909         91        640: 100%|██████████| 34/34 [00:08<00:00,  4.05it/s]\n",
            "                 Class     Images  Instances      Box(P          R      mAP50  mAP50-95): 100%|██████████| 4/4 [00:01<00:00,  3.48it/s]"
          ]
        },
        {
          "output_type": "stream",
          "name": "stdout",
          "text": [
            "                   all        108        658      0.616      0.714      0.748      0.613\n"
          ]
        },
        {
          "output_type": "stream",
          "name": "stderr",
          "text": [
            "\n"
          ]
        },
        {
          "output_type": "stream",
          "name": "stdout",
          "text": [
            "\n",
            "      Epoch    GPU_mem   box_loss   cls_loss   dfl_loss  Instances       Size\n"
          ]
        },
        {
          "output_type": "stream",
          "name": "stderr",
          "text": [
            "     34/100       2.3G     0.7605      1.735      0.794         97        640: 100%|██████████| 34/34 [00:11<00:00,  2.95it/s]\n",
            "                 Class     Images  Instances      Box(P          R      mAP50  mAP50-95): 100%|██████████| 4/4 [00:01<00:00,  3.32it/s]"
          ]
        },
        {
          "output_type": "stream",
          "name": "stdout",
          "text": [
            "                   all        108        658       0.62      0.716      0.775      0.638\n"
          ]
        },
        {
          "output_type": "stream",
          "name": "stderr",
          "text": [
            "\n"
          ]
        },
        {
          "output_type": "stream",
          "name": "stdout",
          "text": [
            "\n",
            "      Epoch    GPU_mem   box_loss   cls_loss   dfl_loss  Instances       Size\n"
          ]
        },
        {
          "output_type": "stream",
          "name": "stderr",
          "text": [
            "     35/100      2.29G     0.7697      1.705     0.7936         88        640: 100%|██████████| 34/34 [00:10<00:00,  3.19it/s]\n",
            "                 Class     Images  Instances      Box(P          R      mAP50  mAP50-95): 100%|██████████| 4/4 [00:01<00:00,  2.20it/s]"
          ]
        },
        {
          "output_type": "stream",
          "name": "stdout",
          "text": [
            "                   all        108        658      0.629      0.781      0.786      0.642\n"
          ]
        },
        {
          "output_type": "stream",
          "name": "stderr",
          "text": [
            "\n"
          ]
        },
        {
          "output_type": "stream",
          "name": "stdout",
          "text": [
            "\n",
            "      Epoch    GPU_mem   box_loss   cls_loss   dfl_loss  Instances       Size\n"
          ]
        },
        {
          "output_type": "stream",
          "name": "stderr",
          "text": [
            "     36/100      2.29G     0.7679      1.657     0.7935        109        640: 100%|██████████| 34/34 [00:08<00:00,  4.09it/s]\n",
            "                 Class     Images  Instances      Box(P          R      mAP50  mAP50-95): 100%|██████████| 4/4 [00:01<00:00,  2.61it/s]"
          ]
        },
        {
          "output_type": "stream",
          "name": "stdout",
          "text": [
            "                   all        108        658      0.657      0.757      0.802       0.66\n"
          ]
        },
        {
          "output_type": "stream",
          "name": "stderr",
          "text": [
            "\n"
          ]
        },
        {
          "output_type": "stream",
          "name": "stdout",
          "text": [
            "\n",
            "      Epoch    GPU_mem   box_loss   cls_loss   dfl_loss  Instances       Size\n"
          ]
        },
        {
          "output_type": "stream",
          "name": "stderr",
          "text": [
            "     37/100      2.34G     0.7548      1.628     0.7861        111        640: 100%|██████████| 34/34 [00:10<00:00,  3.34it/s]\n",
            "                 Class     Images  Instances      Box(P          R      mAP50  mAP50-95): 100%|██████████| 4/4 [00:01<00:00,  2.91it/s]"
          ]
        },
        {
          "output_type": "stream",
          "name": "stdout",
          "text": [
            "                   all        108        658      0.689      0.786      0.835      0.686\n"
          ]
        },
        {
          "output_type": "stream",
          "name": "stderr",
          "text": [
            "\n"
          ]
        },
        {
          "output_type": "stream",
          "name": "stdout",
          "text": [
            "\n",
            "      Epoch    GPU_mem   box_loss   cls_loss   dfl_loss  Instances       Size\n"
          ]
        },
        {
          "output_type": "stream",
          "name": "stderr",
          "text": [
            "     38/100       2.3G     0.7545      1.591     0.7926         91        640: 100%|██████████| 34/34 [00:11<00:00,  2.98it/s]\n",
            "                 Class     Images  Instances      Box(P          R      mAP50  mAP50-95): 100%|██████████| 4/4 [00:01<00:00,  3.32it/s]"
          ]
        },
        {
          "output_type": "stream",
          "name": "stdout",
          "text": [
            "                   all        108        658       0.72      0.771      0.852      0.703\n"
          ]
        },
        {
          "output_type": "stream",
          "name": "stderr",
          "text": [
            "\n"
          ]
        },
        {
          "output_type": "stream",
          "name": "stdout",
          "text": [
            "\n",
            "      Epoch    GPU_mem   box_loss   cls_loss   dfl_loss  Instances       Size\n"
          ]
        },
        {
          "output_type": "stream",
          "name": "stderr",
          "text": [
            "     39/100      2.34G     0.7774      1.548     0.7888         86        640: 100%|██████████| 34/34 [00:09<00:00,  3.71it/s]\n",
            "                 Class     Images  Instances      Box(P          R      mAP50  mAP50-95): 100%|██████████| 4/4 [00:02<00:00,  1.78it/s]"
          ]
        },
        {
          "output_type": "stream",
          "name": "stdout",
          "text": [
            "                   all        108        658      0.696      0.821      0.865       0.71\n"
          ]
        },
        {
          "output_type": "stream",
          "name": "stderr",
          "text": [
            "\n"
          ]
        },
        {
          "output_type": "stream",
          "name": "stdout",
          "text": [
            "\n",
            "      Epoch    GPU_mem   box_loss   cls_loss   dfl_loss  Instances       Size\n"
          ]
        },
        {
          "output_type": "stream",
          "name": "stderr",
          "text": [
            "     40/100      2.36G     0.7388      1.499     0.7887         60        640: 100%|██████████| 34/34 [00:10<00:00,  3.39it/s]\n",
            "                 Class     Images  Instances      Box(P          R      mAP50  mAP50-95): 100%|██████████| 4/4 [00:02<00:00,  1.81it/s]"
          ]
        },
        {
          "output_type": "stream",
          "name": "stdout",
          "text": [
            "                   all        108        658      0.781      0.787      0.887      0.731\n"
          ]
        },
        {
          "output_type": "stream",
          "name": "stderr",
          "text": [
            "\n"
          ]
        },
        {
          "output_type": "stream",
          "name": "stdout",
          "text": [
            "\n",
            "      Epoch    GPU_mem   box_loss   cls_loss   dfl_loss  Instances       Size\n"
          ]
        },
        {
          "output_type": "stream",
          "name": "stderr",
          "text": [
            "     41/100      2.32G     0.7451      1.474     0.7926         80        640: 100%|██████████| 34/34 [00:11<00:00,  2.86it/s]\n",
            "                 Class     Images  Instances      Box(P          R      mAP50  mAP50-95): 100%|██████████| 4/4 [00:01<00:00,  3.40it/s]"
          ]
        },
        {
          "output_type": "stream",
          "name": "stdout",
          "text": [
            "                   all        108        658      0.741      0.883      0.904      0.744\n"
          ]
        },
        {
          "output_type": "stream",
          "name": "stderr",
          "text": [
            "\n"
          ]
        },
        {
          "output_type": "stream",
          "name": "stdout",
          "text": [
            "\n",
            "      Epoch    GPU_mem   box_loss   cls_loss   dfl_loss  Instances       Size\n"
          ]
        },
        {
          "output_type": "stream",
          "name": "stderr",
          "text": [
            "     42/100      2.35G     0.7451      1.476     0.7926        118        640: 100%|██████████| 34/34 [00:11<00:00,  2.97it/s]\n",
            "                 Class     Images  Instances      Box(P          R      mAP50  mAP50-95): 100%|██████████| 4/4 [00:01<00:00,  3.37it/s]"
          ]
        },
        {
          "output_type": "stream",
          "name": "stdout",
          "text": [
            "                   all        108        658        0.8       0.84       0.91      0.751\n"
          ]
        },
        {
          "output_type": "stream",
          "name": "stderr",
          "text": [
            "\n"
          ]
        },
        {
          "output_type": "stream",
          "name": "stdout",
          "text": [
            "\n",
            "      Epoch    GPU_mem   box_loss   cls_loss   dfl_loss  Instances       Size\n"
          ]
        },
        {
          "output_type": "stream",
          "name": "stderr",
          "text": [
            "     43/100      2.35G     0.7591      1.485     0.7928         83        640: 100%|██████████| 34/34 [00:08<00:00,  3.87it/s]\n",
            "                 Class     Images  Instances      Box(P          R      mAP50  mAP50-95): 100%|██████████| 4/4 [00:01<00:00,  2.05it/s]"
          ]
        },
        {
          "output_type": "stream",
          "name": "stdout",
          "text": [
            "                   all        108        658       0.76      0.848      0.918      0.757\n"
          ]
        },
        {
          "output_type": "stream",
          "name": "stderr",
          "text": [
            "\n"
          ]
        },
        {
          "output_type": "stream",
          "name": "stdout",
          "text": [
            "\n",
            "      Epoch    GPU_mem   box_loss   cls_loss   dfl_loss  Instances       Size\n"
          ]
        },
        {
          "output_type": "stream",
          "name": "stderr",
          "text": [
            "     44/100      2.34G     0.7532      1.386     0.7892         70        640: 100%|██████████| 34/34 [00:09<00:00,  3.59it/s]\n",
            "                 Class     Images  Instances      Box(P          R      mAP50  mAP50-95): 100%|██████████| 4/4 [00:01<00:00,  3.40it/s]"
          ]
        },
        {
          "output_type": "stream",
          "name": "stdout",
          "text": [
            "                   all        108        658      0.816      0.851      0.922      0.763\n"
          ]
        },
        {
          "output_type": "stream",
          "name": "stderr",
          "text": [
            "\n"
          ]
        },
        {
          "output_type": "stream",
          "name": "stdout",
          "text": [
            "\n",
            "      Epoch    GPU_mem   box_loss   cls_loss   dfl_loss  Instances       Size\n"
          ]
        },
        {
          "output_type": "stream",
          "name": "stderr",
          "text": [
            "     45/100      2.36G     0.7656      1.364     0.7901         56        640: 100%|██████████| 34/34 [00:11<00:00,  3.01it/s]\n",
            "                 Class     Images  Instances      Box(P          R      mAP50  mAP50-95): 100%|██████████| 4/4 [00:01<00:00,  3.28it/s]"
          ]
        },
        {
          "output_type": "stream",
          "name": "stdout",
          "text": [
            "                   all        108        658      0.796      0.886      0.928      0.767\n"
          ]
        },
        {
          "output_type": "stream",
          "name": "stderr",
          "text": [
            "\n"
          ]
        },
        {
          "output_type": "stream",
          "name": "stdout",
          "text": [
            "\n",
            "      Epoch    GPU_mem   box_loss   cls_loss   dfl_loss  Instances       Size\n"
          ]
        },
        {
          "output_type": "stream",
          "name": "stderr",
          "text": [
            "     46/100      2.32G     0.7296      1.332      0.788         82        640: 100%|██████████| 34/34 [00:10<00:00,  3.16it/s]\n",
            "                 Class     Images  Instances      Box(P          R      mAP50  mAP50-95): 100%|██████████| 4/4 [00:01<00:00,  2.28it/s]"
          ]
        },
        {
          "output_type": "stream",
          "name": "stdout",
          "text": [
            "                   all        108        658      0.815      0.869      0.933      0.769\n"
          ]
        },
        {
          "output_type": "stream",
          "name": "stderr",
          "text": [
            "\n"
          ]
        },
        {
          "output_type": "stream",
          "name": "stdout",
          "text": [
            "\n",
            "      Epoch    GPU_mem   box_loss   cls_loss   dfl_loss  Instances       Size\n"
          ]
        },
        {
          "output_type": "stream",
          "name": "stderr",
          "text": [
            "     47/100      2.33G     0.7306      1.331     0.7882         83        640: 100%|██████████| 34/34 [00:08<00:00,  4.07it/s]\n",
            "                 Class     Images  Instances      Box(P          R      mAP50  mAP50-95): 100%|██████████| 4/4 [00:01<00:00,  2.48it/s]"
          ]
        },
        {
          "output_type": "stream",
          "name": "stdout",
          "text": [
            "                   all        108        658      0.858      0.894      0.943      0.783\n"
          ]
        },
        {
          "output_type": "stream",
          "name": "stderr",
          "text": [
            "\n"
          ]
        },
        {
          "output_type": "stream",
          "name": "stdout",
          "text": [
            "\n",
            "      Epoch    GPU_mem   box_loss   cls_loss   dfl_loss  Instances       Size\n"
          ]
        },
        {
          "output_type": "stream",
          "name": "stderr",
          "text": [
            "     48/100      2.31G      0.741      1.288     0.7887         75        640: 100%|██████████| 34/34 [00:10<00:00,  3.16it/s]\n",
            "                 Class     Images  Instances      Box(P          R      mAP50  mAP50-95): 100%|██████████| 4/4 [00:01<00:00,  3.46it/s]\n"
          ]
        },
        {
          "output_type": "stream",
          "name": "stdout",
          "text": [
            "                   all        108        658      0.891      0.895      0.946      0.784\n",
            "\n",
            "      Epoch    GPU_mem   box_loss   cls_loss   dfl_loss  Instances       Size\n"
          ]
        },
        {
          "output_type": "stream",
          "name": "stderr",
          "text": [
            "     49/100      2.32G     0.7373      1.285     0.7901         88        640: 100%|██████████| 34/34 [00:10<00:00,  3.19it/s]\n",
            "                 Class     Images  Instances      Box(P          R      mAP50  mAP50-95): 100%|██████████| 4/4 [00:01<00:00,  3.24it/s]"
          ]
        },
        {
          "output_type": "stream",
          "name": "stdout",
          "text": [
            "                   all        108        658      0.859        0.9      0.949      0.786\n"
          ]
        },
        {
          "output_type": "stream",
          "name": "stderr",
          "text": [
            "\n"
          ]
        },
        {
          "output_type": "stream",
          "name": "stdout",
          "text": [
            "\n",
            "      Epoch    GPU_mem   box_loss   cls_loss   dfl_loss  Instances       Size\n"
          ]
        },
        {
          "output_type": "stream",
          "name": "stderr",
          "text": [
            "     50/100      2.35G     0.7254      1.235     0.7915        107        640: 100%|██████████| 34/34 [00:09<00:00,  3.46it/s]\n",
            "                 Class     Images  Instances      Box(P          R      mAP50  mAP50-95): 100%|██████████| 4/4 [00:01<00:00,  2.01it/s]\n"
          ]
        },
        {
          "output_type": "stream",
          "name": "stdout",
          "text": [
            "                   all        108        658      0.844      0.901      0.954      0.786\n",
            "\n",
            "      Epoch    GPU_mem   box_loss   cls_loss   dfl_loss  Instances       Size\n"
          ]
        },
        {
          "output_type": "stream",
          "name": "stderr",
          "text": [
            "     51/100      2.35G      0.743      1.251       0.79        108        640: 100%|██████████| 34/34 [00:08<00:00,  4.08it/s]\n",
            "                 Class     Images  Instances      Box(P          R      mAP50  mAP50-95): 100%|██████████| 4/4 [00:01<00:00,  3.36it/s]\n"
          ]
        },
        {
          "output_type": "stream",
          "name": "stdout",
          "text": [
            "                   all        108        658      0.842        0.9      0.951      0.782\n",
            "\n",
            "      Epoch    GPU_mem   box_loss   cls_loss   dfl_loss  Instances       Size\n"
          ]
        },
        {
          "output_type": "stream",
          "name": "stderr",
          "text": [
            "     52/100      2.32G     0.7236        1.2     0.7862         89        640: 100%|██████████| 34/34 [00:10<00:00,  3.27it/s]\n",
            "                 Class     Images  Instances      Box(P          R      mAP50  mAP50-95): 100%|██████████| 4/4 [00:01<00:00,  3.53it/s]"
          ]
        },
        {
          "output_type": "stream",
          "name": "stdout",
          "text": [
            "                   all        108        658      0.905      0.932       0.96      0.788\n"
          ]
        },
        {
          "output_type": "stream",
          "name": "stderr",
          "text": [
            "\n"
          ]
        },
        {
          "output_type": "stream",
          "name": "stdout",
          "text": [
            "\n",
            "      Epoch    GPU_mem   box_loss   cls_loss   dfl_loss  Instances       Size\n"
          ]
        },
        {
          "output_type": "stream",
          "name": "stderr",
          "text": [
            "     53/100      2.33G     0.7285      1.194     0.7905         74        640: 100%|██████████| 34/34 [00:11<00:00,  3.00it/s]\n",
            "                 Class     Images  Instances      Box(P          R      mAP50  mAP50-95): 100%|██████████| 4/4 [00:01<00:00,  3.49it/s]"
          ]
        },
        {
          "output_type": "stream",
          "name": "stdout",
          "text": [
            "                   all        108        658      0.884      0.909      0.959      0.792\n"
          ]
        },
        {
          "output_type": "stream",
          "name": "stderr",
          "text": [
            "\n"
          ]
        },
        {
          "output_type": "stream",
          "name": "stdout",
          "text": [
            "\n",
            "      Epoch    GPU_mem   box_loss   cls_loss   dfl_loss  Instances       Size\n"
          ]
        },
        {
          "output_type": "stream",
          "name": "stderr",
          "text": [
            "     54/100      2.33G     0.7256      1.187     0.7845        112        640: 100%|██████████| 34/34 [00:09<00:00,  3.70it/s]\n",
            "                 Class     Images  Instances      Box(P          R      mAP50  mAP50-95): 100%|██████████| 4/4 [00:02<00:00,  1.66it/s]"
          ]
        },
        {
          "output_type": "stream",
          "name": "stdout",
          "text": [
            "                   all        108        658      0.896      0.938      0.964        0.8\n"
          ]
        },
        {
          "output_type": "stream",
          "name": "stderr",
          "text": [
            "\n"
          ]
        },
        {
          "output_type": "stream",
          "name": "stdout",
          "text": [
            "\n",
            "      Epoch    GPU_mem   box_loss   cls_loss   dfl_loss  Instances       Size\n"
          ]
        },
        {
          "output_type": "stream",
          "name": "stderr",
          "text": [
            "     55/100      2.32G     0.7374      1.151      0.788        103        640: 100%|██████████| 34/34 [00:08<00:00,  3.79it/s]\n",
            "                 Class     Images  Instances      Box(P          R      mAP50  mAP50-95): 100%|██████████| 4/4 [00:01<00:00,  3.36it/s]"
          ]
        },
        {
          "output_type": "stream",
          "name": "stdout",
          "text": [
            "                   all        108        658      0.907      0.932      0.966      0.802\n"
          ]
        },
        {
          "output_type": "stream",
          "name": "stderr",
          "text": [
            "\n"
          ]
        },
        {
          "output_type": "stream",
          "name": "stdout",
          "text": [
            "\n",
            "      Epoch    GPU_mem   box_loss   cls_loss   dfl_loss  Instances       Size\n"
          ]
        },
        {
          "output_type": "stream",
          "name": "stderr",
          "text": [
            "     56/100      2.35G     0.7314      1.141     0.7898         83        640: 100%|██████████| 34/34 [00:14<00:00,  2.42it/s]\n",
            "                 Class     Images  Instances      Box(P          R      mAP50  mAP50-95): 100%|██████████| 4/4 [00:01<00:00,  3.56it/s]"
          ]
        },
        {
          "output_type": "stream",
          "name": "stdout",
          "text": [
            "                   all        108        658      0.919      0.924      0.972      0.809\n"
          ]
        },
        {
          "output_type": "stream",
          "name": "stderr",
          "text": [
            "\n"
          ]
        },
        {
          "output_type": "stream",
          "name": "stdout",
          "text": [
            "\n",
            "      Epoch    GPU_mem   box_loss   cls_loss   dfl_loss  Instances       Size\n"
          ]
        },
        {
          "output_type": "stream",
          "name": "stderr",
          "text": [
            "     57/100      2.34G     0.7115      1.073     0.7902        117        640: 100%|██████████| 34/34 [00:08<00:00,  3.78it/s]\n",
            "                 Class     Images  Instances      Box(P          R      mAP50  mAP50-95): 100%|██████████| 4/4 [00:02<00:00,  1.76it/s]"
          ]
        },
        {
          "output_type": "stream",
          "name": "stdout",
          "text": [
            "                   all        108        658      0.898      0.931      0.972      0.808\n"
          ]
        },
        {
          "output_type": "stream",
          "name": "stderr",
          "text": [
            "\n"
          ]
        },
        {
          "output_type": "stream",
          "name": "stdout",
          "text": [
            "\n",
            "      Epoch    GPU_mem   box_loss   cls_loss   dfl_loss  Instances       Size\n"
          ]
        },
        {
          "output_type": "stream",
          "name": "stderr",
          "text": [
            "     58/100      2.33G     0.7077       1.09     0.7881        108        640: 100%|██████████| 34/34 [00:08<00:00,  3.96it/s]\n",
            "                 Class     Images  Instances      Box(P          R      mAP50  mAP50-95): 100%|██████████| 4/4 [00:01<00:00,  3.24it/s]"
          ]
        },
        {
          "output_type": "stream",
          "name": "stdout",
          "text": [
            "                   all        108        658      0.894      0.957      0.976      0.805\n"
          ]
        },
        {
          "output_type": "stream",
          "name": "stderr",
          "text": [
            "\n"
          ]
        },
        {
          "output_type": "stream",
          "name": "stdout",
          "text": [
            "\n",
            "      Epoch    GPU_mem   box_loss   cls_loss   dfl_loss  Instances       Size\n"
          ]
        },
        {
          "output_type": "stream",
          "name": "stderr",
          "text": [
            "     59/100      2.35G     0.7188      1.084     0.7916        100        640: 100%|██████████| 34/34 [00:11<00:00,  3.06it/s]\n",
            "                 Class     Images  Instances      Box(P          R      mAP50  mAP50-95): 100%|██████████| 4/4 [00:01<00:00,  3.40it/s]"
          ]
        },
        {
          "output_type": "stream",
          "name": "stdout",
          "text": [
            "                   all        108        658      0.941       0.95      0.984      0.816\n"
          ]
        },
        {
          "output_type": "stream",
          "name": "stderr",
          "text": [
            "\n"
          ]
        },
        {
          "output_type": "stream",
          "name": "stdout",
          "text": [
            "\n",
            "      Epoch    GPU_mem   box_loss   cls_loss   dfl_loss  Instances       Size\n"
          ]
        },
        {
          "output_type": "stream",
          "name": "stderr",
          "text": [
            "     60/100      2.31G     0.7244       1.09     0.7944         84        640: 100%|██████████| 34/34 [00:10<00:00,  3.11it/s]\n",
            "                 Class     Images  Instances      Box(P          R      mAP50  mAP50-95): 100%|██████████| 4/4 [00:01<00:00,  2.23it/s]"
          ]
        },
        {
          "output_type": "stream",
          "name": "stdout",
          "text": [
            "                   all        108        658      0.915      0.959      0.981      0.813\n"
          ]
        },
        {
          "output_type": "stream",
          "name": "stderr",
          "text": [
            "\n"
          ]
        },
        {
          "output_type": "stream",
          "name": "stdout",
          "text": [
            "\n",
            "      Epoch    GPU_mem   box_loss   cls_loss   dfl_loss  Instances       Size\n"
          ]
        },
        {
          "output_type": "stream",
          "name": "stderr",
          "text": [
            "     61/100      2.34G       0.71       1.05     0.7929         88        640: 100%|██████████| 34/34 [00:08<00:00,  4.08it/s]\n",
            "                 Class     Images  Instances      Box(P          R      mAP50  mAP50-95): 100%|██████████| 4/4 [00:01<00:00,  2.39it/s]"
          ]
        },
        {
          "output_type": "stream",
          "name": "stdout",
          "text": [
            "                   all        108        658      0.927      0.954      0.982      0.813\n"
          ]
        },
        {
          "output_type": "stream",
          "name": "stderr",
          "text": [
            "\n"
          ]
        },
        {
          "output_type": "stream",
          "name": "stdout",
          "text": [
            "\n",
            "      Epoch    GPU_mem   box_loss   cls_loss   dfl_loss  Instances       Size\n"
          ]
        },
        {
          "output_type": "stream",
          "name": "stderr",
          "text": [
            "     62/100      2.34G     0.7213      1.062     0.7916        116        640: 100%|██████████| 34/34 [00:10<00:00,  3.20it/s]\n",
            "                 Class     Images  Instances      Box(P          R      mAP50  mAP50-95): 100%|██████████| 4/4 [00:01<00:00,  3.47it/s]"
          ]
        },
        {
          "output_type": "stream",
          "name": "stdout",
          "text": [
            "                   all        108        658      0.931      0.961      0.984      0.813\n"
          ]
        },
        {
          "output_type": "stream",
          "name": "stderr",
          "text": [
            "\n"
          ]
        },
        {
          "output_type": "stream",
          "name": "stdout",
          "text": [
            "\n",
            "      Epoch    GPU_mem   box_loss   cls_loss   dfl_loss  Instances       Size\n"
          ]
        },
        {
          "output_type": "stream",
          "name": "stderr",
          "text": [
            "     63/100      2.31G     0.7264      1.055     0.7908        119        640: 100%|██████████| 34/34 [00:11<00:00,  3.08it/s]\n",
            "                 Class     Images  Instances      Box(P          R      mAP50  mAP50-95): 100%|██████████| 4/4 [00:01<00:00,  3.44it/s]"
          ]
        },
        {
          "output_type": "stream",
          "name": "stdout",
          "text": [
            "                   all        108        658      0.948      0.953      0.987      0.818\n"
          ]
        },
        {
          "output_type": "stream",
          "name": "stderr",
          "text": [
            "\n"
          ]
        },
        {
          "output_type": "stream",
          "name": "stdout",
          "text": [
            "\n",
            "      Epoch    GPU_mem   box_loss   cls_loss   dfl_loss  Instances       Size\n"
          ]
        },
        {
          "output_type": "stream",
          "name": "stderr",
          "text": [
            "     64/100      2.32G     0.7167      1.038     0.7873        118        640: 100%|██████████| 34/34 [00:09<00:00,  3.54it/s]\n",
            "                 Class     Images  Instances      Box(P          R      mAP50  mAP50-95): 100%|██████████| 4/4 [00:02<00:00,  1.81it/s]"
          ]
        },
        {
          "output_type": "stream",
          "name": "stdout",
          "text": [
            "                   all        108        658      0.937      0.964      0.985       0.82\n"
          ]
        },
        {
          "output_type": "stream",
          "name": "stderr",
          "text": [
            "\n"
          ]
        },
        {
          "output_type": "stream",
          "name": "stdout",
          "text": [
            "\n",
            "      Epoch    GPU_mem   box_loss   cls_loss   dfl_loss  Instances       Size\n"
          ]
        },
        {
          "output_type": "stream",
          "name": "stderr",
          "text": [
            "     65/100      2.34G     0.7016      1.013     0.7896         71        640: 100%|██████████| 34/34 [00:08<00:00,  4.01it/s]\n",
            "                 Class     Images  Instances      Box(P          R      mAP50  mAP50-95): 100%|██████████| 4/4 [00:01<00:00,  3.32it/s]"
          ]
        },
        {
          "output_type": "stream",
          "name": "stdout",
          "text": [
            "                   all        108        658      0.941      0.963      0.986      0.823\n"
          ]
        },
        {
          "output_type": "stream",
          "name": "stderr",
          "text": [
            "\n"
          ]
        },
        {
          "output_type": "stream",
          "name": "stdout",
          "text": [
            "\n",
            "      Epoch    GPU_mem   box_loss   cls_loss   dfl_loss  Instances       Size\n"
          ]
        },
        {
          "output_type": "stream",
          "name": "stderr",
          "text": [
            "     66/100      2.34G     0.6973       1.01     0.7932         70        640: 100%|██████████| 34/34 [00:10<00:00,  3.10it/s]\n",
            "                 Class     Images  Instances      Box(P          R      mAP50  mAP50-95): 100%|██████████| 4/4 [00:01<00:00,  3.44it/s]"
          ]
        },
        {
          "output_type": "stream",
          "name": "stdout",
          "text": [
            "                   all        108        658      0.945      0.961      0.986      0.818\n"
          ]
        },
        {
          "output_type": "stream",
          "name": "stderr",
          "text": [
            "\n"
          ]
        },
        {
          "output_type": "stream",
          "name": "stdout",
          "text": [
            "\n",
            "      Epoch    GPU_mem   box_loss   cls_loss   dfl_loss  Instances       Size\n"
          ]
        },
        {
          "output_type": "stream",
          "name": "stderr",
          "text": [
            "     67/100      2.34G     0.7026      1.007     0.7849        108        640: 100%|██████████| 34/34 [00:10<00:00,  3.15it/s]\n",
            "                 Class     Images  Instances      Box(P          R      mAP50  mAP50-95): 100%|██████████| 4/4 [00:01<00:00,  3.16it/s]"
          ]
        },
        {
          "output_type": "stream",
          "name": "stdout",
          "text": [
            "                   all        108        658      0.944      0.963      0.988      0.822\n"
          ]
        },
        {
          "output_type": "stream",
          "name": "stderr",
          "text": [
            "\n"
          ]
        },
        {
          "output_type": "stream",
          "name": "stdout",
          "text": [
            "\n",
            "      Epoch    GPU_mem   box_loss   cls_loss   dfl_loss  Instances       Size\n"
          ]
        },
        {
          "output_type": "stream",
          "name": "stderr",
          "text": [
            "     68/100      2.38G     0.6943     0.9659     0.7937         87        640: 100%|██████████| 34/34 [00:08<00:00,  3.93it/s]\n",
            "                 Class     Images  Instances      Box(P          R      mAP50  mAP50-95): 100%|██████████| 4/4 [00:02<00:00,  1.97it/s]"
          ]
        },
        {
          "output_type": "stream",
          "name": "stdout",
          "text": [
            "                   all        108        658      0.941      0.968      0.989      0.824\n"
          ]
        },
        {
          "output_type": "stream",
          "name": "stderr",
          "text": [
            "\n"
          ]
        },
        {
          "output_type": "stream",
          "name": "stdout",
          "text": [
            "\n",
            "      Epoch    GPU_mem   box_loss   cls_loss   dfl_loss  Instances       Size\n"
          ]
        },
        {
          "output_type": "stream",
          "name": "stderr",
          "text": [
            "     69/100       2.3G     0.6876     0.9782     0.7842         73        640: 100%|██████████| 34/34 [00:08<00:00,  3.92it/s]\n",
            "                 Class     Images  Instances      Box(P          R      mAP50  mAP50-95): 100%|██████████| 4/4 [00:01<00:00,  3.37it/s]"
          ]
        },
        {
          "output_type": "stream",
          "name": "stdout",
          "text": [
            "                   all        108        658      0.945      0.962      0.987      0.825\n"
          ]
        },
        {
          "output_type": "stream",
          "name": "stderr",
          "text": [
            "\n"
          ]
        },
        {
          "output_type": "stream",
          "name": "stdout",
          "text": [
            "\n",
            "      Epoch    GPU_mem   box_loss   cls_loss   dfl_loss  Instances       Size\n"
          ]
        },
        {
          "output_type": "stream",
          "name": "stderr",
          "text": [
            "     70/100      2.31G      0.697      1.001     0.7892         71        640: 100%|██████████| 34/34 [00:10<00:00,  3.17it/s]\n",
            "                 Class     Images  Instances      Box(P          R      mAP50  mAP50-95): 100%|██████████| 4/4 [00:01<00:00,  3.55it/s]"
          ]
        },
        {
          "output_type": "stream",
          "name": "stdout",
          "text": [
            "                   all        108        658      0.947      0.974       0.99      0.827\n"
          ]
        },
        {
          "output_type": "stream",
          "name": "stderr",
          "text": [
            "\n"
          ]
        },
        {
          "output_type": "stream",
          "name": "stdout",
          "text": [
            "\n",
            "      Epoch    GPU_mem   box_loss   cls_loss   dfl_loss  Instances       Size\n"
          ]
        },
        {
          "output_type": "stream",
          "name": "stderr",
          "text": [
            "     71/100      2.34G      0.712       0.99     0.7851        141        640: 100%|██████████| 34/34 [00:11<00:00,  2.98it/s]\n",
            "                 Class     Images  Instances      Box(P          R      mAP50  mAP50-95): 100%|██████████| 4/4 [00:02<00:00,  1.69it/s]"
          ]
        },
        {
          "output_type": "stream",
          "name": "stdout",
          "text": [
            "                   all        108        658      0.946      0.974      0.989      0.826\n"
          ]
        },
        {
          "output_type": "stream",
          "name": "stderr",
          "text": [
            "\n"
          ]
        },
        {
          "output_type": "stream",
          "name": "stdout",
          "text": [
            "\n",
            "      Epoch    GPU_mem   box_loss   cls_loss   dfl_loss  Instances       Size\n"
          ]
        },
        {
          "output_type": "stream",
          "name": "stderr",
          "text": [
            "     72/100      2.34G     0.6868     0.9409     0.7857        111        640: 100%|██████████| 34/34 [00:10<00:00,  3.29it/s]\n",
            "                 Class     Images  Instances      Box(P          R      mAP50  mAP50-95): 100%|██████████| 4/4 [00:02<00:00,  1.60it/s]"
          ]
        },
        {
          "output_type": "stream",
          "name": "stdout",
          "text": [
            "                   all        108        658      0.953      0.973      0.991      0.829\n"
          ]
        },
        {
          "output_type": "stream",
          "name": "stderr",
          "text": [
            "\n"
          ]
        },
        {
          "output_type": "stream",
          "name": "stdout",
          "text": [
            "\n",
            "      Epoch    GPU_mem   box_loss   cls_loss   dfl_loss  Instances       Size\n"
          ]
        },
        {
          "output_type": "stream",
          "name": "stderr",
          "text": [
            "     73/100      2.33G     0.6886     0.9611     0.7885        140        640: 100%|██████████| 34/34 [00:08<00:00,  3.95it/s]\n",
            "                 Class     Images  Instances      Box(P          R      mAP50  mAP50-95): 100%|██████████| 4/4 [00:01<00:00,  3.60it/s]"
          ]
        },
        {
          "output_type": "stream",
          "name": "stdout",
          "text": [
            "                   all        108        658      0.961      0.977      0.991      0.828\n"
          ]
        },
        {
          "output_type": "stream",
          "name": "stderr",
          "text": [
            "\n"
          ]
        },
        {
          "output_type": "stream",
          "name": "stdout",
          "text": [
            "\n",
            "      Epoch    GPU_mem   box_loss   cls_loss   dfl_loss  Instances       Size\n"
          ]
        },
        {
          "output_type": "stream",
          "name": "stderr",
          "text": [
            "     74/100      2.33G     0.6905     0.9385     0.7874        133        640: 100%|██████████| 34/34 [00:11<00:00,  2.96it/s]\n",
            "                 Class     Images  Instances      Box(P          R      mAP50  mAP50-95): 100%|██████████| 4/4 [00:01<00:00,  3.46it/s]"
          ]
        },
        {
          "output_type": "stream",
          "name": "stdout",
          "text": [
            "                   all        108        658      0.954      0.973      0.991       0.83\n"
          ]
        },
        {
          "output_type": "stream",
          "name": "stderr",
          "text": [
            "\n"
          ]
        },
        {
          "output_type": "stream",
          "name": "stdout",
          "text": [
            "\n",
            "      Epoch    GPU_mem   box_loss   cls_loss   dfl_loss  Instances       Size\n"
          ]
        },
        {
          "output_type": "stream",
          "name": "stderr",
          "text": [
            "     75/100      2.34G     0.6935     0.9568     0.7932         72        640: 100%|██████████| 34/34 [00:10<00:00,  3.19it/s]\n",
            "                 Class     Images  Instances      Box(P          R      mAP50  mAP50-95): 100%|██████████| 4/4 [00:01<00:00,  2.31it/s]"
          ]
        },
        {
          "output_type": "stream",
          "name": "stdout",
          "text": [
            "                   all        108        658      0.957      0.985      0.992      0.826\n"
          ]
        },
        {
          "output_type": "stream",
          "name": "stderr",
          "text": [
            "\n"
          ]
        },
        {
          "output_type": "stream",
          "name": "stdout",
          "text": [
            "\n",
            "      Epoch    GPU_mem   box_loss   cls_loss   dfl_loss  Instances       Size\n"
          ]
        },
        {
          "output_type": "stream",
          "name": "stderr",
          "text": [
            "     76/100      2.32G      0.698     0.9479     0.7874         80        640: 100%|██████████| 34/34 [00:08<00:00,  4.00it/s]\n",
            "                 Class     Images  Instances      Box(P          R      mAP50  mAP50-95): 100%|██████████| 4/4 [00:01<00:00,  2.62it/s]\n"
          ]
        },
        {
          "output_type": "stream",
          "name": "stdout",
          "text": [
            "                   all        108        658      0.962      0.975      0.992      0.828\n",
            "\n",
            "      Epoch    GPU_mem   box_loss   cls_loss   dfl_loss  Instances       Size\n"
          ]
        },
        {
          "output_type": "stream",
          "name": "stderr",
          "text": [
            "     77/100      2.31G     0.6907     0.9117      0.789         64        640: 100%|██████████| 34/34 [00:10<00:00,  3.30it/s]\n",
            "                 Class     Images  Instances      Box(P          R      mAP50  mAP50-95): 100%|██████████| 4/4 [00:01<00:00,  3.48it/s]"
          ]
        },
        {
          "output_type": "stream",
          "name": "stdout",
          "text": [
            "                   all        108        658      0.974      0.975      0.993      0.828\n"
          ]
        },
        {
          "output_type": "stream",
          "name": "stderr",
          "text": [
            "\n"
          ]
        },
        {
          "output_type": "stream",
          "name": "stdout",
          "text": [
            "\n",
            "      Epoch    GPU_mem   box_loss   cls_loss   dfl_loss  Instances       Size\n"
          ]
        },
        {
          "output_type": "stream",
          "name": "stderr",
          "text": [
            "     78/100      2.31G      0.696     0.9483     0.7862        127        640: 100%|██████████| 34/34 [00:11<00:00,  3.09it/s]\n",
            "                 Class     Images  Instances      Box(P          R      mAP50  mAP50-95): 100%|██████████| 4/4 [00:01<00:00,  3.70it/s]"
          ]
        },
        {
          "output_type": "stream",
          "name": "stdout",
          "text": [
            "                   all        108        658      0.959      0.974      0.992      0.828\n"
          ]
        },
        {
          "output_type": "stream",
          "name": "stderr",
          "text": [
            "\n"
          ]
        },
        {
          "output_type": "stream",
          "name": "stdout",
          "text": [
            "\n",
            "      Epoch    GPU_mem   box_loss   cls_loss   dfl_loss  Instances       Size\n"
          ]
        },
        {
          "output_type": "stream",
          "name": "stderr",
          "text": [
            "     79/100      2.32G     0.6872     0.9084     0.7918         95        640: 100%|██████████| 34/34 [00:09<00:00,  3.56it/s]\n",
            "                 Class     Images  Instances      Box(P          R      mAP50  mAP50-95): 100%|██████████| 4/4 [00:02<00:00,  1.83it/s]"
          ]
        },
        {
          "output_type": "stream",
          "name": "stdout",
          "text": [
            "                   all        108        658      0.973      0.983      0.993      0.831\n"
          ]
        },
        {
          "output_type": "stream",
          "name": "stderr",
          "text": [
            "\n"
          ]
        },
        {
          "output_type": "stream",
          "name": "stdout",
          "text": [
            "\n",
            "      Epoch    GPU_mem   box_loss   cls_loss   dfl_loss  Instances       Size\n"
          ]
        },
        {
          "output_type": "stream",
          "name": "stderr",
          "text": [
            "     80/100      2.36G      0.685     0.9031     0.7854         83        640: 100%|██████████| 34/34 [00:08<00:00,  3.98it/s]\n",
            "                 Class     Images  Instances      Box(P          R      mAP50  mAP50-95): 100%|██████████| 4/4 [00:01<00:00,  3.37it/s]"
          ]
        },
        {
          "output_type": "stream",
          "name": "stdout",
          "text": [
            "                   all        108        658      0.966      0.983      0.992      0.831\n"
          ]
        },
        {
          "output_type": "stream",
          "name": "stderr",
          "text": [
            "\n"
          ]
        },
        {
          "output_type": "stream",
          "name": "stdout",
          "text": [
            "\n",
            "      Epoch    GPU_mem   box_loss   cls_loss   dfl_loss  Instances       Size\n"
          ]
        },
        {
          "output_type": "stream",
          "name": "stderr",
          "text": [
            "     81/100      2.32G     0.6738      0.902     0.7875         96        640: 100%|██████████| 34/34 [00:11<00:00,  3.03it/s]\n",
            "                 Class     Images  Instances      Box(P          R      mAP50  mAP50-95): 100%|██████████| 4/4 [00:01<00:00,  3.23it/s]"
          ]
        },
        {
          "output_type": "stream",
          "name": "stdout",
          "text": [
            "                   all        108        658      0.967      0.977      0.992      0.834\n"
          ]
        },
        {
          "output_type": "stream",
          "name": "stderr",
          "text": [
            "\n"
          ]
        },
        {
          "output_type": "stream",
          "name": "stdout",
          "text": [
            "\n",
            "      Epoch    GPU_mem   box_loss   cls_loss   dfl_loss  Instances       Size\n"
          ]
        },
        {
          "output_type": "stream",
          "name": "stderr",
          "text": [
            "     82/100      2.33G     0.6884     0.9004     0.7839         96        640: 100%|██████████| 34/34 [00:10<00:00,  3.18it/s]\n",
            "                 Class     Images  Instances      Box(P          R      mAP50  mAP50-95): 100%|██████████| 4/4 [00:01<00:00,  2.23it/s]\n"
          ]
        },
        {
          "output_type": "stream",
          "name": "stdout",
          "text": [
            "                   all        108        658      0.953      0.978      0.993      0.825\n",
            "\n",
            "      Epoch    GPU_mem   box_loss   cls_loss   dfl_loss  Instances       Size\n"
          ]
        },
        {
          "output_type": "stream",
          "name": "stderr",
          "text": [
            "     83/100       2.3G      0.693     0.9166     0.7869         87        640: 100%|██████████| 34/34 [00:08<00:00,  4.05it/s]\n",
            "                 Class     Images  Instances      Box(P          R      mAP50  mAP50-95): 100%|██████████| 4/4 [00:01<00:00,  2.19it/s]"
          ]
        },
        {
          "output_type": "stream",
          "name": "stdout",
          "text": [
            "                   all        108        658      0.969      0.977      0.992      0.831\n"
          ]
        },
        {
          "output_type": "stream",
          "name": "stderr",
          "text": [
            "\n"
          ]
        },
        {
          "output_type": "stream",
          "name": "stdout",
          "text": [
            "\n",
            "      Epoch    GPU_mem   box_loss   cls_loss   dfl_loss  Instances       Size\n"
          ]
        },
        {
          "output_type": "stream",
          "name": "stderr",
          "text": [
            "     84/100      2.32G     0.6704     0.8997     0.7881         96        640: 100%|██████████| 34/34 [00:10<00:00,  3.38it/s]\n",
            "                 Class     Images  Instances      Box(P          R      mAP50  mAP50-95): 100%|██████████| 4/4 [00:01<00:00,  3.53it/s]"
          ]
        },
        {
          "output_type": "stream",
          "name": "stdout",
          "text": [
            "                   all        108        658      0.967      0.979      0.991      0.829\n"
          ]
        },
        {
          "output_type": "stream",
          "name": "stderr",
          "text": [
            "\n"
          ]
        },
        {
          "output_type": "stream",
          "name": "stdout",
          "text": [
            "\n",
            "      Epoch    GPU_mem   box_loss   cls_loss   dfl_loss  Instances       Size\n"
          ]
        },
        {
          "output_type": "stream",
          "name": "stderr",
          "text": [
            "     85/100       2.3G     0.6672      0.873     0.7877         81        640: 100%|██████████| 34/34 [00:11<00:00,  3.04it/s]\n",
            "                 Class     Images  Instances      Box(P          R      mAP50  mAP50-95): 100%|██████████| 4/4 [00:01<00:00,  3.20it/s]"
          ]
        },
        {
          "output_type": "stream",
          "name": "stdout",
          "text": [
            "                   all        108        658      0.969      0.988      0.993       0.83\n"
          ]
        },
        {
          "output_type": "stream",
          "name": "stderr",
          "text": [
            "\n"
          ]
        },
        {
          "output_type": "stream",
          "name": "stdout",
          "text": [
            "\n",
            "      Epoch    GPU_mem   box_loss   cls_loss   dfl_loss  Instances       Size\n"
          ]
        },
        {
          "output_type": "stream",
          "name": "stderr",
          "text": [
            "     86/100       2.3G     0.6637     0.8608     0.7854        100        640: 100%|██████████| 34/34 [00:09<00:00,  3.65it/s]\n",
            "                 Class     Images  Instances      Box(P          R      mAP50  mAP50-95): 100%|██████████| 4/4 [00:02<00:00,  1.71it/s]"
          ]
        },
        {
          "output_type": "stream",
          "name": "stdout",
          "text": [
            "                   all        108        658       0.97      0.981      0.993      0.829\n"
          ]
        },
        {
          "output_type": "stream",
          "name": "stderr",
          "text": [
            "\n"
          ]
        },
        {
          "output_type": "stream",
          "name": "stdout",
          "text": [
            "\n",
            "      Epoch    GPU_mem   box_loss   cls_loss   dfl_loss  Instances       Size\n"
          ]
        },
        {
          "output_type": "stream",
          "name": "stderr",
          "text": [
            "     87/100      2.37G     0.6811     0.8956     0.7866         99        640: 100%|██████████| 34/34 [00:11<00:00,  2.85it/s]\n",
            "                 Class     Images  Instances      Box(P          R      mAP50  mAP50-95): 100%|██████████| 4/4 [00:02<00:00,  1.94it/s]\n"
          ]
        },
        {
          "output_type": "stream",
          "name": "stdout",
          "text": [
            "                   all        108        658      0.973      0.984      0.993       0.83\n",
            "\n",
            "      Epoch    GPU_mem   box_loss   cls_loss   dfl_loss  Instances       Size\n"
          ]
        },
        {
          "output_type": "stream",
          "name": "stderr",
          "text": [
            "     88/100      2.32G     0.6627     0.8899     0.7909        103        640: 100%|██████████| 34/34 [00:09<00:00,  3.73it/s]\n",
            "                 Class     Images  Instances      Box(P          R      mAP50  mAP50-95): 100%|██████████| 4/4 [00:01<00:00,  3.95it/s]"
          ]
        },
        {
          "output_type": "stream",
          "name": "stdout",
          "text": [
            "                   all        108        658       0.97      0.985      0.993      0.831\n"
          ]
        },
        {
          "output_type": "stream",
          "name": "stderr",
          "text": [
            "\n"
          ]
        },
        {
          "output_type": "stream",
          "name": "stdout",
          "text": [
            "\n",
            "      Epoch    GPU_mem   box_loss   cls_loss   dfl_loss  Instances       Size\n"
          ]
        },
        {
          "output_type": "stream",
          "name": "stderr",
          "text": [
            "     89/100      2.35G     0.6735     0.8915     0.7903        105        640: 100%|██████████| 34/34 [00:11<00:00,  3.08it/s]\n",
            "                 Class     Images  Instances      Box(P          R      mAP50  mAP50-95): 100%|██████████| 4/4 [00:01<00:00,  3.70it/s]"
          ]
        },
        {
          "output_type": "stream",
          "name": "stdout",
          "text": [
            "                   all        108        658      0.973      0.984      0.993      0.834\n"
          ]
        },
        {
          "output_type": "stream",
          "name": "stderr",
          "text": [
            "\n"
          ]
        },
        {
          "output_type": "stream",
          "name": "stdout",
          "text": [
            "\n",
            "      Epoch    GPU_mem   box_loss   cls_loss   dfl_loss  Instances       Size\n"
          ]
        },
        {
          "output_type": "stream",
          "name": "stderr",
          "text": [
            "     90/100      2.35G     0.6634     0.8711     0.7854        131        640: 100%|██████████| 34/34 [00:10<00:00,  3.15it/s]\n",
            "                 Class     Images  Instances      Box(P          R      mAP50  mAP50-95): 100%|██████████| 4/4 [00:01<00:00,  2.21it/s]"
          ]
        },
        {
          "output_type": "stream",
          "name": "stdout",
          "text": [
            "                   all        108        658       0.97      0.986      0.993      0.833\n"
          ]
        },
        {
          "output_type": "stream",
          "name": "stderr",
          "text": [
            "\n"
          ]
        },
        {
          "output_type": "stream",
          "name": "stdout",
          "text": [
            "Closing dataloader mosaic\n",
            "\u001b[34m\u001b[1malbumentations: \u001b[0mBlur(p=0.01, blur_limit=(3, 7)), MedianBlur(p=0.01, blur_limit=(3, 7)), ToGray(p=0.01, num_output_channels=3, method='weighted_average'), CLAHE(p=0.01, clip_limit=(1, 4.0), tile_grid_size=(8, 8))\n",
            "\n",
            "      Epoch    GPU_mem   box_loss   cls_loss   dfl_loss  Instances       Size\n"
          ]
        },
        {
          "output_type": "stream",
          "name": "stderr",
          "text": [
            "     91/100      2.39G     0.6422     0.7933      0.783         67        640: 100%|██████████| 34/34 [00:10<00:00,  3.35it/s]\n",
            "                 Class     Images  Instances      Box(P          R      mAP50  mAP50-95): 100%|██████████| 4/4 [00:01<00:00,  2.01it/s]"
          ]
        },
        {
          "output_type": "stream",
          "name": "stdout",
          "text": [
            "                   all        108        658       0.97      0.983      0.993      0.831\n"
          ]
        },
        {
          "output_type": "stream",
          "name": "stderr",
          "text": [
            "\n"
          ]
        },
        {
          "output_type": "stream",
          "name": "stdout",
          "text": [
            "\n",
            "      Epoch    GPU_mem   box_loss   cls_loss   dfl_loss  Instances       Size\n"
          ]
        },
        {
          "output_type": "stream",
          "name": "stderr",
          "text": [
            "     92/100      2.28G     0.6301     0.7922     0.7862         60        640: 100%|██████████| 34/34 [00:09<00:00,  3.69it/s]\n",
            "                 Class     Images  Instances      Box(P          R      mAP50  mAP50-95): 100%|██████████| 4/4 [00:01<00:00,  3.29it/s]\n"
          ]
        },
        {
          "output_type": "stream",
          "name": "stdout",
          "text": [
            "                   all        108        658      0.969      0.988      0.993      0.828\n",
            "\n",
            "      Epoch    GPU_mem   box_loss   cls_loss   dfl_loss  Instances       Size\n"
          ]
        },
        {
          "output_type": "stream",
          "name": "stderr",
          "text": [
            "     93/100      2.28G     0.6323     0.7719     0.7826         74        640: 100%|██████████| 34/34 [00:11<00:00,  3.01it/s]\n",
            "                 Class     Images  Instances      Box(P          R      mAP50  mAP50-95): 100%|██████████| 4/4 [00:01<00:00,  3.50it/s]"
          ]
        },
        {
          "output_type": "stream",
          "name": "stdout",
          "text": [
            "                   all        108        658      0.972      0.983      0.993       0.83\n"
          ]
        },
        {
          "output_type": "stream",
          "name": "stderr",
          "text": [
            "\n"
          ]
        },
        {
          "output_type": "stream",
          "name": "stdout",
          "text": [
            "\n",
            "      Epoch    GPU_mem   box_loss   cls_loss   dfl_loss  Instances       Size\n"
          ]
        },
        {
          "output_type": "stream",
          "name": "stderr",
          "text": [
            "     94/100      2.28G     0.6279     0.7693     0.7857         64        640: 100%|██████████| 34/34 [00:08<00:00,  3.92it/s]\n",
            "                 Class     Images  Instances      Box(P          R      mAP50  mAP50-95): 100%|██████████| 4/4 [00:02<00:00,  1.99it/s]"
          ]
        },
        {
          "output_type": "stream",
          "name": "stdout",
          "text": [
            "                   all        108        658      0.974      0.979      0.993       0.83\n"
          ]
        },
        {
          "output_type": "stream",
          "name": "stderr",
          "text": [
            "\n"
          ]
        },
        {
          "output_type": "stream",
          "name": "stdout",
          "text": [
            "\n",
            "      Epoch    GPU_mem   box_loss   cls_loss   dfl_loss  Instances       Size\n"
          ]
        },
        {
          "output_type": "stream",
          "name": "stderr",
          "text": [
            "     95/100      2.28G     0.6313      0.748     0.7786         67        640: 100%|██████████| 34/34 [00:08<00:00,  3.78it/s]\n",
            "                 Class     Images  Instances      Box(P          R      mAP50  mAP50-95): 100%|██████████| 4/4 [00:01<00:00,  3.37it/s]\n"
          ]
        },
        {
          "output_type": "stream",
          "name": "stdout",
          "text": [
            "                   all        108        658      0.968      0.986      0.993      0.829\n",
            "\n",
            "      Epoch    GPU_mem   box_loss   cls_loss   dfl_loss  Instances       Size\n"
          ]
        },
        {
          "output_type": "stream",
          "name": "stderr",
          "text": [
            "     96/100      2.28G     0.6343     0.7649     0.7821         66        640: 100%|██████████| 34/34 [00:11<00:00,  2.98it/s]\n",
            "                 Class     Images  Instances      Box(P          R      mAP50  mAP50-95): 100%|██████████| 4/4 [00:01<00:00,  3.84it/s]"
          ]
        },
        {
          "output_type": "stream",
          "name": "stdout",
          "text": [
            "                   all        108        658      0.969      0.986      0.993      0.831\n"
          ]
        },
        {
          "output_type": "stream",
          "name": "stderr",
          "text": [
            "\n"
          ]
        },
        {
          "output_type": "stream",
          "name": "stdout",
          "text": [
            "\n",
            "      Epoch    GPU_mem   box_loss   cls_loss   dfl_loss  Instances       Size\n"
          ]
        },
        {
          "output_type": "stream",
          "name": "stderr",
          "text": [
            "     97/100      2.28G     0.6286     0.7478     0.7857         80        640: 100%|██████████| 34/34 [00:08<00:00,  3.79it/s]\n",
            "                 Class     Images  Instances      Box(P          R      mAP50  mAP50-95): 100%|██████████| 4/4 [00:02<00:00,  1.73it/s]"
          ]
        },
        {
          "output_type": "stream",
          "name": "stdout",
          "text": [
            "                   all        108        658      0.972      0.985      0.993       0.83\n"
          ]
        },
        {
          "output_type": "stream",
          "name": "stderr",
          "text": [
            "\n"
          ]
        },
        {
          "output_type": "stream",
          "name": "stdout",
          "text": [
            "\n",
            "      Epoch    GPU_mem   box_loss   cls_loss   dfl_loss  Instances       Size\n"
          ]
        },
        {
          "output_type": "stream",
          "name": "stderr",
          "text": [
            "     98/100      2.28G     0.6193     0.7469     0.7808         87        640: 100%|██████████| 34/34 [00:08<00:00,  4.17it/s]\n",
            "                 Class     Images  Instances      Box(P          R      mAP50  mAP50-95): 100%|██████████| 4/4 [00:01<00:00,  3.67it/s]"
          ]
        },
        {
          "output_type": "stream",
          "name": "stdout",
          "text": [
            "                   all        108        658      0.974      0.983      0.993      0.829\n"
          ]
        },
        {
          "output_type": "stream",
          "name": "stderr",
          "text": [
            "\n"
          ]
        },
        {
          "output_type": "stream",
          "name": "stdout",
          "text": [
            "\n",
            "      Epoch    GPU_mem   box_loss   cls_loss   dfl_loss  Instances       Size\n"
          ]
        },
        {
          "output_type": "stream",
          "name": "stderr",
          "text": [
            "     99/100      2.28G     0.6199     0.7462     0.7843         72        640: 100%|██████████| 34/34 [00:10<00:00,  3.13it/s]\n",
            "                 Class     Images  Instances      Box(P          R      mAP50  mAP50-95): 100%|██████████| 4/4 [00:01<00:00,  3.46it/s]"
          ]
        },
        {
          "output_type": "stream",
          "name": "stdout",
          "text": [
            "                   all        108        658      0.973      0.985      0.993       0.83\n"
          ]
        },
        {
          "output_type": "stream",
          "name": "stderr",
          "text": [
            "\n"
          ]
        },
        {
          "output_type": "stream",
          "name": "stdout",
          "text": [
            "\n",
            "      Epoch    GPU_mem   box_loss   cls_loss   dfl_loss  Instances       Size\n"
          ]
        },
        {
          "output_type": "stream",
          "name": "stderr",
          "text": [
            "    100/100      2.28G     0.6257     0.7631     0.7847         81        640: 100%|██████████| 34/34 [00:09<00:00,  3.47it/s]\n",
            "                 Class     Images  Instances      Box(P          R      mAP50  mAP50-95): 100%|██████████| 4/4 [00:02<00:00,  1.74it/s]"
          ]
        },
        {
          "output_type": "stream",
          "name": "stdout",
          "text": [
            "                   all        108        658      0.973      0.985      0.993      0.832\n"
          ]
        },
        {
          "output_type": "stream",
          "name": "stderr",
          "text": [
            "\n"
          ]
        },
        {
          "output_type": "stream",
          "name": "stdout",
          "text": [
            "\n",
            "100 epochs completed in 0.350 hours.\n",
            "Optimizer stripped from runs/detect/train/weights/last.pt, 6.3MB\n",
            "Optimizer stripped from runs/detect/train/weights/best.pt, 6.3MB\n",
            "\n",
            "Validating runs/detect/train/weights/best.pt...\n",
            "Ultralytics 8.3.23 🚀 Python-3.10.12 torch-2.5.0+cu121 CUDA:0 (Tesla T4, 15102MiB)\n",
            "Model summary (fused): 168 layers, 3,015,788 parameters, 0 gradients, 8.1 GFLOPs\n"
          ]
        },
        {
          "output_type": "stream",
          "name": "stderr",
          "text": [
            "                 Class     Images  Instances      Box(P          R      mAP50  mAP50-95): 100%|██████████| 4/4 [00:02<00:00,  1.50it/s]\n"
          ]
        },
        {
          "output_type": "stream",
          "name": "stdout",
          "text": [
            "                   all        108        658      0.967      0.977      0.992      0.834\n",
            "                  10_C         13         13      0.998          1      0.995      0.846\n",
            "                  10_D         18         18      0.984          1      0.995      0.853\n",
            "                  10_H         12         12      0.978          1      0.995      0.866\n",
            "                  10_S         14         14          1      0.952      0.995      0.824\n",
            "                   2_C         15         15          1       0.95      0.995       0.79\n",
            "                   2_D         12         12      0.923          1      0.995      0.847\n",
            "                   2_H         10         10      0.974          1      0.995      0.778\n",
            "                   2_S         19         19          1      0.987      0.995      0.824\n",
            "                   3_C          9          9      0.997          1      0.995      0.835\n",
            "                   3_D         10         10      0.977          1      0.995      0.815\n",
            "                   3_H         11         11      0.951      0.909      0.988      0.877\n",
            "                   3_S          9          9      0.966      0.889      0.984      0.842\n",
            "                   4_C         17         17      0.945          1      0.995      0.893\n",
            "                   4_D         15         15      0.987          1      0.995      0.848\n",
            "                   4_H          5          5      0.928          1      0.995      0.864\n",
            "                   4_S         16         16          1       0.99      0.995      0.893\n",
            "                   5_C         11         11          1       0.94      0.995      0.812\n",
            "                   5_D         11         11      0.968          1      0.995      0.829\n",
            "                   5_H         10         10      0.901      0.906      0.986      0.828\n",
            "                   5_S          8          8      0.994          1      0.995      0.809\n",
            "                   6_C         10         10      0.899      0.895      0.968       0.83\n",
            "                   6_D         12         12      0.971          1      0.995      0.808\n",
            "                   6_H         11         11          1      0.941      0.995      0.817\n",
            "                   6_S         10         10      0.978          1      0.995      0.817\n",
            "                   7_C         20         20      0.987          1      0.995      0.826\n",
            "                   7_D         11         11      0.969          1      0.995      0.815\n",
            "                   7_H         13         13      0.977          1      0.995      0.844\n",
            "                   7_S         12         12      0.993          1      0.995      0.839\n",
            "                   8_C          8          8          1      0.896      0.995      0.822\n",
            "                   8_D         18         18      0.999          1      0.995      0.785\n",
            "                   8_H          8          8      0.979          1      0.995      0.801\n",
            "                   8_S         10         10          1      0.906      0.995      0.813\n",
            "                   9_C          8          8      0.713          1      0.928      0.778\n",
            "                   9_D         12         12      0.994          1      0.995      0.899\n",
            "                   9_H         13         13          1      0.937      0.995      0.842\n",
            "                   9_S         13         13          1      0.957      0.995      0.771\n",
            "                   A_C         15         15      0.935          1      0.995      0.861\n",
            "                   A_D         24         24      0.986          1      0.995      0.847\n",
            "                   A_H         13         13      0.927      0.923       0.99       0.86\n",
            "                   A_S         14         14      0.961          1      0.995      0.857\n",
            "                   J_C          6          6      0.846          1      0.995      0.863\n",
            "                   J_D         15         15          1      0.912      0.995        0.9\n",
            "                   J_H         10         10      0.959          1      0.995      0.818\n",
            "                   J_S         15         15      0.974      0.933      0.948      0.837\n",
            "                   K_C         20         20          1      0.975      0.995      0.824\n",
            "                   K_D         12         12      0.971          1      0.995      0.835\n",
            "                   K_H         17         17       0.97          1      0.995       0.84\n",
            "                   K_S         12         12      0.944          1      0.995       0.85\n",
            "                   Q_C          9          9      0.957          1      0.995      0.804\n",
            "                   Q_D         11         11      0.958          1      0.995      0.858\n",
            "                   Q_H         14         14          1      0.998      0.995      0.823\n",
            "                   Q_S         17         17      0.986          1      0.995      0.835\n",
            "Speed: 0.4ms preprocess, 4.8ms inference, 0.0ms loss, 5.0ms postprocess per image\n",
            "Results saved to \u001b[1mruns/detect/train\u001b[0m\n"
          ]
        }
      ]
    },
    {
      "cell_type": "markdown",
      "source": [
        "SAVE MODEL"
      ],
      "metadata": {
        "id": "CAC0rjivMP3k"
      }
    },
    {
      "cell_type": "code",
      "source": [
        "from google.colab import files\n",
        "import os\n",
        "\n",
        "dir_to_zip = '/content/runs' #@param {type: \"string\"}\n",
        "output_filename = 'MidtermExamYolo_2.zip' #@param {type: \"string\"}\n",
        "delete_dir_after_download = \"No\"  #@param ['Yefcs', 'No']\n",
        "\n",
        "os.system( \"zip -r {} {}\".format( output_filename , dir_to_zip ) )\n",
        "\n",
        "if delete_dir_after_download == \"Yes\":\n",
        "    os.system( \"rm -r {}\".format( dir_to_zip ) )\n",
        "\n",
        "files.download( output_filename )"
      ],
      "metadata": {
        "colab": {
          "base_uri": "https://localhost:8080/",
          "height": 17
        },
        "id": "yeZaCxBb-hO2",
        "outputId": "752012c1-b154-47cd-e768-005405ff758d"
      },
      "execution_count": null,
      "outputs": [
        {
          "output_type": "display_data",
          "data": {
            "text/plain": [
              "<IPython.core.display.Javascript object>"
            ],
            "application/javascript": [
              "\n",
              "    async function download(id, filename, size) {\n",
              "      if (!google.colab.kernel.accessAllowed) {\n",
              "        return;\n",
              "      }\n",
              "      const div = document.createElement('div');\n",
              "      const label = document.createElement('label');\n",
              "      label.textContent = `Downloading \"${filename}\": `;\n",
              "      div.appendChild(label);\n",
              "      const progress = document.createElement('progress');\n",
              "      progress.max = size;\n",
              "      div.appendChild(progress);\n",
              "      document.body.appendChild(div);\n",
              "\n",
              "      const buffers = [];\n",
              "      let downloaded = 0;\n",
              "\n",
              "      const channel = await google.colab.kernel.comms.open(id);\n",
              "      // Send a message to notify the kernel that we're ready.\n",
              "      channel.send({})\n",
              "\n",
              "      for await (const message of channel.messages) {\n",
              "        // Send a message to notify the kernel that we're ready.\n",
              "        channel.send({})\n",
              "        if (message.buffers) {\n",
              "          for (const buffer of message.buffers) {\n",
              "            buffers.push(buffer);\n",
              "            downloaded += buffer.byteLength;\n",
              "            progress.value = downloaded;\n",
              "          }\n",
              "        }\n",
              "      }\n",
              "      const blob = new Blob(buffers, {type: 'application/binary'});\n",
              "      const a = document.createElement('a');\n",
              "      a.href = window.URL.createObjectURL(blob);\n",
              "      a.download = filename;\n",
              "      div.appendChild(a);\n",
              "      a.click();\n",
              "      div.remove();\n",
              "    }\n",
              "  "
            ]
          },
          "metadata": {}
        },
        {
          "output_type": "display_data",
          "data": {
            "text/plain": [
              "<IPython.core.display.Javascript object>"
            ],
            "application/javascript": [
              "download(\"download_30d94f8f-9755-404d-9300-ba21bdd714b1\", \"MidtermExamYolo_2.zip\", 18932353)"
            ]
          },
          "metadata": {}
        }
      ]
    },
    {
      "cell_type": "markdown",
      "source": [
        "# EVALUATE MODEL"
      ],
      "metadata": {
        "id": "E5OIjhrqMPek"
      }
    },
    {
      "cell_type": "code",
      "source": [
        "from ultralytics import YOLO\n",
        "\n",
        "# Load your model\n",
        "trained_model = YOLO('/content/runs/detect/train/weights/best.pt')  # Replace with your trained model path\n",
        "\n",
        "# Evaluate the model on the validation dataset\n",
        "metrics = trained_model.val()  # This outputs precision, recall, mAP@50, etc.\n",
        "\n",
        "print(metrics)"
      ],
      "metadata": {
        "colab": {
          "base_uri": "https://localhost:8080/"
        },
        "id": "CAk40RpXAMtE",
        "outputId": "82f9a8b6-e931-444a-a30d-825b567f8a27"
      },
      "execution_count": null,
      "outputs": [
        {
          "output_type": "stream",
          "name": "stdout",
          "text": [
            "Ultralytics 8.3.23 🚀 Python-3.10.12 torch-2.5.0+cu121 CUDA:0 (Tesla T4, 15102MiB)\n",
            "Model summary (fused): 168 layers, 3,015,788 parameters, 0 gradients, 8.1 GFLOPs\n"
          ]
        },
        {
          "output_type": "stream",
          "name": "stderr",
          "text": [
            "\u001b[34m\u001b[1mval: \u001b[0mScanning /content/valid/labels.cache... 108 images, 0 backgrounds, 0 corrupt: 100%|██████████| 108/108 [00:00<?, ?it/s]\n",
            "                 Class     Images  Instances      Box(P          R      mAP50  mAP50-95): 100%|██████████| 7/7 [00:03<00:00,  2.21it/s]\n"
          ]
        },
        {
          "output_type": "stream",
          "name": "stdout",
          "text": [
            "                   all        108        658      0.967      0.977      0.992      0.851\n",
            "                  10_C         13         13      0.998          1      0.995      0.844\n",
            "                  10_D         18         18      0.985          1      0.995      0.849\n",
            "                  10_H         12         12      0.978          1      0.995      0.889\n",
            "                  10_S         14         14          1      0.952      0.995      0.834\n",
            "                   2_C         15         15          1       0.95      0.995      0.824\n",
            "                   2_D         12         12      0.922          1      0.995      0.842\n",
            "                   2_H         10         10      0.975          1      0.995      0.802\n",
            "                   2_S         19         19          1      0.988      0.995       0.86\n",
            "                   3_C          9          9      0.996          1      0.995      0.816\n",
            "                   3_D         10         10      0.977          1      0.995      0.857\n",
            "                   3_H         11         11      0.952      0.909      0.988      0.868\n",
            "                   3_S          9          9      0.965      0.889      0.984       0.84\n",
            "                   4_C         17         17      0.944          1      0.995      0.891\n",
            "                   4_D         15         15      0.987          1      0.995      0.859\n",
            "                   4_H          5          5      0.929          1      0.995      0.929\n",
            "                   4_S         16         16          1       0.99      0.995       0.89\n",
            "                   5_C         11         11          1       0.94      0.995       0.82\n",
            "                   5_D         11         11      0.968          1      0.995      0.875\n",
            "                   5_H         10         10      0.901      0.906      0.986      0.829\n",
            "                   5_S          8          8      0.994          1      0.995      0.842\n",
            "                   6_C         10         10      0.899      0.895      0.968       0.84\n",
            "                   6_D         12         12      0.971          1      0.995      0.859\n",
            "                   6_H         11         11          1      0.941      0.995      0.823\n",
            "                   6_S         10         10      0.978          1      0.995      0.841\n",
            "                   7_C         20         20      0.987          1      0.995      0.857\n",
            "                   7_D         11         11      0.969          1      0.995      0.871\n",
            "                   7_H         13         13      0.977          1      0.995      0.853\n",
            "                   7_S         12         12      0.993          1      0.995      0.853\n",
            "                   8_C          8          8          1      0.896      0.995      0.844\n",
            "                   8_D         18         18      0.998          1      0.995      0.803\n",
            "                   8_H          8          8      0.979          1      0.995      0.779\n",
            "                   8_S         10         10          1      0.902      0.995       0.84\n",
            "                   9_C          8          8      0.713          1      0.928      0.799\n",
            "                   9_D         12         12      0.994          1      0.995      0.918\n",
            "                   9_H         13         13          1      0.937      0.995       0.84\n",
            "                   9_S         13         13          1      0.957      0.995      0.818\n",
            "                   A_C         15         15      0.935          1      0.995      0.908\n",
            "                   A_D         24         24      0.986          1      0.995      0.873\n",
            "                   A_H         13         13      0.931      0.923       0.99      0.863\n",
            "                   A_S         14         14      0.961          1      0.995      0.872\n",
            "                   J_C          6          6      0.847          1      0.995      0.869\n",
            "                   J_D         15         15          1      0.913      0.995      0.898\n",
            "                   J_H         10         10      0.959          1      0.995      0.861\n",
            "                   J_S         15         15      0.975      0.933      0.948      0.854\n",
            "                   K_C         20         20          1      0.975      0.995      0.847\n",
            "                   K_D         12         12      0.971          1      0.995      0.848\n",
            "                   K_H         17         17      0.971          1      0.995      0.816\n",
            "                   K_S         12         12      0.944          1      0.995      0.838\n",
            "                   Q_C          9          9      0.957          1      0.995      0.824\n",
            "                   Q_D         11         11      0.958          1      0.995      0.872\n",
            "                   Q_H         14         14          1      0.998      0.995      0.849\n",
            "                   Q_S         17         17      0.986          1      0.995      0.839\n",
            "Speed: 0.4ms preprocess, 6.5ms inference, 0.0ms loss, 6.5ms postprocess per image\n",
            "Results saved to \u001b[1mruns/detect/val2\u001b[0m\n",
            "ultralytics.utils.metrics.DetMetrics object with attributes:\n",
            "\n",
            "ap_class_index: array([ 0,  1,  2,  3,  4,  5,  6,  7,  8,  9, 10, 11, 12, 13, 14, 15, 16, 17, 18, 19, 20, 21, 22, 23, 24, 25, 26, 27, 28, 29, 30, 31, 32, 33, 34, 35, 36, 37, 38, 39, 40, 41, 42, 43, 44, 45, 46, 47, 48, 49, 50, 51])\n",
            "box: ultralytics.utils.metrics.Metric object\n",
            "confusion_matrix: <ultralytics.utils.metrics.ConfusionMatrix object at 0x7e56a511c8b0>\n",
            "curves: ['Precision-Recall(B)', 'F1-Confidence(B)', 'Precision-Confidence(B)', 'Recall-Confidence(B)']\n",
            "curves_results: [[array([          0,    0.001001,    0.002002,    0.003003,    0.004004,    0.005005,    0.006006,    0.007007,    0.008008,    0.009009,     0.01001,    0.011011,    0.012012,    0.013013,    0.014014,    0.015015,    0.016016,    0.017017,    0.018018,    0.019019,     0.02002,    0.021021,    0.022022,    0.023023,\n",
            "          0.024024,    0.025025,    0.026026,    0.027027,    0.028028,    0.029029,     0.03003,    0.031031,    0.032032,    0.033033,    0.034034,    0.035035,    0.036036,    0.037037,    0.038038,    0.039039,     0.04004,    0.041041,    0.042042,    0.043043,    0.044044,    0.045045,    0.046046,    0.047047,\n",
            "          0.048048,    0.049049,     0.05005,    0.051051,    0.052052,    0.053053,    0.054054,    0.055055,    0.056056,    0.057057,    0.058058,    0.059059,     0.06006,    0.061061,    0.062062,    0.063063,    0.064064,    0.065065,    0.066066,    0.067067,    0.068068,    0.069069,     0.07007,    0.071071,\n",
            "          0.072072,    0.073073,    0.074074,    0.075075,    0.076076,    0.077077,    0.078078,    0.079079,     0.08008,    0.081081,    0.082082,    0.083083,    0.084084,    0.085085,    0.086086,    0.087087,    0.088088,    0.089089,     0.09009,    0.091091,    0.092092,    0.093093,    0.094094,    0.095095,\n",
            "          0.096096,    0.097097,    0.098098,    0.099099,      0.1001,      0.1011,      0.1021,      0.1031,      0.1041,     0.10511,     0.10611,     0.10711,     0.10811,     0.10911,     0.11011,     0.11111,     0.11211,     0.11311,     0.11411,     0.11512,     0.11612,     0.11712,     0.11812,     0.11912,\n",
            "           0.12012,     0.12112,     0.12212,     0.12312,     0.12412,     0.12513,     0.12613,     0.12713,     0.12813,     0.12913,     0.13013,     0.13113,     0.13213,     0.13313,     0.13413,     0.13514,     0.13614,     0.13714,     0.13814,     0.13914,     0.14014,     0.14114,     0.14214,     0.14314,\n",
            "           0.14414,     0.14515,     0.14615,     0.14715,     0.14815,     0.14915,     0.15015,     0.15115,     0.15215,     0.15315,     0.15415,     0.15516,     0.15616,     0.15716,     0.15816,     0.15916,     0.16016,     0.16116,     0.16216,     0.16316,     0.16416,     0.16517,     0.16617,     0.16717,\n",
            "           0.16817,     0.16917,     0.17017,     0.17117,     0.17217,     0.17317,     0.17417,     0.17518,     0.17618,     0.17718,     0.17818,     0.17918,     0.18018,     0.18118,     0.18218,     0.18318,     0.18418,     0.18519,     0.18619,     0.18719,     0.18819,     0.18919,     0.19019,     0.19119,\n",
            "           0.19219,     0.19319,     0.19419,      0.1952,      0.1962,      0.1972,      0.1982,      0.1992,      0.2002,      0.2012,      0.2022,      0.2032,      0.2042,     0.20521,     0.20621,     0.20721,     0.20821,     0.20921,     0.21021,     0.21121,     0.21221,     0.21321,     0.21421,     0.21522,\n",
            "           0.21622,     0.21722,     0.21822,     0.21922,     0.22022,     0.22122,     0.22222,     0.22322,     0.22422,     0.22523,     0.22623,     0.22723,     0.22823,     0.22923,     0.23023,     0.23123,     0.23223,     0.23323,     0.23423,     0.23524,     0.23624,     0.23724,     0.23824,     0.23924,\n",
            "           0.24024,     0.24124,     0.24224,     0.24324,     0.24424,     0.24525,     0.24625,     0.24725,     0.24825,     0.24925,     0.25025,     0.25125,     0.25225,     0.25325,     0.25425,     0.25526,     0.25626,     0.25726,     0.25826,     0.25926,     0.26026,     0.26126,     0.26226,     0.26326,\n",
            "           0.26426,     0.26527,     0.26627,     0.26727,     0.26827,     0.26927,     0.27027,     0.27127,     0.27227,     0.27327,     0.27427,     0.27528,     0.27628,     0.27728,     0.27828,     0.27928,     0.28028,     0.28128,     0.28228,     0.28328,     0.28428,     0.28529,     0.28629,     0.28729,\n",
            "           0.28829,     0.28929,     0.29029,     0.29129,     0.29229,     0.29329,     0.29429,      0.2953,      0.2963,      0.2973,      0.2983,      0.2993,      0.3003,      0.3013,      0.3023,      0.3033,      0.3043,     0.30531,     0.30631,     0.30731,     0.30831,     0.30931,     0.31031,     0.31131,\n",
            "           0.31231,     0.31331,     0.31431,     0.31532,     0.31632,     0.31732,     0.31832,     0.31932,     0.32032,     0.32132,     0.32232,     0.32332,     0.32432,     0.32533,     0.32633,     0.32733,     0.32833,     0.32933,     0.33033,     0.33133,     0.33233,     0.33333,     0.33433,     0.33534,\n",
            "           0.33634,     0.33734,     0.33834,     0.33934,     0.34034,     0.34134,     0.34234,     0.34334,     0.34434,     0.34535,     0.34635,     0.34735,     0.34835,     0.34935,     0.35035,     0.35135,     0.35235,     0.35335,     0.35435,     0.35536,     0.35636,     0.35736,     0.35836,     0.35936,\n",
            "           0.36036,     0.36136,     0.36236,     0.36336,     0.36436,     0.36537,     0.36637,     0.36737,     0.36837,     0.36937,     0.37037,     0.37137,     0.37237,     0.37337,     0.37437,     0.37538,     0.37638,     0.37738,     0.37838,     0.37938,     0.38038,     0.38138,     0.38238,     0.38338,\n",
            "           0.38438,     0.38539,     0.38639,     0.38739,     0.38839,     0.38939,     0.39039,     0.39139,     0.39239,     0.39339,     0.39439,      0.3954,      0.3964,      0.3974,      0.3984,      0.3994,      0.4004,      0.4014,      0.4024,      0.4034,      0.4044,     0.40541,     0.40641,     0.40741,\n",
            "           0.40841,     0.40941,     0.41041,     0.41141,     0.41241,     0.41341,     0.41441,     0.41542,     0.41642,     0.41742,     0.41842,     0.41942,     0.42042,     0.42142,     0.42242,     0.42342,     0.42442,     0.42543,     0.42643,     0.42743,     0.42843,     0.42943,     0.43043,     0.43143,\n",
            "           0.43243,     0.43343,     0.43443,     0.43544,     0.43644,     0.43744,     0.43844,     0.43944,     0.44044,     0.44144,     0.44244,     0.44344,     0.44444,     0.44545,     0.44645,     0.44745,     0.44845,     0.44945,     0.45045,     0.45145,     0.45245,     0.45345,     0.45445,     0.45546,\n",
            "           0.45646,     0.45746,     0.45846,     0.45946,     0.46046,     0.46146,     0.46246,     0.46346,     0.46446,     0.46547,     0.46647,     0.46747,     0.46847,     0.46947,     0.47047,     0.47147,     0.47247,     0.47347,     0.47447,     0.47548,     0.47648,     0.47748,     0.47848,     0.47948,\n",
            "           0.48048,     0.48148,     0.48248,     0.48348,     0.48448,     0.48549,     0.48649,     0.48749,     0.48849,     0.48949,     0.49049,     0.49149,     0.49249,     0.49349,     0.49449,      0.4955,      0.4965,      0.4975,      0.4985,      0.4995,      0.5005,      0.5015,      0.5025,      0.5035,\n",
            "            0.5045,     0.50551,     0.50651,     0.50751,     0.50851,     0.50951,     0.51051,     0.51151,     0.51251,     0.51351,     0.51451,     0.51552,     0.51652,     0.51752,     0.51852,     0.51952,     0.52052,     0.52152,     0.52252,     0.52352,     0.52452,     0.52553,     0.52653,     0.52753,\n",
            "           0.52853,     0.52953,     0.53053,     0.53153,     0.53253,     0.53353,     0.53453,     0.53554,     0.53654,     0.53754,     0.53854,     0.53954,     0.54054,     0.54154,     0.54254,     0.54354,     0.54454,     0.54555,     0.54655,     0.54755,     0.54855,     0.54955,     0.55055,     0.55155,\n",
            "           0.55255,     0.55355,     0.55455,     0.55556,     0.55656,     0.55756,     0.55856,     0.55956,     0.56056,     0.56156,     0.56256,     0.56356,     0.56456,     0.56557,     0.56657,     0.56757,     0.56857,     0.56957,     0.57057,     0.57157,     0.57257,     0.57357,     0.57457,     0.57558,\n",
            "           0.57658,     0.57758,     0.57858,     0.57958,     0.58058,     0.58158,     0.58258,     0.58358,     0.58458,     0.58559,     0.58659,     0.58759,     0.58859,     0.58959,     0.59059,     0.59159,     0.59259,     0.59359,     0.59459,      0.5956,      0.5966,      0.5976,      0.5986,      0.5996,\n",
            "            0.6006,      0.6016,      0.6026,      0.6036,      0.6046,     0.60561,     0.60661,     0.60761,     0.60861,     0.60961,     0.61061,     0.61161,     0.61261,     0.61361,     0.61461,     0.61562,     0.61662,     0.61762,     0.61862,     0.61962,     0.62062,     0.62162,     0.62262,     0.62362,\n",
            "           0.62462,     0.62563,     0.62663,     0.62763,     0.62863,     0.62963,     0.63063,     0.63163,     0.63263,     0.63363,     0.63463,     0.63564,     0.63664,     0.63764,     0.63864,     0.63964,     0.64064,     0.64164,     0.64264,     0.64364,     0.64464,     0.64565,     0.64665,     0.64765,\n",
            "           0.64865,     0.64965,     0.65065,     0.65165,     0.65265,     0.65365,     0.65465,     0.65566,     0.65666,     0.65766,     0.65866,     0.65966,     0.66066,     0.66166,     0.66266,     0.66366,     0.66466,     0.66567,     0.66667,     0.66767,     0.66867,     0.66967,     0.67067,     0.67167,\n",
            "           0.67267,     0.67367,     0.67467,     0.67568,     0.67668,     0.67768,     0.67868,     0.67968,     0.68068,     0.68168,     0.68268,     0.68368,     0.68468,     0.68569,     0.68669,     0.68769,     0.68869,     0.68969,     0.69069,     0.69169,     0.69269,     0.69369,     0.69469,      0.6957,\n",
            "            0.6967,      0.6977,      0.6987,      0.6997,      0.7007,      0.7017,      0.7027,      0.7037,      0.7047,     0.70571,     0.70671,     0.70771,     0.70871,     0.70971,     0.71071,     0.71171,     0.71271,     0.71371,     0.71471,     0.71572,     0.71672,     0.71772,     0.71872,     0.71972,\n",
            "           0.72072,     0.72172,     0.72272,     0.72372,     0.72472,     0.72573,     0.72673,     0.72773,     0.72873,     0.72973,     0.73073,     0.73173,     0.73273,     0.73373,     0.73473,     0.73574,     0.73674,     0.73774,     0.73874,     0.73974,     0.74074,     0.74174,     0.74274,     0.74374,\n",
            "           0.74474,     0.74575,     0.74675,     0.74775,     0.74875,     0.74975,     0.75075,     0.75175,     0.75275,     0.75375,     0.75475,     0.75576,     0.75676,     0.75776,     0.75876,     0.75976,     0.76076,     0.76176,     0.76276,     0.76376,     0.76476,     0.76577,     0.76677,     0.76777,\n",
            "           0.76877,     0.76977,     0.77077,     0.77177,     0.77277,     0.77377,     0.77477,     0.77578,     0.77678,     0.77778,     0.77878,     0.77978,     0.78078,     0.78178,     0.78278,     0.78378,     0.78478,     0.78579,     0.78679,     0.78779,     0.78879,     0.78979,     0.79079,     0.79179,\n",
            "           0.79279,     0.79379,     0.79479,      0.7958,      0.7968,      0.7978,      0.7988,      0.7998,      0.8008,      0.8018,      0.8028,      0.8038,      0.8048,     0.80581,     0.80681,     0.80781,     0.80881,     0.80981,     0.81081,     0.81181,     0.81281,     0.81381,     0.81481,     0.81582,\n",
            "           0.81682,     0.81782,     0.81882,     0.81982,     0.82082,     0.82182,     0.82282,     0.82382,     0.82482,     0.82583,     0.82683,     0.82783,     0.82883,     0.82983,     0.83083,     0.83183,     0.83283,     0.83383,     0.83483,     0.83584,     0.83684,     0.83784,     0.83884,     0.83984,\n",
            "           0.84084,     0.84184,     0.84284,     0.84384,     0.84484,     0.84585,     0.84685,     0.84785,     0.84885,     0.84985,     0.85085,     0.85185,     0.85285,     0.85385,     0.85485,     0.85586,     0.85686,     0.85786,     0.85886,     0.85986,     0.86086,     0.86186,     0.86286,     0.86386,\n",
            "           0.86486,     0.86587,     0.86687,     0.86787,     0.86887,     0.86987,     0.87087,     0.87187,     0.87287,     0.87387,     0.87487,     0.87588,     0.87688,     0.87788,     0.87888,     0.87988,     0.88088,     0.88188,     0.88288,     0.88388,     0.88488,     0.88589,     0.88689,     0.88789,\n",
            "           0.88889,     0.88989,     0.89089,     0.89189,     0.89289,     0.89389,     0.89489,      0.8959,      0.8969,      0.8979,      0.8989,      0.8999,      0.9009,      0.9019,      0.9029,      0.9039,      0.9049,     0.90591,     0.90691,     0.90791,     0.90891,     0.90991,     0.91091,     0.91191,\n",
            "           0.91291,     0.91391,     0.91491,     0.91592,     0.91692,     0.91792,     0.91892,     0.91992,     0.92092,     0.92192,     0.92292,     0.92392,     0.92492,     0.92593,     0.92693,     0.92793,     0.92893,     0.92993,     0.93093,     0.93193,     0.93293,     0.93393,     0.93493,     0.93594,\n",
            "           0.93694,     0.93794,     0.93894,     0.93994,     0.94094,     0.94194,     0.94294,     0.94394,     0.94494,     0.94595,     0.94695,     0.94795,     0.94895,     0.94995,     0.95095,     0.95195,     0.95295,     0.95395,     0.95495,     0.95596,     0.95696,     0.95796,     0.95896,     0.95996,\n",
            "           0.96096,     0.96196,     0.96296,     0.96396,     0.96496,     0.96597,     0.96697,     0.96797,     0.96897,     0.96997,     0.97097,     0.97197,     0.97297,     0.97397,     0.97497,     0.97598,     0.97698,     0.97798,     0.97898,     0.97998,     0.98098,     0.98198,     0.98298,     0.98398,\n",
            "           0.98498,     0.98599,     0.98699,     0.98799,     0.98899,     0.98999,     0.99099,     0.99199,     0.99299,     0.99399,     0.99499,       0.996,       0.997,       0.998,       0.999,           1]), array([[          1,           1,           1, ...,           1,           1,           0],\n",
            "       [          1,           1,           1, ...,           1,           1,           0],\n",
            "       [          1,           1,           1, ...,           1,           1,           0],\n",
            "       ...,\n",
            "       [          1,           1,           1, ...,           1,           1,           0],\n",
            "       [          1,           1,           1, ...,           1,           1,           0],\n",
            "       [          1,           1,           1, ...,           1,           1,           0]]), 'Recall', 'Precision'], [array([          0,    0.001001,    0.002002,    0.003003,    0.004004,    0.005005,    0.006006,    0.007007,    0.008008,    0.009009,     0.01001,    0.011011,    0.012012,    0.013013,    0.014014,    0.015015,    0.016016,    0.017017,    0.018018,    0.019019,     0.02002,    0.021021,    0.022022,    0.023023,\n",
            "          0.024024,    0.025025,    0.026026,    0.027027,    0.028028,    0.029029,     0.03003,    0.031031,    0.032032,    0.033033,    0.034034,    0.035035,    0.036036,    0.037037,    0.038038,    0.039039,     0.04004,    0.041041,    0.042042,    0.043043,    0.044044,    0.045045,    0.046046,    0.047047,\n",
            "          0.048048,    0.049049,     0.05005,    0.051051,    0.052052,    0.053053,    0.054054,    0.055055,    0.056056,    0.057057,    0.058058,    0.059059,     0.06006,    0.061061,    0.062062,    0.063063,    0.064064,    0.065065,    0.066066,    0.067067,    0.068068,    0.069069,     0.07007,    0.071071,\n",
            "          0.072072,    0.073073,    0.074074,    0.075075,    0.076076,    0.077077,    0.078078,    0.079079,     0.08008,    0.081081,    0.082082,    0.083083,    0.084084,    0.085085,    0.086086,    0.087087,    0.088088,    0.089089,     0.09009,    0.091091,    0.092092,    0.093093,    0.094094,    0.095095,\n",
            "          0.096096,    0.097097,    0.098098,    0.099099,      0.1001,      0.1011,      0.1021,      0.1031,      0.1041,     0.10511,     0.10611,     0.10711,     0.10811,     0.10911,     0.11011,     0.11111,     0.11211,     0.11311,     0.11411,     0.11512,     0.11612,     0.11712,     0.11812,     0.11912,\n",
            "           0.12012,     0.12112,     0.12212,     0.12312,     0.12412,     0.12513,     0.12613,     0.12713,     0.12813,     0.12913,     0.13013,     0.13113,     0.13213,     0.13313,     0.13413,     0.13514,     0.13614,     0.13714,     0.13814,     0.13914,     0.14014,     0.14114,     0.14214,     0.14314,\n",
            "           0.14414,     0.14515,     0.14615,     0.14715,     0.14815,     0.14915,     0.15015,     0.15115,     0.15215,     0.15315,     0.15415,     0.15516,     0.15616,     0.15716,     0.15816,     0.15916,     0.16016,     0.16116,     0.16216,     0.16316,     0.16416,     0.16517,     0.16617,     0.16717,\n",
            "           0.16817,     0.16917,     0.17017,     0.17117,     0.17217,     0.17317,     0.17417,     0.17518,     0.17618,     0.17718,     0.17818,     0.17918,     0.18018,     0.18118,     0.18218,     0.18318,     0.18418,     0.18519,     0.18619,     0.18719,     0.18819,     0.18919,     0.19019,     0.19119,\n",
            "           0.19219,     0.19319,     0.19419,      0.1952,      0.1962,      0.1972,      0.1982,      0.1992,      0.2002,      0.2012,      0.2022,      0.2032,      0.2042,     0.20521,     0.20621,     0.20721,     0.20821,     0.20921,     0.21021,     0.21121,     0.21221,     0.21321,     0.21421,     0.21522,\n",
            "           0.21622,     0.21722,     0.21822,     0.21922,     0.22022,     0.22122,     0.22222,     0.22322,     0.22422,     0.22523,     0.22623,     0.22723,     0.22823,     0.22923,     0.23023,     0.23123,     0.23223,     0.23323,     0.23423,     0.23524,     0.23624,     0.23724,     0.23824,     0.23924,\n",
            "           0.24024,     0.24124,     0.24224,     0.24324,     0.24424,     0.24525,     0.24625,     0.24725,     0.24825,     0.24925,     0.25025,     0.25125,     0.25225,     0.25325,     0.25425,     0.25526,     0.25626,     0.25726,     0.25826,     0.25926,     0.26026,     0.26126,     0.26226,     0.26326,\n",
            "           0.26426,     0.26527,     0.26627,     0.26727,     0.26827,     0.26927,     0.27027,     0.27127,     0.27227,     0.27327,     0.27427,     0.27528,     0.27628,     0.27728,     0.27828,     0.27928,     0.28028,     0.28128,     0.28228,     0.28328,     0.28428,     0.28529,     0.28629,     0.28729,\n",
            "           0.28829,     0.28929,     0.29029,     0.29129,     0.29229,     0.29329,     0.29429,      0.2953,      0.2963,      0.2973,      0.2983,      0.2993,      0.3003,      0.3013,      0.3023,      0.3033,      0.3043,     0.30531,     0.30631,     0.30731,     0.30831,     0.30931,     0.31031,     0.31131,\n",
            "           0.31231,     0.31331,     0.31431,     0.31532,     0.31632,     0.31732,     0.31832,     0.31932,     0.32032,     0.32132,     0.32232,     0.32332,     0.32432,     0.32533,     0.32633,     0.32733,     0.32833,     0.32933,     0.33033,     0.33133,     0.33233,     0.33333,     0.33433,     0.33534,\n",
            "           0.33634,     0.33734,     0.33834,     0.33934,     0.34034,     0.34134,     0.34234,     0.34334,     0.34434,     0.34535,     0.34635,     0.34735,     0.34835,     0.34935,     0.35035,     0.35135,     0.35235,     0.35335,     0.35435,     0.35536,     0.35636,     0.35736,     0.35836,     0.35936,\n",
            "           0.36036,     0.36136,     0.36236,     0.36336,     0.36436,     0.36537,     0.36637,     0.36737,     0.36837,     0.36937,     0.37037,     0.37137,     0.37237,     0.37337,     0.37437,     0.37538,     0.37638,     0.37738,     0.37838,     0.37938,     0.38038,     0.38138,     0.38238,     0.38338,\n",
            "           0.38438,     0.38539,     0.38639,     0.38739,     0.38839,     0.38939,     0.39039,     0.39139,     0.39239,     0.39339,     0.39439,      0.3954,      0.3964,      0.3974,      0.3984,      0.3994,      0.4004,      0.4014,      0.4024,      0.4034,      0.4044,     0.40541,     0.40641,     0.40741,\n",
            "           0.40841,     0.40941,     0.41041,     0.41141,     0.41241,     0.41341,     0.41441,     0.41542,     0.41642,     0.41742,     0.41842,     0.41942,     0.42042,     0.42142,     0.42242,     0.42342,     0.42442,     0.42543,     0.42643,     0.42743,     0.42843,     0.42943,     0.43043,     0.43143,\n",
            "           0.43243,     0.43343,     0.43443,     0.43544,     0.43644,     0.43744,     0.43844,     0.43944,     0.44044,     0.44144,     0.44244,     0.44344,     0.44444,     0.44545,     0.44645,     0.44745,     0.44845,     0.44945,     0.45045,     0.45145,     0.45245,     0.45345,     0.45445,     0.45546,\n",
            "           0.45646,     0.45746,     0.45846,     0.45946,     0.46046,     0.46146,     0.46246,     0.46346,     0.46446,     0.46547,     0.46647,     0.46747,     0.46847,     0.46947,     0.47047,     0.47147,     0.47247,     0.47347,     0.47447,     0.47548,     0.47648,     0.47748,     0.47848,     0.47948,\n",
            "           0.48048,     0.48148,     0.48248,     0.48348,     0.48448,     0.48549,     0.48649,     0.48749,     0.48849,     0.48949,     0.49049,     0.49149,     0.49249,     0.49349,     0.49449,      0.4955,      0.4965,      0.4975,      0.4985,      0.4995,      0.5005,      0.5015,      0.5025,      0.5035,\n",
            "            0.5045,     0.50551,     0.50651,     0.50751,     0.50851,     0.50951,     0.51051,     0.51151,     0.51251,     0.51351,     0.51451,     0.51552,     0.51652,     0.51752,     0.51852,     0.51952,     0.52052,     0.52152,     0.52252,     0.52352,     0.52452,     0.52553,     0.52653,     0.52753,\n",
            "           0.52853,     0.52953,     0.53053,     0.53153,     0.53253,     0.53353,     0.53453,     0.53554,     0.53654,     0.53754,     0.53854,     0.53954,     0.54054,     0.54154,     0.54254,     0.54354,     0.54454,     0.54555,     0.54655,     0.54755,     0.54855,     0.54955,     0.55055,     0.55155,\n",
            "           0.55255,     0.55355,     0.55455,     0.55556,     0.55656,     0.55756,     0.55856,     0.55956,     0.56056,     0.56156,     0.56256,     0.56356,     0.56456,     0.56557,     0.56657,     0.56757,     0.56857,     0.56957,     0.57057,     0.57157,     0.57257,     0.57357,     0.57457,     0.57558,\n",
            "           0.57658,     0.57758,     0.57858,     0.57958,     0.58058,     0.58158,     0.58258,     0.58358,     0.58458,     0.58559,     0.58659,     0.58759,     0.58859,     0.58959,     0.59059,     0.59159,     0.59259,     0.59359,     0.59459,      0.5956,      0.5966,      0.5976,      0.5986,      0.5996,\n",
            "            0.6006,      0.6016,      0.6026,      0.6036,      0.6046,     0.60561,     0.60661,     0.60761,     0.60861,     0.60961,     0.61061,     0.61161,     0.61261,     0.61361,     0.61461,     0.61562,     0.61662,     0.61762,     0.61862,     0.61962,     0.62062,     0.62162,     0.62262,     0.62362,\n",
            "           0.62462,     0.62563,     0.62663,     0.62763,     0.62863,     0.62963,     0.63063,     0.63163,     0.63263,     0.63363,     0.63463,     0.63564,     0.63664,     0.63764,     0.63864,     0.63964,     0.64064,     0.64164,     0.64264,     0.64364,     0.64464,     0.64565,     0.64665,     0.64765,\n",
            "           0.64865,     0.64965,     0.65065,     0.65165,     0.65265,     0.65365,     0.65465,     0.65566,     0.65666,     0.65766,     0.65866,     0.65966,     0.66066,     0.66166,     0.66266,     0.66366,     0.66466,     0.66567,     0.66667,     0.66767,     0.66867,     0.66967,     0.67067,     0.67167,\n",
            "           0.67267,     0.67367,     0.67467,     0.67568,     0.67668,     0.67768,     0.67868,     0.67968,     0.68068,     0.68168,     0.68268,     0.68368,     0.68468,     0.68569,     0.68669,     0.68769,     0.68869,     0.68969,     0.69069,     0.69169,     0.69269,     0.69369,     0.69469,      0.6957,\n",
            "            0.6967,      0.6977,      0.6987,      0.6997,      0.7007,      0.7017,      0.7027,      0.7037,      0.7047,     0.70571,     0.70671,     0.70771,     0.70871,     0.70971,     0.71071,     0.71171,     0.71271,     0.71371,     0.71471,     0.71572,     0.71672,     0.71772,     0.71872,     0.71972,\n",
            "           0.72072,     0.72172,     0.72272,     0.72372,     0.72472,     0.72573,     0.72673,     0.72773,     0.72873,     0.72973,     0.73073,     0.73173,     0.73273,     0.73373,     0.73473,     0.73574,     0.73674,     0.73774,     0.73874,     0.73974,     0.74074,     0.74174,     0.74274,     0.74374,\n",
            "           0.74474,     0.74575,     0.74675,     0.74775,     0.74875,     0.74975,     0.75075,     0.75175,     0.75275,     0.75375,     0.75475,     0.75576,     0.75676,     0.75776,     0.75876,     0.75976,     0.76076,     0.76176,     0.76276,     0.76376,     0.76476,     0.76577,     0.76677,     0.76777,\n",
            "           0.76877,     0.76977,     0.77077,     0.77177,     0.77277,     0.77377,     0.77477,     0.77578,     0.77678,     0.77778,     0.77878,     0.77978,     0.78078,     0.78178,     0.78278,     0.78378,     0.78478,     0.78579,     0.78679,     0.78779,     0.78879,     0.78979,     0.79079,     0.79179,\n",
            "           0.79279,     0.79379,     0.79479,      0.7958,      0.7968,      0.7978,      0.7988,      0.7998,      0.8008,      0.8018,      0.8028,      0.8038,      0.8048,     0.80581,     0.80681,     0.80781,     0.80881,     0.80981,     0.81081,     0.81181,     0.81281,     0.81381,     0.81481,     0.81582,\n",
            "           0.81682,     0.81782,     0.81882,     0.81982,     0.82082,     0.82182,     0.82282,     0.82382,     0.82482,     0.82583,     0.82683,     0.82783,     0.82883,     0.82983,     0.83083,     0.83183,     0.83283,     0.83383,     0.83483,     0.83584,     0.83684,     0.83784,     0.83884,     0.83984,\n",
            "           0.84084,     0.84184,     0.84284,     0.84384,     0.84484,     0.84585,     0.84685,     0.84785,     0.84885,     0.84985,     0.85085,     0.85185,     0.85285,     0.85385,     0.85485,     0.85586,     0.85686,     0.85786,     0.85886,     0.85986,     0.86086,     0.86186,     0.86286,     0.86386,\n",
            "           0.86486,     0.86587,     0.86687,     0.86787,     0.86887,     0.86987,     0.87087,     0.87187,     0.87287,     0.87387,     0.87487,     0.87588,     0.87688,     0.87788,     0.87888,     0.87988,     0.88088,     0.88188,     0.88288,     0.88388,     0.88488,     0.88589,     0.88689,     0.88789,\n",
            "           0.88889,     0.88989,     0.89089,     0.89189,     0.89289,     0.89389,     0.89489,      0.8959,      0.8969,      0.8979,      0.8989,      0.8999,      0.9009,      0.9019,      0.9029,      0.9039,      0.9049,     0.90591,     0.90691,     0.90791,     0.90891,     0.90991,     0.91091,     0.91191,\n",
            "           0.91291,     0.91391,     0.91491,     0.91592,     0.91692,     0.91792,     0.91892,     0.91992,     0.92092,     0.92192,     0.92292,     0.92392,     0.92492,     0.92593,     0.92693,     0.92793,     0.92893,     0.92993,     0.93093,     0.93193,     0.93293,     0.93393,     0.93493,     0.93594,\n",
            "           0.93694,     0.93794,     0.93894,     0.93994,     0.94094,     0.94194,     0.94294,     0.94394,     0.94494,     0.94595,     0.94695,     0.94795,     0.94895,     0.94995,     0.95095,     0.95195,     0.95295,     0.95395,     0.95495,     0.95596,     0.95696,     0.95796,     0.95896,     0.95996,\n",
            "           0.96096,     0.96196,     0.96296,     0.96396,     0.96496,     0.96597,     0.96697,     0.96797,     0.96897,     0.96997,     0.97097,     0.97197,     0.97297,     0.97397,     0.97497,     0.97598,     0.97698,     0.97798,     0.97898,     0.97998,     0.98098,     0.98198,     0.98298,     0.98398,\n",
            "           0.98498,     0.98599,     0.98699,     0.98799,     0.98899,     0.98999,     0.99099,     0.99199,     0.99299,     0.99399,     0.99499,       0.996,       0.997,       0.998,       0.999,           1]), array([[    0.12264,     0.12264,      0.1978, ...,           0,           0,           0],\n",
            "       [    0.16438,     0.16438,     0.21822, ...,           0,           0,           0],\n",
            "       [    0.12632,     0.12632,     0.16257, ...,           0,           0,           0],\n",
            "       ...,\n",
            "       [   0.095652,    0.095652,     0.13257, ...,           0,           0,           0],\n",
            "       [    0.19444,     0.19444,     0.24598, ...,           0,           0,           0],\n",
            "       [    0.14655,     0.14655,     0.19442, ...,           0,           0,           0]]), 'Confidence', 'F1'], [array([          0,    0.001001,    0.002002,    0.003003,    0.004004,    0.005005,    0.006006,    0.007007,    0.008008,    0.009009,     0.01001,    0.011011,    0.012012,    0.013013,    0.014014,    0.015015,    0.016016,    0.017017,    0.018018,    0.019019,     0.02002,    0.021021,    0.022022,    0.023023,\n",
            "          0.024024,    0.025025,    0.026026,    0.027027,    0.028028,    0.029029,     0.03003,    0.031031,    0.032032,    0.033033,    0.034034,    0.035035,    0.036036,    0.037037,    0.038038,    0.039039,     0.04004,    0.041041,    0.042042,    0.043043,    0.044044,    0.045045,    0.046046,    0.047047,\n",
            "          0.048048,    0.049049,     0.05005,    0.051051,    0.052052,    0.053053,    0.054054,    0.055055,    0.056056,    0.057057,    0.058058,    0.059059,     0.06006,    0.061061,    0.062062,    0.063063,    0.064064,    0.065065,    0.066066,    0.067067,    0.068068,    0.069069,     0.07007,    0.071071,\n",
            "          0.072072,    0.073073,    0.074074,    0.075075,    0.076076,    0.077077,    0.078078,    0.079079,     0.08008,    0.081081,    0.082082,    0.083083,    0.084084,    0.085085,    0.086086,    0.087087,    0.088088,    0.089089,     0.09009,    0.091091,    0.092092,    0.093093,    0.094094,    0.095095,\n",
            "          0.096096,    0.097097,    0.098098,    0.099099,      0.1001,      0.1011,      0.1021,      0.1031,      0.1041,     0.10511,     0.10611,     0.10711,     0.10811,     0.10911,     0.11011,     0.11111,     0.11211,     0.11311,     0.11411,     0.11512,     0.11612,     0.11712,     0.11812,     0.11912,\n",
            "           0.12012,     0.12112,     0.12212,     0.12312,     0.12412,     0.12513,     0.12613,     0.12713,     0.12813,     0.12913,     0.13013,     0.13113,     0.13213,     0.13313,     0.13413,     0.13514,     0.13614,     0.13714,     0.13814,     0.13914,     0.14014,     0.14114,     0.14214,     0.14314,\n",
            "           0.14414,     0.14515,     0.14615,     0.14715,     0.14815,     0.14915,     0.15015,     0.15115,     0.15215,     0.15315,     0.15415,     0.15516,     0.15616,     0.15716,     0.15816,     0.15916,     0.16016,     0.16116,     0.16216,     0.16316,     0.16416,     0.16517,     0.16617,     0.16717,\n",
            "           0.16817,     0.16917,     0.17017,     0.17117,     0.17217,     0.17317,     0.17417,     0.17518,     0.17618,     0.17718,     0.17818,     0.17918,     0.18018,     0.18118,     0.18218,     0.18318,     0.18418,     0.18519,     0.18619,     0.18719,     0.18819,     0.18919,     0.19019,     0.19119,\n",
            "           0.19219,     0.19319,     0.19419,      0.1952,      0.1962,      0.1972,      0.1982,      0.1992,      0.2002,      0.2012,      0.2022,      0.2032,      0.2042,     0.20521,     0.20621,     0.20721,     0.20821,     0.20921,     0.21021,     0.21121,     0.21221,     0.21321,     0.21421,     0.21522,\n",
            "           0.21622,     0.21722,     0.21822,     0.21922,     0.22022,     0.22122,     0.22222,     0.22322,     0.22422,     0.22523,     0.22623,     0.22723,     0.22823,     0.22923,     0.23023,     0.23123,     0.23223,     0.23323,     0.23423,     0.23524,     0.23624,     0.23724,     0.23824,     0.23924,\n",
            "           0.24024,     0.24124,     0.24224,     0.24324,     0.24424,     0.24525,     0.24625,     0.24725,     0.24825,     0.24925,     0.25025,     0.25125,     0.25225,     0.25325,     0.25425,     0.25526,     0.25626,     0.25726,     0.25826,     0.25926,     0.26026,     0.26126,     0.26226,     0.26326,\n",
            "           0.26426,     0.26527,     0.26627,     0.26727,     0.26827,     0.26927,     0.27027,     0.27127,     0.27227,     0.27327,     0.27427,     0.27528,     0.27628,     0.27728,     0.27828,     0.27928,     0.28028,     0.28128,     0.28228,     0.28328,     0.28428,     0.28529,     0.28629,     0.28729,\n",
            "           0.28829,     0.28929,     0.29029,     0.29129,     0.29229,     0.29329,     0.29429,      0.2953,      0.2963,      0.2973,      0.2983,      0.2993,      0.3003,      0.3013,      0.3023,      0.3033,      0.3043,     0.30531,     0.30631,     0.30731,     0.30831,     0.30931,     0.31031,     0.31131,\n",
            "           0.31231,     0.31331,     0.31431,     0.31532,     0.31632,     0.31732,     0.31832,     0.31932,     0.32032,     0.32132,     0.32232,     0.32332,     0.32432,     0.32533,     0.32633,     0.32733,     0.32833,     0.32933,     0.33033,     0.33133,     0.33233,     0.33333,     0.33433,     0.33534,\n",
            "           0.33634,     0.33734,     0.33834,     0.33934,     0.34034,     0.34134,     0.34234,     0.34334,     0.34434,     0.34535,     0.34635,     0.34735,     0.34835,     0.34935,     0.35035,     0.35135,     0.35235,     0.35335,     0.35435,     0.35536,     0.35636,     0.35736,     0.35836,     0.35936,\n",
            "           0.36036,     0.36136,     0.36236,     0.36336,     0.36436,     0.36537,     0.36637,     0.36737,     0.36837,     0.36937,     0.37037,     0.37137,     0.37237,     0.37337,     0.37437,     0.37538,     0.37638,     0.37738,     0.37838,     0.37938,     0.38038,     0.38138,     0.38238,     0.38338,\n",
            "           0.38438,     0.38539,     0.38639,     0.38739,     0.38839,     0.38939,     0.39039,     0.39139,     0.39239,     0.39339,     0.39439,      0.3954,      0.3964,      0.3974,      0.3984,      0.3994,      0.4004,      0.4014,      0.4024,      0.4034,      0.4044,     0.40541,     0.40641,     0.40741,\n",
            "           0.40841,     0.40941,     0.41041,     0.41141,     0.41241,     0.41341,     0.41441,     0.41542,     0.41642,     0.41742,     0.41842,     0.41942,     0.42042,     0.42142,     0.42242,     0.42342,     0.42442,     0.42543,     0.42643,     0.42743,     0.42843,     0.42943,     0.43043,     0.43143,\n",
            "           0.43243,     0.43343,     0.43443,     0.43544,     0.43644,     0.43744,     0.43844,     0.43944,     0.44044,     0.44144,     0.44244,     0.44344,     0.44444,     0.44545,     0.44645,     0.44745,     0.44845,     0.44945,     0.45045,     0.45145,     0.45245,     0.45345,     0.45445,     0.45546,\n",
            "           0.45646,     0.45746,     0.45846,     0.45946,     0.46046,     0.46146,     0.46246,     0.46346,     0.46446,     0.46547,     0.46647,     0.46747,     0.46847,     0.46947,     0.47047,     0.47147,     0.47247,     0.47347,     0.47447,     0.47548,     0.47648,     0.47748,     0.47848,     0.47948,\n",
            "           0.48048,     0.48148,     0.48248,     0.48348,     0.48448,     0.48549,     0.48649,     0.48749,     0.48849,     0.48949,     0.49049,     0.49149,     0.49249,     0.49349,     0.49449,      0.4955,      0.4965,      0.4975,      0.4985,      0.4995,      0.5005,      0.5015,      0.5025,      0.5035,\n",
            "            0.5045,     0.50551,     0.50651,     0.50751,     0.50851,     0.50951,     0.51051,     0.51151,     0.51251,     0.51351,     0.51451,     0.51552,     0.51652,     0.51752,     0.51852,     0.51952,     0.52052,     0.52152,     0.52252,     0.52352,     0.52452,     0.52553,     0.52653,     0.52753,\n",
            "           0.52853,     0.52953,     0.53053,     0.53153,     0.53253,     0.53353,     0.53453,     0.53554,     0.53654,     0.53754,     0.53854,     0.53954,     0.54054,     0.54154,     0.54254,     0.54354,     0.54454,     0.54555,     0.54655,     0.54755,     0.54855,     0.54955,     0.55055,     0.55155,\n",
            "           0.55255,     0.55355,     0.55455,     0.55556,     0.55656,     0.55756,     0.55856,     0.55956,     0.56056,     0.56156,     0.56256,     0.56356,     0.56456,     0.56557,     0.56657,     0.56757,     0.56857,     0.56957,     0.57057,     0.57157,     0.57257,     0.57357,     0.57457,     0.57558,\n",
            "           0.57658,     0.57758,     0.57858,     0.57958,     0.58058,     0.58158,     0.58258,     0.58358,     0.58458,     0.58559,     0.58659,     0.58759,     0.58859,     0.58959,     0.59059,     0.59159,     0.59259,     0.59359,     0.59459,      0.5956,      0.5966,      0.5976,      0.5986,      0.5996,\n",
            "            0.6006,      0.6016,      0.6026,      0.6036,      0.6046,     0.60561,     0.60661,     0.60761,     0.60861,     0.60961,     0.61061,     0.61161,     0.61261,     0.61361,     0.61461,     0.61562,     0.61662,     0.61762,     0.61862,     0.61962,     0.62062,     0.62162,     0.62262,     0.62362,\n",
            "           0.62462,     0.62563,     0.62663,     0.62763,     0.62863,     0.62963,     0.63063,     0.63163,     0.63263,     0.63363,     0.63463,     0.63564,     0.63664,     0.63764,     0.63864,     0.63964,     0.64064,     0.64164,     0.64264,     0.64364,     0.64464,     0.64565,     0.64665,     0.64765,\n",
            "           0.64865,     0.64965,     0.65065,     0.65165,     0.65265,     0.65365,     0.65465,     0.65566,     0.65666,     0.65766,     0.65866,     0.65966,     0.66066,     0.66166,     0.66266,     0.66366,     0.66466,     0.66567,     0.66667,     0.66767,     0.66867,     0.66967,     0.67067,     0.67167,\n",
            "           0.67267,     0.67367,     0.67467,     0.67568,     0.67668,     0.67768,     0.67868,     0.67968,     0.68068,     0.68168,     0.68268,     0.68368,     0.68468,     0.68569,     0.68669,     0.68769,     0.68869,     0.68969,     0.69069,     0.69169,     0.69269,     0.69369,     0.69469,      0.6957,\n",
            "            0.6967,      0.6977,      0.6987,      0.6997,      0.7007,      0.7017,      0.7027,      0.7037,      0.7047,     0.70571,     0.70671,     0.70771,     0.70871,     0.70971,     0.71071,     0.71171,     0.71271,     0.71371,     0.71471,     0.71572,     0.71672,     0.71772,     0.71872,     0.71972,\n",
            "           0.72072,     0.72172,     0.72272,     0.72372,     0.72472,     0.72573,     0.72673,     0.72773,     0.72873,     0.72973,     0.73073,     0.73173,     0.73273,     0.73373,     0.73473,     0.73574,     0.73674,     0.73774,     0.73874,     0.73974,     0.74074,     0.74174,     0.74274,     0.74374,\n",
            "           0.74474,     0.74575,     0.74675,     0.74775,     0.74875,     0.74975,     0.75075,     0.75175,     0.75275,     0.75375,     0.75475,     0.75576,     0.75676,     0.75776,     0.75876,     0.75976,     0.76076,     0.76176,     0.76276,     0.76376,     0.76476,     0.76577,     0.76677,     0.76777,\n",
            "           0.76877,     0.76977,     0.77077,     0.77177,     0.77277,     0.77377,     0.77477,     0.77578,     0.77678,     0.77778,     0.77878,     0.77978,     0.78078,     0.78178,     0.78278,     0.78378,     0.78478,     0.78579,     0.78679,     0.78779,     0.78879,     0.78979,     0.79079,     0.79179,\n",
            "           0.79279,     0.79379,     0.79479,      0.7958,      0.7968,      0.7978,      0.7988,      0.7998,      0.8008,      0.8018,      0.8028,      0.8038,      0.8048,     0.80581,     0.80681,     0.80781,     0.80881,     0.80981,     0.81081,     0.81181,     0.81281,     0.81381,     0.81481,     0.81582,\n",
            "           0.81682,     0.81782,     0.81882,     0.81982,     0.82082,     0.82182,     0.82282,     0.82382,     0.82482,     0.82583,     0.82683,     0.82783,     0.82883,     0.82983,     0.83083,     0.83183,     0.83283,     0.83383,     0.83483,     0.83584,     0.83684,     0.83784,     0.83884,     0.83984,\n",
            "           0.84084,     0.84184,     0.84284,     0.84384,     0.84484,     0.84585,     0.84685,     0.84785,     0.84885,     0.84985,     0.85085,     0.85185,     0.85285,     0.85385,     0.85485,     0.85586,     0.85686,     0.85786,     0.85886,     0.85986,     0.86086,     0.86186,     0.86286,     0.86386,\n",
            "           0.86486,     0.86587,     0.86687,     0.86787,     0.86887,     0.86987,     0.87087,     0.87187,     0.87287,     0.87387,     0.87487,     0.87588,     0.87688,     0.87788,     0.87888,     0.87988,     0.88088,     0.88188,     0.88288,     0.88388,     0.88488,     0.88589,     0.88689,     0.88789,\n",
            "           0.88889,     0.88989,     0.89089,     0.89189,     0.89289,     0.89389,     0.89489,      0.8959,      0.8969,      0.8979,      0.8989,      0.8999,      0.9009,      0.9019,      0.9029,      0.9039,      0.9049,     0.90591,     0.90691,     0.90791,     0.90891,     0.90991,     0.91091,     0.91191,\n",
            "           0.91291,     0.91391,     0.91491,     0.91592,     0.91692,     0.91792,     0.91892,     0.91992,     0.92092,     0.92192,     0.92292,     0.92392,     0.92492,     0.92593,     0.92693,     0.92793,     0.92893,     0.92993,     0.93093,     0.93193,     0.93293,     0.93393,     0.93493,     0.93594,\n",
            "           0.93694,     0.93794,     0.93894,     0.93994,     0.94094,     0.94194,     0.94294,     0.94394,     0.94494,     0.94595,     0.94695,     0.94795,     0.94895,     0.94995,     0.95095,     0.95195,     0.95295,     0.95395,     0.95495,     0.95596,     0.95696,     0.95796,     0.95896,     0.95996,\n",
            "           0.96096,     0.96196,     0.96296,     0.96396,     0.96496,     0.96597,     0.96697,     0.96797,     0.96897,     0.96997,     0.97097,     0.97197,     0.97297,     0.97397,     0.97497,     0.97598,     0.97698,     0.97798,     0.97898,     0.97998,     0.98098,     0.98198,     0.98298,     0.98398,\n",
            "           0.98498,     0.98599,     0.98699,     0.98799,     0.98899,     0.98999,     0.99099,     0.99199,     0.99299,     0.99399,     0.99499,       0.996,       0.997,       0.998,       0.999,           1]), array([[   0.065327,    0.065327,     0.10976, ...,           1,           1,           1],\n",
            "       [   0.089552,    0.089552,     0.12247, ...,           1,           1,           1],\n",
            "       [   0.067416,    0.067416,    0.088475, ...,           1,           1,           1],\n",
            "       ...,\n",
            "       [   0.050228,    0.050228,    0.070991, ...,           1,           1,           1],\n",
            "       [    0.10769,     0.10769,     0.14024, ...,           1,           1,           1],\n",
            "       [    0.07907,     0.07907,     0.10768, ...,           1,           1,           1]]), 'Confidence', 'Precision'], [array([          0,    0.001001,    0.002002,    0.003003,    0.004004,    0.005005,    0.006006,    0.007007,    0.008008,    0.009009,     0.01001,    0.011011,    0.012012,    0.013013,    0.014014,    0.015015,    0.016016,    0.017017,    0.018018,    0.019019,     0.02002,    0.021021,    0.022022,    0.023023,\n",
            "          0.024024,    0.025025,    0.026026,    0.027027,    0.028028,    0.029029,     0.03003,    0.031031,    0.032032,    0.033033,    0.034034,    0.035035,    0.036036,    0.037037,    0.038038,    0.039039,     0.04004,    0.041041,    0.042042,    0.043043,    0.044044,    0.045045,    0.046046,    0.047047,\n",
            "          0.048048,    0.049049,     0.05005,    0.051051,    0.052052,    0.053053,    0.054054,    0.055055,    0.056056,    0.057057,    0.058058,    0.059059,     0.06006,    0.061061,    0.062062,    0.063063,    0.064064,    0.065065,    0.066066,    0.067067,    0.068068,    0.069069,     0.07007,    0.071071,\n",
            "          0.072072,    0.073073,    0.074074,    0.075075,    0.076076,    0.077077,    0.078078,    0.079079,     0.08008,    0.081081,    0.082082,    0.083083,    0.084084,    0.085085,    0.086086,    0.087087,    0.088088,    0.089089,     0.09009,    0.091091,    0.092092,    0.093093,    0.094094,    0.095095,\n",
            "          0.096096,    0.097097,    0.098098,    0.099099,      0.1001,      0.1011,      0.1021,      0.1031,      0.1041,     0.10511,     0.10611,     0.10711,     0.10811,     0.10911,     0.11011,     0.11111,     0.11211,     0.11311,     0.11411,     0.11512,     0.11612,     0.11712,     0.11812,     0.11912,\n",
            "           0.12012,     0.12112,     0.12212,     0.12312,     0.12412,     0.12513,     0.12613,     0.12713,     0.12813,     0.12913,     0.13013,     0.13113,     0.13213,     0.13313,     0.13413,     0.13514,     0.13614,     0.13714,     0.13814,     0.13914,     0.14014,     0.14114,     0.14214,     0.14314,\n",
            "           0.14414,     0.14515,     0.14615,     0.14715,     0.14815,     0.14915,     0.15015,     0.15115,     0.15215,     0.15315,     0.15415,     0.15516,     0.15616,     0.15716,     0.15816,     0.15916,     0.16016,     0.16116,     0.16216,     0.16316,     0.16416,     0.16517,     0.16617,     0.16717,\n",
            "           0.16817,     0.16917,     0.17017,     0.17117,     0.17217,     0.17317,     0.17417,     0.17518,     0.17618,     0.17718,     0.17818,     0.17918,     0.18018,     0.18118,     0.18218,     0.18318,     0.18418,     0.18519,     0.18619,     0.18719,     0.18819,     0.18919,     0.19019,     0.19119,\n",
            "           0.19219,     0.19319,     0.19419,      0.1952,      0.1962,      0.1972,      0.1982,      0.1992,      0.2002,      0.2012,      0.2022,      0.2032,      0.2042,     0.20521,     0.20621,     0.20721,     0.20821,     0.20921,     0.21021,     0.21121,     0.21221,     0.21321,     0.21421,     0.21522,\n",
            "           0.21622,     0.21722,     0.21822,     0.21922,     0.22022,     0.22122,     0.22222,     0.22322,     0.22422,     0.22523,     0.22623,     0.22723,     0.22823,     0.22923,     0.23023,     0.23123,     0.23223,     0.23323,     0.23423,     0.23524,     0.23624,     0.23724,     0.23824,     0.23924,\n",
            "           0.24024,     0.24124,     0.24224,     0.24324,     0.24424,     0.24525,     0.24625,     0.24725,     0.24825,     0.24925,     0.25025,     0.25125,     0.25225,     0.25325,     0.25425,     0.25526,     0.25626,     0.25726,     0.25826,     0.25926,     0.26026,     0.26126,     0.26226,     0.26326,\n",
            "           0.26426,     0.26527,     0.26627,     0.26727,     0.26827,     0.26927,     0.27027,     0.27127,     0.27227,     0.27327,     0.27427,     0.27528,     0.27628,     0.27728,     0.27828,     0.27928,     0.28028,     0.28128,     0.28228,     0.28328,     0.28428,     0.28529,     0.28629,     0.28729,\n",
            "           0.28829,     0.28929,     0.29029,     0.29129,     0.29229,     0.29329,     0.29429,      0.2953,      0.2963,      0.2973,      0.2983,      0.2993,      0.3003,      0.3013,      0.3023,      0.3033,      0.3043,     0.30531,     0.30631,     0.30731,     0.30831,     0.30931,     0.31031,     0.31131,\n",
            "           0.31231,     0.31331,     0.31431,     0.31532,     0.31632,     0.31732,     0.31832,     0.31932,     0.32032,     0.32132,     0.32232,     0.32332,     0.32432,     0.32533,     0.32633,     0.32733,     0.32833,     0.32933,     0.33033,     0.33133,     0.33233,     0.33333,     0.33433,     0.33534,\n",
            "           0.33634,     0.33734,     0.33834,     0.33934,     0.34034,     0.34134,     0.34234,     0.34334,     0.34434,     0.34535,     0.34635,     0.34735,     0.34835,     0.34935,     0.35035,     0.35135,     0.35235,     0.35335,     0.35435,     0.35536,     0.35636,     0.35736,     0.35836,     0.35936,\n",
            "           0.36036,     0.36136,     0.36236,     0.36336,     0.36436,     0.36537,     0.36637,     0.36737,     0.36837,     0.36937,     0.37037,     0.37137,     0.37237,     0.37337,     0.37437,     0.37538,     0.37638,     0.37738,     0.37838,     0.37938,     0.38038,     0.38138,     0.38238,     0.38338,\n",
            "           0.38438,     0.38539,     0.38639,     0.38739,     0.38839,     0.38939,     0.39039,     0.39139,     0.39239,     0.39339,     0.39439,      0.3954,      0.3964,      0.3974,      0.3984,      0.3994,      0.4004,      0.4014,      0.4024,      0.4034,      0.4044,     0.40541,     0.40641,     0.40741,\n",
            "           0.40841,     0.40941,     0.41041,     0.41141,     0.41241,     0.41341,     0.41441,     0.41542,     0.41642,     0.41742,     0.41842,     0.41942,     0.42042,     0.42142,     0.42242,     0.42342,     0.42442,     0.42543,     0.42643,     0.42743,     0.42843,     0.42943,     0.43043,     0.43143,\n",
            "           0.43243,     0.43343,     0.43443,     0.43544,     0.43644,     0.43744,     0.43844,     0.43944,     0.44044,     0.44144,     0.44244,     0.44344,     0.44444,     0.44545,     0.44645,     0.44745,     0.44845,     0.44945,     0.45045,     0.45145,     0.45245,     0.45345,     0.45445,     0.45546,\n",
            "           0.45646,     0.45746,     0.45846,     0.45946,     0.46046,     0.46146,     0.46246,     0.46346,     0.46446,     0.46547,     0.46647,     0.46747,     0.46847,     0.46947,     0.47047,     0.47147,     0.47247,     0.47347,     0.47447,     0.47548,     0.47648,     0.47748,     0.47848,     0.47948,\n",
            "           0.48048,     0.48148,     0.48248,     0.48348,     0.48448,     0.48549,     0.48649,     0.48749,     0.48849,     0.48949,     0.49049,     0.49149,     0.49249,     0.49349,     0.49449,      0.4955,      0.4965,      0.4975,      0.4985,      0.4995,      0.5005,      0.5015,      0.5025,      0.5035,\n",
            "            0.5045,     0.50551,     0.50651,     0.50751,     0.50851,     0.50951,     0.51051,     0.51151,     0.51251,     0.51351,     0.51451,     0.51552,     0.51652,     0.51752,     0.51852,     0.51952,     0.52052,     0.52152,     0.52252,     0.52352,     0.52452,     0.52553,     0.52653,     0.52753,\n",
            "           0.52853,     0.52953,     0.53053,     0.53153,     0.53253,     0.53353,     0.53453,     0.53554,     0.53654,     0.53754,     0.53854,     0.53954,     0.54054,     0.54154,     0.54254,     0.54354,     0.54454,     0.54555,     0.54655,     0.54755,     0.54855,     0.54955,     0.55055,     0.55155,\n",
            "           0.55255,     0.55355,     0.55455,     0.55556,     0.55656,     0.55756,     0.55856,     0.55956,     0.56056,     0.56156,     0.56256,     0.56356,     0.56456,     0.56557,     0.56657,     0.56757,     0.56857,     0.56957,     0.57057,     0.57157,     0.57257,     0.57357,     0.57457,     0.57558,\n",
            "           0.57658,     0.57758,     0.57858,     0.57958,     0.58058,     0.58158,     0.58258,     0.58358,     0.58458,     0.58559,     0.58659,     0.58759,     0.58859,     0.58959,     0.59059,     0.59159,     0.59259,     0.59359,     0.59459,      0.5956,      0.5966,      0.5976,      0.5986,      0.5996,\n",
            "            0.6006,      0.6016,      0.6026,      0.6036,      0.6046,     0.60561,     0.60661,     0.60761,     0.60861,     0.60961,     0.61061,     0.61161,     0.61261,     0.61361,     0.61461,     0.61562,     0.61662,     0.61762,     0.61862,     0.61962,     0.62062,     0.62162,     0.62262,     0.62362,\n",
            "           0.62462,     0.62563,     0.62663,     0.62763,     0.62863,     0.62963,     0.63063,     0.63163,     0.63263,     0.63363,     0.63463,     0.63564,     0.63664,     0.63764,     0.63864,     0.63964,     0.64064,     0.64164,     0.64264,     0.64364,     0.64464,     0.64565,     0.64665,     0.64765,\n",
            "           0.64865,     0.64965,     0.65065,     0.65165,     0.65265,     0.65365,     0.65465,     0.65566,     0.65666,     0.65766,     0.65866,     0.65966,     0.66066,     0.66166,     0.66266,     0.66366,     0.66466,     0.66567,     0.66667,     0.66767,     0.66867,     0.66967,     0.67067,     0.67167,\n",
            "           0.67267,     0.67367,     0.67467,     0.67568,     0.67668,     0.67768,     0.67868,     0.67968,     0.68068,     0.68168,     0.68268,     0.68368,     0.68468,     0.68569,     0.68669,     0.68769,     0.68869,     0.68969,     0.69069,     0.69169,     0.69269,     0.69369,     0.69469,      0.6957,\n",
            "            0.6967,      0.6977,      0.6987,      0.6997,      0.7007,      0.7017,      0.7027,      0.7037,      0.7047,     0.70571,     0.70671,     0.70771,     0.70871,     0.70971,     0.71071,     0.71171,     0.71271,     0.71371,     0.71471,     0.71572,     0.71672,     0.71772,     0.71872,     0.71972,\n",
            "           0.72072,     0.72172,     0.72272,     0.72372,     0.72472,     0.72573,     0.72673,     0.72773,     0.72873,     0.72973,     0.73073,     0.73173,     0.73273,     0.73373,     0.73473,     0.73574,     0.73674,     0.73774,     0.73874,     0.73974,     0.74074,     0.74174,     0.74274,     0.74374,\n",
            "           0.74474,     0.74575,     0.74675,     0.74775,     0.74875,     0.74975,     0.75075,     0.75175,     0.75275,     0.75375,     0.75475,     0.75576,     0.75676,     0.75776,     0.75876,     0.75976,     0.76076,     0.76176,     0.76276,     0.76376,     0.76476,     0.76577,     0.76677,     0.76777,\n",
            "           0.76877,     0.76977,     0.77077,     0.77177,     0.77277,     0.77377,     0.77477,     0.77578,     0.77678,     0.77778,     0.77878,     0.77978,     0.78078,     0.78178,     0.78278,     0.78378,     0.78478,     0.78579,     0.78679,     0.78779,     0.78879,     0.78979,     0.79079,     0.79179,\n",
            "           0.79279,     0.79379,     0.79479,      0.7958,      0.7968,      0.7978,      0.7988,      0.7998,      0.8008,      0.8018,      0.8028,      0.8038,      0.8048,     0.80581,     0.80681,     0.80781,     0.80881,     0.80981,     0.81081,     0.81181,     0.81281,     0.81381,     0.81481,     0.81582,\n",
            "           0.81682,     0.81782,     0.81882,     0.81982,     0.82082,     0.82182,     0.82282,     0.82382,     0.82482,     0.82583,     0.82683,     0.82783,     0.82883,     0.82983,     0.83083,     0.83183,     0.83283,     0.83383,     0.83483,     0.83584,     0.83684,     0.83784,     0.83884,     0.83984,\n",
            "           0.84084,     0.84184,     0.84284,     0.84384,     0.84484,     0.84585,     0.84685,     0.84785,     0.84885,     0.84985,     0.85085,     0.85185,     0.85285,     0.85385,     0.85485,     0.85586,     0.85686,     0.85786,     0.85886,     0.85986,     0.86086,     0.86186,     0.86286,     0.86386,\n",
            "           0.86486,     0.86587,     0.86687,     0.86787,     0.86887,     0.86987,     0.87087,     0.87187,     0.87287,     0.87387,     0.87487,     0.87588,     0.87688,     0.87788,     0.87888,     0.87988,     0.88088,     0.88188,     0.88288,     0.88388,     0.88488,     0.88589,     0.88689,     0.88789,\n",
            "           0.88889,     0.88989,     0.89089,     0.89189,     0.89289,     0.89389,     0.89489,      0.8959,      0.8969,      0.8979,      0.8989,      0.8999,      0.9009,      0.9019,      0.9029,      0.9039,      0.9049,     0.90591,     0.90691,     0.90791,     0.90891,     0.90991,     0.91091,     0.91191,\n",
            "           0.91291,     0.91391,     0.91491,     0.91592,     0.91692,     0.91792,     0.91892,     0.91992,     0.92092,     0.92192,     0.92292,     0.92392,     0.92492,     0.92593,     0.92693,     0.92793,     0.92893,     0.92993,     0.93093,     0.93193,     0.93293,     0.93393,     0.93493,     0.93594,\n",
            "           0.93694,     0.93794,     0.93894,     0.93994,     0.94094,     0.94194,     0.94294,     0.94394,     0.94494,     0.94595,     0.94695,     0.94795,     0.94895,     0.94995,     0.95095,     0.95195,     0.95295,     0.95395,     0.95495,     0.95596,     0.95696,     0.95796,     0.95896,     0.95996,\n",
            "           0.96096,     0.96196,     0.96296,     0.96396,     0.96496,     0.96597,     0.96697,     0.96797,     0.96897,     0.96997,     0.97097,     0.97197,     0.97297,     0.97397,     0.97497,     0.97598,     0.97698,     0.97798,     0.97898,     0.97998,     0.98098,     0.98198,     0.98298,     0.98398,\n",
            "           0.98498,     0.98599,     0.98699,     0.98799,     0.98899,     0.98999,     0.99099,     0.99199,     0.99299,     0.99399,     0.99499,       0.996,       0.997,       0.998,       0.999,           1]), array([[          1,           1,           1, ...,           0,           0,           0],\n",
            "       [          1,           1,           1, ...,           0,           0,           0],\n",
            "       [          1,           1,           1, ...,           0,           0,           0],\n",
            "       ...,\n",
            "       [          1,           1,           1, ...,           0,           0,           0],\n",
            "       [          1,           1,           1, ...,           0,           0,           0],\n",
            "       [          1,           1,           1, ...,           0,           0,           0]]), 'Confidence', 'Recall']]\n",
            "fitness: 0.8646578257414864\n",
            "keys: ['metrics/precision(B)', 'metrics/recall(B)', 'metrics/mAP50(B)', 'metrics/mAP50-95(B)']\n",
            "maps: array([    0.84442,     0.84858,     0.88909,     0.83389,     0.82371,     0.84211,     0.80158,     0.86018,     0.81589,     0.85687,     0.86766,     0.83992,     0.89065,     0.85873,     0.92871,     0.88977,     0.82027,     0.87549,     0.82945,     0.84231,     0.83984,     0.85941,     0.82263,     0.84129,\n",
            "           0.85733,     0.87118,     0.85287,     0.85303,     0.84369,     0.80298,      0.7795,     0.83985,     0.79906,     0.91801,      0.8398,     0.81832,     0.90751,     0.87318,     0.86289,     0.87227,     0.86853,     0.89782,     0.86124,     0.85421,     0.84708,     0.84765,     0.81619,     0.83811,\n",
            "           0.82356,     0.87181,     0.84932,     0.83902])\n",
            "names: {0: '10_C', 1: '10_D', 2: '10_H', 3: '10_S', 4: '2_C', 5: '2_D', 6: '2_H', 7: '2_S', 8: '3_C', 9: '3_D', 10: '3_H', 11: '3_S', 12: '4_C', 13: '4_D', 14: '4_H', 15: '4_S', 16: '5_C', 17: '5_D', 18: '5_H', 19: '5_S', 20: '6_C', 21: '6_D', 22: '6_H', 23: '6_S', 24: '7_C', 25: '7_D', 26: '7_H', 27: '7_S', 28: '8_C', 29: '8_D', 30: '8_H', 31: '8_S', 32: '9_C', 33: '9_D', 34: '9_H', 35: '9_S', 36: 'A_C', 37: 'A_D', 38: 'A_H', 39: 'A_S', 40: 'J_C', 41: 'J_D', 42: 'J_H', 43: 'J_S', 44: 'K_C', 45: 'K_D', 46: 'K_H', 47: 'K_S', 48: 'Q_C', 49: 'Q_D', 50: 'Q_H', 51: 'Q_S'}\n",
            "plot: True\n",
            "results_dict: {'metrics/precision(B)': 0.9674514828968944, 'metrics/recall(B)': 0.9768092276880247, 'metrics/mAP50(B)': 0.9916582461655989, 'metrics/mAP50-95(B)': 0.8505466679165851, 'fitness': 0.8646578257414864}\n",
            "save_dir: PosixPath('runs/detect/val2')\n",
            "speed: {'preprocess': 0.3777874840630426, 'inference': 6.483020605864348, 'loss': 0.0016733452125831886, 'postprocess': 6.539468412046079}\n",
            "task: 'detect'\n"
          ]
        }
      ]
    }
  ]
}